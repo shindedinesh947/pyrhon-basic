{
 "cells": [
  {
   "cell_type": "markdown",
   "id": "7e436e61-f101-43c4-9b50-ff225116fb47",
   "metadata": {},
   "source": [
    "Data Types"
   ]
  },
  {
   "cell_type": "markdown",
   "id": "1339b4e7-e8c8-4fb3-b6e8-42972d6334a7",
   "metadata": {},
   "source": [
    "int: no without decimal point .\n"
   ]
  },
  {
   "cell_type": "markdown",
   "id": "b970c80f-ce4d-484e-a108-9a4305693d0d",
   "metadata": {},
   "source": [
    "float: no. without decimal point."
   ]
  },
  {
   "cell_type": "markdown",
   "id": "ef44a1f7-7308-44e9-80ff-8034fb3b9adf",
   "metadata": {},
   "source": [
    "str: text enclosed in ''.\"\".''' '''.(single,double or triple qoutes)"
   ]
  },
  {
   "cell_type": "markdown",
   "id": "6b31746d-9c63-4af3-9b07-a287808ad002",
   "metadata": {},
   "source": [
    "complex: real part + imaginary part."
   ]
  },
  {
   "cell_type": "markdown",
   "id": "75577996-f4ac-457a-9fee-1623180cae19",
   "metadata": {},
   "source": [
    "bool: True or False"
   ]
  },
  {
   "cell_type": "code",
   "execution_count": 7,
   "id": "77942885-8e2d-4fcd-8d95-9e4c447d9d1d",
   "metadata": {},
   "outputs": [],
   "source": [
    "import sys \n",
    "import keyword \n",
    "import operator \n",
    "from datetime import datetime \n",
    "import os "
   ]
  },
  {
   "cell_type": "markdown",
   "id": "e6422b65-4e25-48d6-b2b3-7bd5d99d5b04",
   "metadata": {},
   "source": [
    "int :"
   ]
  },
  {
   "cell_type": "code",
   "execution_count": 11,
   "id": "c187fd5f-7369-41b1-9709-c5febfa51916",
   "metadata": {},
   "outputs": [
    {
     "data": {
      "text/plain": [
       "4"
      ]
     },
     "execution_count": 11,
     "metadata": {},
     "output_type": "execute_result"
    }
   ],
   "source": [
    "i=4\n",
    "i"
   ]
  },
  {
   "cell_type": "code",
   "execution_count": 13,
   "id": "5c19bced-8962-4065-9aed-e97c936be425",
   "metadata": {},
   "outputs": [
    {
     "name": "stdout",
     "output_type": "stream",
     "text": [
      "<class 'int'>\n"
     ]
    }
   ],
   "source": [
    "print(type(i))"
   ]
  },
  {
   "cell_type": "code",
   "execution_count": 15,
   "id": "6120105d-9360-4aef-b326-cdc0bdedaf4a",
   "metadata": {},
   "outputs": [
    {
     "name": "stdout",
     "output_type": "stream",
     "text": [
      "9\n",
      "<class 'int'>\n"
     ]
    }
   ],
   "source": [
    "x=9\n",
    "print(x)\n",
    "print(type(x))"
   ]
  },
  {
   "cell_type": "code",
   "execution_count": 19,
   "id": "beb9c39c-fadd-4c93-9a81-0ee8e6913819",
   "metadata": {},
   "outputs": [
    {
     "name": "stdout",
     "output_type": "stream",
     "text": [
      "10\n",
      "<class 'int'>\n",
      "28\n",
      "10 is interger True\n"
     ]
    }
   ],
   "source": [
    "val1=10\n",
    "print(val1)\n",
    "print(type(val1)) #prints type of variable\n",
    "print(sys.getsizeof (val1))#size of int in bytes     \n",
    "print(val1,\"is interger\", isinstance(val1,int)) #check val1 is instance of int \n",
    "      "
   ]
  },
  {
   "cell_type": "code",
   "execution_count": 21,
   "id": "99d642d1-dea9-4c97-8a94-c7b6962ff618",
   "metadata": {},
   "outputs": [
    {
     "data": {
      "text/plain": [
       "28"
      ]
     },
     "execution_count": 21,
     "metadata": {},
     "output_type": "execute_result"
    }
   ],
   "source": [
    "sys.getsizeof (int())"
   ]
  },
  {
   "cell_type": "markdown",
   "id": "cd1f926b-d9a9-4296-a74c-4e5ca11fa31c",
   "metadata": {},
   "source": [
    "Float"
   ]
  },
  {
   "cell_type": "code",
   "execution_count": 24,
   "id": "1450de39-e123-45ff-ad03-d9f4ddc6fc31",
   "metadata": {},
   "outputs": [
    {
     "name": "stdout",
     "output_type": "stream",
     "text": [
      "110.78\n",
      "<class 'float'>\n"
     ]
    }
   ],
   "source": [
    "f=110.78\n",
    "print(f)\n",
    "print(type(f))"
   ]
  },
  {
   "cell_type": "code",
   "execution_count": 4,
   "id": "1b6814b8-53d2-400a-a763-33a1987c3160",
   "metadata": {},
   "outputs": [
    {
     "data": {
      "text/plain": [
       "3.0"
      ]
     },
     "execution_count": 4,
     "metadata": {},
     "output_type": "execute_result"
    }
   ],
   "source": [
    "f1=3e0 #here, e is exponential.\n",
    "f1"
   ]
  },
  {
   "cell_type": "markdown",
   "id": "272aad7c-1b20-4e08-b938-3467812b53d6",
   "metadata": {},
   "source": [
    "f2=3e1\n",
    "f2"
   ]
  },
  {
   "cell_type": "code",
   "execution_count": 7,
   "id": "67183e30-6f82-476c-9629-726c2da2d18e",
   "metadata": {},
   "outputs": [
    {
     "data": {
      "text/plain": [
       "230.0"
      ]
     },
     "execution_count": 7,
     "metadata": {},
     "output_type": "execute_result"
    }
   ],
   "source": [
    "f3=2.3e2\n",
    "f3"
   ]
  },
  {
   "cell_type": "code",
   "execution_count": 53,
   "id": "95507b1d-5385-449c-9565-28d32495aa36",
   "metadata": {},
   "outputs": [
    {
     "name": "stdout",
     "output_type": "stream",
     "text": [
      "89.45\n",
      "<class 'float'>\n",
      "89.45 is float? True\n"
     ]
    }
   ],
   "source": [
    "val1=89.45\n",
    "print(val1)\n",
    "print(type(val1))\n",
    "print(val1,\"is float?\",isinstance(val1,float))\n"
   ]
  },
  {
   "cell_type": "code",
   "execution_count": 55,
   "id": "5c697634-7e29-4035-84cb-9b9e62253e30",
   "metadata": {},
   "outputs": [
    {
     "ename": "NameError",
     "evalue": "name 'sys' is not defined",
     "output_type": "error",
     "traceback": [
      "\u001b[1;31m---------------------------------------------------------------------------\u001b[0m",
      "\u001b[1;31mNameError\u001b[0m                                 Traceback (most recent call last)",
      "Cell \u001b[1;32mIn[55], line 1\u001b[0m\n\u001b[1;32m----> 1\u001b[0m \u001b[38;5;28mprint\u001b[39m(sys\u001b[38;5;241m.\u001b[39mgetsizeof(val1))\n",
      "\u001b[1;31mNameError\u001b[0m: name 'sys' is not defined"
     ]
    }
   ],
   "source": [
    "print(sys.getsizeof(val1))"
   ]
  },
  {
   "cell_type": "markdown",
   "id": "0340e2ef-d14e-4ab9-9312-3b9f8bb364d7",
   "metadata": {},
   "source": [
    "Boolean"
   ]
  },
  {
   "cell_type": "code",
   "execution_count": 64,
   "id": "5875a6b4-31b4-4b28-9e14-2caaa9e31538",
   "metadata": {},
   "outputs": [
    {
     "data": {
      "text/plain": [
       "True"
      ]
     },
     "execution_count": 64,
     "metadata": {},
     "output_type": "execute_result"
    }
   ],
   "source": [
    "True"
   ]
  },
  {
   "cell_type": "code",
   "execution_count": 66,
   "id": "88a5ad60-e217-41fc-85cc-caf19db783f1",
   "metadata": {},
   "outputs": [
    {
     "data": {
      "text/plain": [
       "False"
      ]
     },
     "execution_count": 66,
     "metadata": {},
     "output_type": "execute_result"
    }
   ],
   "source": [
    "False"
   ]
  },
  {
   "cell_type": "code",
   "execution_count": 70,
   "id": "a80b28dc-d976-4ce2-8b6f-360711dbffe8",
   "metadata": {},
   "outputs": [
    {
     "data": {
      "text/plain": [
       "1"
      ]
     },
     "execution_count": 70,
     "metadata": {},
     "output_type": "execute_result"
    }
   ],
   "source": [
    "True+False #true=1, false=0"
   ]
  },
  {
   "cell_type": "code",
   "execution_count": 72,
   "id": "b423dcc5-8aed-4d17-b76b-af7cbdd6dd9f",
   "metadata": {},
   "outputs": [
    {
     "data": {
      "text/plain": [
       "2"
      ]
     },
     "execution_count": 72,
     "metadata": {},
     "output_type": "execute_result"
    }
   ],
   "source": [
    "True+True"
   ]
  },
  {
   "cell_type": "code",
   "execution_count": 74,
   "id": "c9267ee2-186b-4b78-b940-841d664922b9",
   "metadata": {},
   "outputs": [
    {
     "data": {
      "text/plain": [
       "2"
      ]
     },
     "execution_count": 74,
     "metadata": {},
     "output_type": "execute_result"
    }
   ],
   "source": [
    "True+False+True"
   ]
  },
  {
   "cell_type": "code",
   "execution_count": 78,
   "id": "8fbda39f-7090-4396-90e6-b43afa88e9e2",
   "metadata": {},
   "outputs": [
    {
     "data": {
      "text/plain": [
       "1"
      ]
     },
     "execution_count": 78,
     "metadata": {},
     "output_type": "execute_result"
    }
   ],
   "source": [
    "True+(False*True)-False"
   ]
  },
  {
   "cell_type": "code",
   "execution_count": 82,
   "id": "a783c4f1-f4e5-4a95-b5cd-68436fc73aba",
   "metadata": {},
   "outputs": [
    {
     "data": {
      "text/plain": [
       "1"
      ]
     },
     "execution_count": 82,
     "metadata": {},
     "output_type": "execute_result"
    }
   ],
   "source": [
    "b=True+(False*True)-False\n",
    "b"
   ]
  },
  {
   "cell_type": "code",
   "execution_count": 86,
   "id": "883a8caa-bdbd-4b63-a68a-9ee940b7b3ee",
   "metadata": {},
   "outputs": [],
   "source": [
    "bool1=True"
   ]
  },
  {
   "cell_type": "code",
   "execution_count": 90,
   "id": "6228c08d-c55c-4095-8349-de90bdc8cb01",
   "metadata": {},
   "outputs": [],
   "source": [
    "bool2=False"
   ]
  },
  {
   "cell_type": "code",
   "execution_count": 92,
   "id": "5bfa6764-1e3d-4d8a-abef-4170866b28bd",
   "metadata": {},
   "outputs": [
    {
     "name": "stdout",
     "output_type": "stream",
     "text": [
      "<class 'bool'>\n"
     ]
    }
   ],
   "source": [
    "print(type(bool1))"
   ]
  },
  {
   "cell_type": "code",
   "execution_count": 94,
   "id": "137cfda0-4c52-47bc-9b89-d3195ce1ce68",
   "metadata": {},
   "outputs": [
    {
     "name": "stdout",
     "output_type": "stream",
     "text": [
      "<class 'bool'>\n"
     ]
    }
   ],
   "source": [
    "print(type(bool2))"
   ]
  },
  {
   "cell_type": "code",
   "execution_count": 100,
   "id": "c14df3e2-c0c3-4e24-b26b-03f0c4b1d371",
   "metadata": {},
   "outputs": [
    {
     "data": {
      "text/plain": [
       "True"
      ]
     },
     "execution_count": 100,
     "metadata": {},
     "output_type": "execute_result"
    }
   ],
   "source": [
    "isinstance(bool2,bool)"
   ]
  },
  {
   "cell_type": "code",
   "execution_count": 102,
   "id": "ed3c3911-e1a3-4fea-93f3-87c1d302a3ec",
   "metadata": {},
   "outputs": [
    {
     "data": {
      "text/plain": [
       "True"
      ]
     },
     "execution_count": 102,
     "metadata": {},
     "output_type": "execute_result"
    }
   ],
   "source": [
    "bool(1)"
   ]
  },
  {
   "cell_type": "code",
   "execution_count": 104,
   "id": "f3091ea7-c066-4322-b324-2542bd6551db",
   "metadata": {},
   "outputs": [
    {
     "data": {
      "text/plain": [
       "True"
      ]
     },
     "execution_count": 104,
     "metadata": {},
     "output_type": "execute_result"
    }
   ],
   "source": [
    "bool(2)"
   ]
  },
  {
   "cell_type": "code",
   "execution_count": 106,
   "id": "c075ba76-6fe9-43f2-af5a-d671e45311e5",
   "metadata": {},
   "outputs": [
    {
     "data": {
      "text/plain": [
       "False"
      ]
     },
     "execution_count": 106,
     "metadata": {},
     "output_type": "execute_result"
    }
   ],
   "source": [
    "bool(0)"
   ]
  },
  {
   "cell_type": "code",
   "execution_count": 108,
   "id": "d39a5161-f964-4ada-9569-5c421e5f55d9",
   "metadata": {},
   "outputs": [
    {
     "data": {
      "text/plain": [
       "False"
      ]
     },
     "execution_count": 108,
     "metadata": {},
     "output_type": "execute_result"
    }
   ],
   "source": [
    "bool(None)"
   ]
  },
  {
   "cell_type": "code",
   "execution_count": 110,
   "id": "03a58544-e4bc-4170-aea0-9e716a4eece6",
   "metadata": {},
   "outputs": [
    {
     "data": {
      "text/plain": [
       "False"
      ]
     },
     "execution_count": 110,
     "metadata": {},
     "output_type": "execute_result"
    }
   ],
   "source": [
    "bool(False)"
   ]
  },
  {
   "cell_type": "markdown",
   "id": "43a0b0a5-6e77-461e-8434-184c611f4941",
   "metadata": {},
   "source": [
    "Complex"
   ]
  },
  {
   "cell_type": "code",
   "execution_count": 115,
   "id": "c9df7631-b38c-4072-8344-331559876097",
   "metadata": {},
   "outputs": [
    {
     "data": {
      "text/plain": [
       "(10+20j)"
      ]
     },
     "execution_count": 115,
     "metadata": {},
     "output_type": "execute_result"
    }
   ],
   "source": [
    "c=10+20j\n",
    "c"
   ]
  },
  {
   "cell_type": "code",
   "execution_count": 117,
   "id": "21f16666-cce9-4093-bef1-baa0d4e95617",
   "metadata": {},
   "outputs": [
    {
     "name": "stdout",
     "output_type": "stream",
     "text": [
      "<class 'complex'>\n"
     ]
    }
   ],
   "source": [
    "print(type(c))"
   ]
  },
  {
   "cell_type": "code",
   "execution_count": 119,
   "id": "b033ef86-a544-41c9-97a2-5766129ee4bd",
   "metadata": {},
   "outputs": [
    {
     "data": {
      "text/plain": [
       "(30+40j)"
      ]
     },
     "execution_count": 119,
     "metadata": {},
     "output_type": "execute_result"
    }
   ],
   "source": [
    "d=30+40j\n",
    "d"
   ]
  },
  {
   "cell_type": "code",
   "execution_count": 121,
   "id": "48d6a5c2-d1f7-42bf-bb71-01148c96f2fe",
   "metadata": {},
   "outputs": [
    {
     "name": "stdout",
     "output_type": "stream",
     "text": [
      "<class 'complex'>\n"
     ]
    }
   ],
   "source": [
    "print(type(d))"
   ]
  },
  {
   "cell_type": "code",
   "execution_count": 125,
   "id": "1b3e43b9-ba9d-4328-9b38-3e266f195cd5",
   "metadata": {},
   "outputs": [
    {
     "name": "stdout",
     "output_type": "stream",
     "text": [
      "(10+20j)\n",
      "(30+40j)\n"
     ]
    }
   ],
   "source": [
    "print(c)\n",
    "print(d)"
   ]
  },
  {
   "cell_type": "code",
   "execution_count": 127,
   "id": "1ef47056-80fd-4e85-9ffa-7daf78731e10",
   "metadata": {},
   "outputs": [
    {
     "name": "stdout",
     "output_type": "stream",
     "text": [
      "(40+60j)\n"
     ]
    }
   ],
   "source": [
    "print(c+d)"
   ]
  },
  {
   "cell_type": "code",
   "execution_count": 131,
   "id": "4e178d66-7c6b-45bd-8237-5af2feb7efc5",
   "metadata": {},
   "outputs": [
    {
     "name": "stdout",
     "output_type": "stream",
     "text": [
      "(-20-20j)\n"
     ]
    }
   ],
   "source": [
    "print(c-d)"
   ]
  },
  {
   "cell_type": "code",
   "execution_count": 133,
   "id": "c8d8e8d0-a8e7-4aeb-b623-d58ea6acfc10",
   "metadata": {},
   "outputs": [
    {
     "name": "stdout",
     "output_type": "stream",
     "text": [
      "(-500+1000j)\n"
     ]
    }
   ],
   "source": [
    "print(c*d)"
   ]
  },
  {
   "cell_type": "code",
   "execution_count": 135,
   "id": "8da03a96-8456-4719-8faa-050f4157da61",
   "metadata": {},
   "outputs": [
    {
     "name": "stdout",
     "output_type": "stream",
     "text": [
      "(0.44+0.08j)\n"
     ]
    }
   ],
   "source": [
    "print(c/d)"
   ]
  },
  {
   "cell_type": "code",
   "execution_count": 137,
   "id": "0cd6e5ea-022e-4b1e-a61a-6435eb4a68f8",
   "metadata": {},
   "outputs": [
    {
     "data": {
      "text/plain": [
       "10.0"
      ]
     },
     "execution_count": 137,
     "metadata": {},
     "output_type": "execute_result"
    }
   ],
   "source": [
    "c.real"
   ]
  },
  {
   "cell_type": "code",
   "execution_count": 141,
   "id": "9e2368bf-ba5e-4fcb-897d-f89f88c696d5",
   "metadata": {},
   "outputs": [
    {
     "data": {
      "text/plain": [
       "20.0"
      ]
     },
     "execution_count": 141,
     "metadata": {},
     "output_type": "execute_result"
    }
   ],
   "source": [
    "c.imag"
   ]
  },
  {
   "cell_type": "code",
   "execution_count": 157,
   "id": "4a72d699-0ff9-472a-873b-a6f63df540df",
   "metadata": {},
   "outputs": [
    {
     "name": "stdout",
     "output_type": "stream",
     "text": [
      "(10+20j)\n",
      "<class 'complex'>\n",
      "(10+20j) is complex? True\n"
     ]
    }
   ],
   "source": [
    "val1=10+20j\n",
    "print(val1)\n",
    "print(type(val1))\n",
    "print(val1,\"is complex?\",isinstance(val1,complex))"
   ]
  },
  {
   "cell_type": "code",
   "execution_count": 159,
   "id": "7910d759-7225-42dc-9c1a-ab49095ac595",
   "metadata": {},
   "outputs": [
    {
     "ename": "NameError",
     "evalue": "name 'sys' is not defined",
     "output_type": "error",
     "traceback": [
      "\u001b[1;31m---------------------------------------------------------------------------\u001b[0m",
      "\u001b[1;31mNameError\u001b[0m                                 Traceback (most recent call last)",
      "Cell \u001b[1;32mIn[159], line 1\u001b[0m\n\u001b[1;32m----> 1\u001b[0m sys\u001b[38;5;241m.\u001b[39mgetsizeof(\u001b[38;5;28mcomplex\u001b[39m)\n",
      "\u001b[1;31mNameError\u001b[0m: name 'sys' is not defined"
     ]
    }
   ],
   "source": [
    "sys.getsizeof(complex)"
   ]
  },
  {
   "cell_type": "markdown",
   "id": "1e171395-c62d-435c-8e7e-82ff72950f83",
   "metadata": {},
   "source": [
    "String"
   ]
  },
  {
   "cell_type": "code",
   "execution_count": 166,
   "id": "61db7e36-49a8-4158-ad5e-52508615b094",
   "metadata": {},
   "outputs": [
    {
     "data": {
      "text/plain": [
       "'abc'"
      ]
     },
     "execution_count": 166,
     "metadata": {},
     "output_type": "execute_result"
    }
   ],
   "source": [
    "a='abc' #using single quotes\n",
    "a"
   ]
  },
  {
   "cell_type": "code",
   "execution_count": 168,
   "id": "6b07290a-78f8-487e-819f-537a30cbccf1",
   "metadata": {},
   "outputs": [
    {
     "data": {
      "text/plain": [
       "'def'"
      ]
     },
     "execution_count": 168,
     "metadata": {},
     "output_type": "execute_result"
    }
   ],
   "source": [
    "b=\"def\" #using double qoutes\n",
    "b"
   ]
  },
  {
   "cell_type": "code",
   "execution_count": 172,
   "id": "5ca649fa-d913-4ad6-9b8b-34a59fb2d09b",
   "metadata": {},
   "outputs": [
    {
     "data": {
      "text/plain": [
       "'din'"
      ]
     },
     "execution_count": 172,
     "metadata": {},
     "output_type": "execute_result"
    }
   ],
   "source": [
    "c='''din''' #using triple qoutes\n",
    "c"
   ]
  },
  {
   "cell_type": "code",
   "execution_count": 265,
   "id": "b471cb1f-b968-4c61-ac55-19b2c27688e9",
   "metadata": {},
   "outputs": [
    {
     "data": {
      "text/plain": [
       "'hello world'"
      ]
     },
     "execution_count": 265,
     "metadata": {},
     "output_type": "execute_result"
    }
   ],
   "source": [
    "str1=\"hello world\"\n",
    "str1"
   ]
  },
  {
   "cell_type": "code",
   "execution_count": 182,
   "id": "db2d7425-ba06-4202-84ca-b72e69961795",
   "metadata": {},
   "outputs": [
    {
     "data": {
      "text/plain": [
       "'hello world'"
      ]
     },
     "execution_count": 182,
     "metadata": {},
     "output_type": "execute_result"
    }
   ],
   "source": [
    "str='''hello world'''\n",
    "str"
   ]
  },
  {
   "cell_type": "code",
   "execution_count": 196,
   "id": "2f42248e-78b9-4579-ac4e-13164cc1382d",
   "metadata": {},
   "outputs": [
    {
     "name": "stdout",
     "output_type": "stream",
     "text": [
      "happy monday everyone\n"
     ]
    }
   ],
   "source": [
    "str=('happy '\n",
    "'monday '\n",
    "'everyone')\n",
    "print(str)"
   ]
  },
  {
   "cell_type": "code",
   "execution_count": 204,
   "id": "32e57cde-6b93-41df-9da6-302c092b6d7f",
   "metadata": {},
   "outputs": [
    {
     "name": "stdout",
     "output_type": "stream",
     "text": [
      "hello world hello world hello world hello world hello world \n"
     ]
    }
   ],
   "source": [
    "str='hello world ' #using single string for multiple times\n",
    "str=str*5\n",
    "print(str)"
   ]
  },
  {
   "cell_type": "code",
   "execution_count": 206,
   "id": "5c82f41f-0030-4e1a-8531-fd2cdffe2c54",
   "metadata": {},
   "outputs": [
    {
     "data": {
      "text/plain": [
       "60"
      ]
     },
     "execution_count": 206,
     "metadata": {},
     "output_type": "execute_result"
    }
   ],
   "source": [
    "len(str) #calculating length of string"
   ]
  },
  {
   "cell_type": "markdown",
   "id": "dfd5202a-d23e-4110-8c95-9e4a84379b92",
   "metadata": {},
   "source": [
    "String indexing\n",
    " forward index\n",
    " backward index"
   ]
  },
  {
   "cell_type": "code",
   "execution_count": 213,
   "id": "c87fb277-e303-463c-b68a-284a5df0c6a1",
   "metadata": {},
   "outputs": [
    {
     "data": {
      "text/plain": [
       "'hello world'"
      ]
     },
     "execution_count": 213,
     "metadata": {},
     "output_type": "execute_result"
    }
   ],
   "source": [
    "str='hello world'\n",
    "str"
   ]
  },
  {
   "cell_type": "code",
   "execution_count": 217,
   "id": "754f0dac-8827-432b-baba-30e060ed5ece",
   "metadata": {},
   "outputs": [
    {
     "data": {
      "text/plain": [
       "'h'"
      ]
     },
     "execution_count": 217,
     "metadata": {},
     "output_type": "execute_result"
    }
   ],
   "source": [
    "str[0] #1st character in string"
   ]
  },
  {
   "cell_type": "code",
   "execution_count": 219,
   "id": "77f74335-45d2-45db-b8a7-42233cc01061",
   "metadata": {},
   "outputs": [
    {
     "data": {
      "text/plain": [
       "'d'"
      ]
     },
     "execution_count": 219,
     "metadata": {},
     "output_type": "execute_result"
    }
   ],
   "source": [
    "str1[len(str1)-1] #last character using len function"
   ]
  },
  {
   "cell_type": "code",
   "execution_count": 223,
   "id": "32b68074-fde8-41f5-9209-23b8253eca0a",
   "metadata": {},
   "outputs": [
    {
     "data": {
      "text/plain": [
       "'d'"
      ]
     },
     "execution_count": 223,
     "metadata": {},
     "output_type": "execute_result"
    }
   ],
   "source": [
    "str[-1] #last character using backward indexing\n"
   ]
  },
  {
   "cell_type": "code",
   "execution_count": 229,
   "id": "14f80213-7415-4091-9bf5-b87021e679fe",
   "metadata": {},
   "outputs": [
    {
     "data": {
      "text/plain": [
       "'w'"
      ]
     },
     "execution_count": 229,
     "metadata": {},
     "output_type": "execute_result"
    }
   ],
   "source": [
    "str[6] #5th character"
   ]
  },
  {
   "cell_type": "code",
   "execution_count": 227,
   "id": "4f7fb713-acf4-4488-b58f-c6863c7f2928",
   "metadata": {},
   "outputs": [
    {
     "ename": "IndexError",
     "evalue": "string index out of range",
     "output_type": "error",
     "traceback": [
      "\u001b[1;31m---------------------------------------------------------------------------\u001b[0m",
      "\u001b[1;31mIndexError\u001b[0m                                Traceback (most recent call last)",
      "Cell \u001b[1;32mIn[227], line 1\u001b[0m\n\u001b[1;32m----> 1\u001b[0m \u001b[38;5;28mstr\u001b[39m[\u001b[38;5;241m15\u001b[39m]\n",
      "\u001b[1;31mIndexError\u001b[0m: string index out of range"
     ]
    }
   ],
   "source": [
    "str[15] "
   ]
  },
  {
   "cell_type": "markdown",
   "id": "36078c64-9a69-4b46-8eff-5a5e5d84f167",
   "metadata": {},
   "source": [
    "String Slicing"
   ]
  },
  {
   "cell_type": "code",
   "execution_count": 239,
   "id": "48cfd8ac-5841-4d09-9a9c-0780c5bee0e4",
   "metadata": {},
   "outputs": [
    {
     "data": {
      "text/plain": [
       "'hello'"
      ]
     },
     "execution_count": 239,
     "metadata": {},
     "output_type": "execute_result"
    }
   ],
   "source": [
    "str1[0:5] #all character from 0 to 5 index"
   ]
  },
  {
   "cell_type": "code",
   "execution_count": 241,
   "id": "19909f11-b15d-4bba-bec6-a01c273f3419",
   "metadata": {},
   "outputs": [
    {
     "data": {
      "text/plain": [
       "'hello worl'"
      ]
     },
     "execution_count": 241,
     "metadata": {},
     "output_type": "execute_result"
    }
   ],
   "source": [
    "str1[0:10] # all character from 0 to 10 index"
   ]
  },
  {
   "cell_type": "code",
   "execution_count": 245,
   "id": "47415ebb-1a51-46b2-ba89-d8c66de2b998",
   "metadata": {},
   "outputs": [
    {
     "data": {
      "text/plain": [
       "'world'"
      ]
     },
     "execution_count": 245,
     "metadata": {},
     "output_type": "execute_result"
    }
   ],
   "source": [
    "str[6:12] #between 6 to 12"
   ]
  },
  {
   "cell_type": "code",
   "execution_count": 247,
   "id": "8d5756d7-4aa0-45d1-9768-7dd13f764ed8",
   "metadata": {},
   "outputs": [
    {
     "data": {
      "text/plain": [
       "'orld'"
      ]
     },
     "execution_count": 247,
     "metadata": {},
     "output_type": "execute_result"
    }
   ],
   "source": [
    "str1[-4:] #last 4 characters"
   ]
  },
  {
   "cell_type": "code",
   "execution_count": 251,
   "id": "d9f9214e-e6e2-4c49-9017-0c2a4a056e80",
   "metadata": {},
   "outputs": [
    {
     "data": {
      "text/plain": [
       "'o world'"
      ]
     },
     "execution_count": 251,
     "metadata": {},
     "output_type": "execute_result"
    }
   ],
   "source": [
    "str1[-7:] #last 7 characters"
   ]
  },
  {
   "cell_type": "code",
   "execution_count": 267,
   "id": "be83878a-0ed9-47bf-9dac-3c35a2904940",
   "metadata": {},
   "outputs": [
    {
     "data": {
      "text/plain": [
       "'hello world'"
      ]
     },
     "execution_count": 267,
     "metadata": {},
     "output_type": "execute_result"
    }
   ],
   "source": [
    "str1"
   ]
  },
  {
   "cell_type": "code",
   "execution_count": 269,
   "id": "edc7c20a-5374-4d1b-9050-062d2bd3994d",
   "metadata": {},
   "outputs": [],
   "source": [
    "del str1 #delete a string "
   ]
  },
  {
   "cell_type": "code",
   "execution_count": 257,
   "id": "759d8681-9919-4503-8388-6f1991e79551",
   "metadata": {},
   "outputs": [
    {
     "ename": "NameError",
     "evalue": "name 'str1' is not defined",
     "output_type": "error",
     "traceback": [
      "\u001b[1;31m---------------------------------------------------------------------------\u001b[0m",
      "\u001b[1;31mNameError\u001b[0m                                 Traceback (most recent call last)",
      "Cell \u001b[1;32mIn[257], line 1\u001b[0m\n\u001b[1;32m----> 1\u001b[0m str1\n",
      "\u001b[1;31mNameError\u001b[0m: name 'str1' is not defined"
     ]
    }
   ],
   "source": [
    "str1"
   ]
  },
  {
   "cell_type": "markdown",
   "id": "f4bd12e7-1349-4a83-a5ab-181b6291a6bc",
   "metadata": {},
   "source": [
    "string Concatenation"
   ]
  },
  {
   "cell_type": "code",
   "execution_count": 276,
   "id": "7b088819-0240-4969-ab3f-3ac837457be5",
   "metadata": {},
   "outputs": [
    {
     "name": "stdout",
     "output_type": "stream",
     "text": [
      "dinesh shinde\n"
     ]
    }
   ],
   "source": [
    "s1='dinesh '\n",
    "s2='shinde'\n",
    "s3=s1+s2\n",
    "print(s3)"
   ]
  },
  {
   "cell_type": "markdown",
   "id": "22d0b221-2651-4add-a702-3d16bf4f6fa7",
   "metadata": {},
   "source": [
    "Print Statement"
   ]
  },
  {
   "cell_type": "code",
   "execution_count": 280,
   "id": "9a27de0a-49ec-4fa1-8f0f-cca2f3c55f4a",
   "metadata": {},
   "outputs": [
    {
     "data": {
      "text/plain": [
       "30"
      ]
     },
     "execution_count": 280,
     "metadata": {},
     "output_type": "execute_result"
    }
   ],
   "source": [
    "a=10\n",
    "b=20\n",
    "a+b"
   ]
  },
  {
   "cell_type": "code",
   "execution_count": 282,
   "id": "116bece2-4be3-437e-bb55-2873ac99b2f9",
   "metadata": {},
   "outputs": [
    {
     "data": {
      "text/plain": [
       "-10"
      ]
     },
     "execution_count": 282,
     "metadata": {},
     "output_type": "execute_result"
    }
   ],
   "source": [
    "a-b"
   ]
  },
  {
   "cell_type": "code",
   "execution_count": 284,
   "id": "61d25cb8-f870-4dbe-8eb7-53517e3a9f56",
   "metadata": {},
   "outputs": [
    {
     "name": "stdout",
     "output_type": "stream",
     "text": [
      "10\n",
      "20\n"
     ]
    }
   ],
   "source": [
    "a=10\n",
    "b=20\n",
    "print(a)\n",
    "print(b)"
   ]
  },
  {
   "cell_type": "code",
   "execution_count": 290,
   "id": "cb442e54-d632-4eea-b393-982e8bc170e8",
   "metadata": {},
   "outputs": [
    {
     "name": "stdout",
     "output_type": "stream",
     "text": [
      "10\n",
      "10 20\n",
      "python\n",
      "10 20 python\n"
     ]
    }
   ],
   "source": [
    "print(10)\n",
    "print(10,20)\n",
    "print('python')\n",
    "print(10,20,'python')"
   ]
  },
  {
   "cell_type": "code",
   "execution_count": 298,
   "id": "14a6840c-6991-495c-a2d3-6fe7b6dab3be",
   "metadata": {},
   "outputs": [
    {
     "name": "stdout",
     "output_type": "stream",
     "text": [
      "30\n"
     ]
    }
   ],
   "source": [
    "num1=10\n",
    "num2=20\n",
    "add=num1+num2\n",
    "print(add)"
   ]
  },
  {
   "cell_type": "markdown",
   "id": "929f303e-3513-4e30-963e-6dc004dd9948",
   "metadata": {},
   "source": [
    "print result with string "
   ]
  },
  {
   "cell_type": "code",
   "execution_count": 301,
   "id": "178eed31-d440-414c-b901-9bfcd07ce4b3",
   "metadata": {},
   "outputs": [
    {
     "name": "stdout",
     "output_type": "stream",
     "text": [
      "the addtion of 10 and 20 is= 30\n"
     ]
    }
   ],
   "source": [
    "num1=10 \n",
    "num2=20\n",
    "add=num1+num2\n",
    "print('the addtion of',num1,'and',num2,'is=',add)"
   ]
  },
  {
   "cell_type": "code",
   "execution_count": 306,
   "id": "7922abf8-ebb5-4987-a833-f24916629f16",
   "metadata": {},
   "outputs": [
    {
     "name": "stdout",
     "output_type": "stream",
     "text": [
      "hello! my name is python and i am 20 years old from hyd .\n"
     ]
    }
   ],
   "source": [
    "name='python'\n",
    "age=20\n",
    "city='hyd'\n",
    "print(\"hello! my name is\",name, \"and i am\",age,\"years old from\",city,\".\")"
   ]
  },
  {
   "cell_type": "code",
   "execution_count": 312,
   "id": "74d246c3-2d4b-4d2f-9d1d-7a4c81d5725b",
   "metadata": {},
   "outputs": [
    {
     "name": "stdout",
     "output_type": "stream",
     "text": [
      "the addition of 20 and 30 is = 50\n"
     ]
    }
   ],
   "source": [
    "num1=20\n",
    "num2=30\n",
    "add=num1+num2\n",
    "print('the addition of {} and {} is = {}'. format(num1,num2,add))"
   ]
  },
  {
   "cell_type": "markdown",
   "id": "96d3b242-328d-41c4-8019-202bc2b2b396",
   "metadata": {},
   "source": [
    "2nd method"
   ]
  },
  {
   "cell_type": "code",
   "execution_count": 315,
   "id": "e8361c61-dece-4990-9b9c-4863c6dbade9",
   "metadata": {},
   "outputs": [
    {
     "name": "stdout",
     "output_type": "stream",
     "text": [
      "the addition of 20 and 30 is 50.\n"
     ]
    }
   ],
   "source": [
    "num1=20\n",
    "num2=30\n",
    "add=num1+num2\n",
    "print(f'the addition of {num1} and {num2} is {add}.')"
   ]
  },
  {
   "cell_type": "markdown",
   "id": "186ba905-77aa-4d60-96ab-bfad04d68467",
   "metadata": {},
   "source": [
    "end statement"
   ]
  },
  {
   "cell_type": "code",
   "execution_count": 318,
   "id": "ae0cdde2-3719-4cd2-8e65-d1c0a09b393e",
   "metadata": {},
   "outputs": [
    {
     "name": "stdout",
     "output_type": "stream",
     "text": [
      "hello\n",
      "good moring\n"
     ]
    }
   ],
   "source": [
    "print('hello')\n",
    "print('good moring')\n"
   ]
  },
  {
   "cell_type": "code",
   "execution_count": 324,
   "id": "fee5c319-d573-4064-b165-61b18d88f720",
   "metadata": {},
   "outputs": [
    {
     "name": "stdout",
     "output_type": "stream",
     "text": [
      "hello good moring\n"
     ]
    }
   ],
   "source": [
    "print ('hello',end=' ')\n",
    "print('good moring')"
   ]
  },
  {
   "cell_type": "markdown",
   "id": "cbeb4381-97e9-412f-a4e8-c3dc78b8f0c2",
   "metadata": {},
   "source": [
    "seprator"
   ]
  },
  {
   "cell_type": "code",
   "execution_count": 329,
   "id": "358fa842-8cc7-4a57-8791-603ff034636f",
   "metadata": {},
   "outputs": [
    {
     "name": "stdout",
     "output_type": "stream",
     "text": [
      "hello&hi&how are you\n"
     ]
    }
   ],
   "source": [
    "print('hello','hi','how are you',sep='&')"
   ]
  },
  {
   "cell_type": "code",
   "execution_count": 331,
   "id": "07e2b797-4026-4746-a779-f005d4a502e9",
   "metadata": {},
   "outputs": [
    {
     "name": "stdout",
     "output_type": "stream",
     "text": [
      "hello....>hi....>how are you\n"
     ]
    }
   ],
   "source": [
    "print('hello','hi','how are you',sep='....>')"
   ]
  },
  {
   "cell_type": "code",
   "execution_count": 333,
   "id": "291b327a-f739-4d52-90fb-51b76716cd2f",
   "metadata": {},
   "outputs": [
    {
     "name": "stdout",
     "output_type": "stream",
     "text": [
      "hello hi how are you\n"
     ]
    }
   ],
   "source": [
    "print('hello','hi','how are you',sep=' ')"
   ]
  },
  {
   "cell_type": "code",
   "execution_count": 335,
   "id": "69384dd7-e05c-49ee-a9af-a35efc146ce6",
   "metadata": {},
   "outputs": [
    {
     "name": "stdout",
     "output_type": "stream",
     "text": [
      "3.\n"
     ]
    }
   ],
   "source": [
    "print(3,'.',sep='')"
   ]
  },
  {
   "cell_type": "code",
   "execution_count": 337,
   "id": "f7d6c9b7-fd41-4b74-b16b-2ee0a6678e22",
   "metadata": {},
   "outputs": [
    {
     "name": "stdout",
     "output_type": "stream",
     "text": [
      "1 2 3 .\n"
     ]
    }
   ],
   "source": [
    "print(1,2,end=' ')\n",
    "print(3,'.',sep=' ')"
   ]
  },
  {
   "cell_type": "markdown",
   "id": "02eb5fce-7572-4785-8e2c-45af43c9cdae",
   "metadata": {},
   "source": [
    "*Indentifiers*"
   ]
  },
  {
   "cell_type": "markdown",
   "id": "6206ff3a-75fa-4adf-97ab-ddd7382a0867",
   "metadata": {},
   "source": [
    "name given to any variable,class,module,object"
   ]
  },
  {
   "cell_type": "markdown",
   "id": "8f593cec-ef25-4a36-ae9f-5704371e37ec",
   "metadata": {},
   "source": [
    "Rules for naming identifiers"
   ]
  },
  {
   "cell_type": "markdown",
   "id": "b947b1d3-1086-4f0d-bb4f-3614b2929d80",
   "metadata": {},
   "source": [
    "starts with a letter or underscore"
   ]
  },
  {
   "cell_type": "markdown",
   "id": "d50ac6c0-c648-480e-9488-df1b74838cb1",
   "metadata": {},
   "source": [
    "contains letter,digits & underscore(-) only\n"
   ]
  },
  {
   "cell_type": "markdown",
   "id": "6788310a-ecb6-45e5-b9f4-2f4a7732ae53",
   "metadata": {},
   "source": [
    "cannot be a keyword."
   ]
  },
  {
   "cell_type": "markdown",
   "id": "5a5c1e6e-3d13-4477-aa22-ac009b1f6654",
   "metadata": {},
   "source": [
    "cannot contain spaces."
   ]
  },
  {
   "cell_type": "markdown",
   "id": "a4e4cfed-a470-40ce-ae3e-ff2ffaeb928b",
   "metadata": {},
   "source": [
    "case-sensitive."
   ]
  },
  {
   "cell_type": "markdown",
   "id": "67399163-901b-4d81-8424-4ef4dae42dd9",
   "metadata": {},
   "source": [
    "Comments"
   ]
  },
  {
   "cell_type": "code",
   "execution_count": 368,
   "id": "846b4eae-83cd-42e9-a352-070451af31d1",
   "metadata": {},
   "outputs": [],
   "source": [
    "val1=10 #single line commments"
   ]
  },
  {
   "cell_type": "code",
   "execution_count": 370,
   "id": "c2d7ddd9-ed4d-43f6-8d6a-5b8bbb30d3ee",
   "metadata": {},
   "outputs": [],
   "source": [
    "'''multiple line commets'''\n",
    "val1=10"
   ]
  },
  {
   "cell_type": "markdown",
   "id": "8879061c-f932-43e2-b73b-a326de74ef32",
   "metadata": {},
   "source": [
    "Statements"
   ]
  },
  {
   "cell_type": "code",
   "execution_count": 382,
   "id": "fed377c0-4a4f-433a-8b84-2e3ed0d105d3",
   "metadata": {},
   "outputs": [
    {
     "data": {
      "text/plain": [
       "(20, int, '0x7ffcc05d2c18')"
      ]
     },
     "execution_count": 382,
     "metadata": {},
     "output_type": "execute_result"
    }
   ],
   "source": [
    "q,type(q),hex(id(q))"
   ]
  },
  {
   "cell_type": "code",
   "execution_count": 380,
   "id": "56944620-6c49-49a3-823a-9b981aeb1730",
   "metadata": {},
   "outputs": [
    {
     "data": {
      "text/plain": [
       "(20, int, '0x7ffcc05d2c18')"
      ]
     },
     "execution_count": 380,
     "metadata": {},
     "output_type": "execute_result"
    }
   ],
   "source": [
    "p=20\n",
    "q=20\n",
    "r=q\n",
    "p,type(p),hex(id(p))"
   ]
  },
  {
   "cell_type": "code",
   "execution_count": 384,
   "id": "77d54706-5c20-4abd-8a6a-32c7a7713f78",
   "metadata": {},
   "outputs": [
    {
     "data": {
      "text/plain": [
       "(20, int, '0x7ffcc05d2c18')"
      ]
     },
     "execution_count": 384,
     "metadata": {},
     "output_type": "execute_result"
    }
   ],
   "source": [
    "r,type(r),hex(id(r))\n"
   ]
  },
  {
   "cell_type": "code",
   "execution_count": 386,
   "id": "16cc7ba6-ebf3-48e9-a1df-2bcb1da00c42",
   "metadata": {},
   "outputs": [
    {
     "data": {
      "text/plain": [
       "30"
      ]
     },
     "execution_count": 386,
     "metadata": {},
     "output_type": "execute_result"
    }
   ],
   "source": [
    "p=20\n",
    "p=p+10\n",
    "p"
   ]
  },
  {
   "cell_type": "code",
   "execution_count": 388,
   "id": "3a5f1da5-0f9c-41b1-b473-40dea7596165",
   "metadata": {},
   "outputs": [
    {
     "name": "stdout",
     "output_type": "stream",
     "text": [
      "10\n",
      "2.57\n",
      "python\n"
     ]
    }
   ],
   "source": [
    "intvar,floatvar,strvar=10,2.57,'python'\n",
    "print(intvar)\n",
    "print(floatvar)\n",
    "print(strvar)"
   ]
  },
  {
   "cell_type": "code",
   "execution_count": 390,
   "id": "6d1b73b5-7169-4035-8831-31bff55ea6a3",
   "metadata": {},
   "outputs": [
    {
     "name": "stdout",
     "output_type": "stream",
     "text": [
      "44 44 44 44\n"
     ]
    }
   ],
   "source": [
    "p1=p2=p3=p4=44\n",
    "print (p1,p2,p3,p4)"
   ]
  },
  {
   "cell_type": "markdown",
   "id": "1e8a158d-35db-416a-af03-ebc50c6189bc",
   "metadata": {},
   "source": [
    "Data types"
   ]
  },
  {
   "cell_type": "markdown",
   "id": "55f2b323-e5e7-43b6-9d72-fb008d35f28b",
   "metadata": {},
   "source": [
    "list: enclosed in square bracket seprated by commas[..]"
   ]
  },
  {
   "cell_type": "markdown",
   "id": "5bfb87fe-0308-4e6a-98b5-dc4b464eef68",
   "metadata": {},
   "source": [
    "dist: enclosed in curly brackets seprated by commas['':''.'':'']"
   ]
  },
  {
   "cell_type": "markdown",
   "id": "bcb2cdf2-6239-4f63-b299-1e7399c14b24",
   "metadata": {},
   "source": [
    "set: enclosed in curly brackets seprated by commas{,,,}"
   ]
  },
  {
   "cell_type": "markdown",
   "id": "c244b520-67f7-4e3f-b473-3a0cade0e280",
   "metadata": {},
   "source": [
    "tuple: enclosed in curly brackets seprated by commas(,,,)."
   ]
  },
  {
   "cell_type": "code",
   "execution_count": 405,
   "id": "1fdacd71-3822-490b-87e1-56e5d9f94447",
   "metadata": {},
   "outputs": [
    {
     "name": "stdout",
     "output_type": "stream",
     "text": [
      "<class 'list'>\n"
     ]
    }
   ],
   "source": [
    "print (type([1,2,3]))"
   ]
  },
  {
   "cell_type": "code",
   "execution_count": 1,
   "id": "2661ac42-7d3d-41fd-aa7a-809fde5d8811",
   "metadata": {},
   "outputs": [
    {
     "name": "stdout",
     "output_type": "stream",
     "text": [
      "<class 'dict'>\n"
     ]
    }
   ],
   "source": [
    "print(type({'name':'dinesh'}))"
   ]
  },
  {
   "cell_type": "code",
   "execution_count": 409,
   "id": "0f6c9f0d-6fa5-4a60-a2ef-3200fbd9e0ce",
   "metadata": {},
   "outputs": [
    {
     "name": "stdout",
     "output_type": "stream",
     "text": [
      "<class 'set'>\n"
     ]
    }
   ],
   "source": [
    "print(type({9,8,7,6}))"
   ]
  },
  {
   "cell_type": "code",
   "execution_count": 415,
   "id": "716faec3-4b58-423b-bdd6-6b8a748d62be",
   "metadata": {},
   "outputs": [
    {
     "name": "stdout",
     "output_type": "stream",
     "text": [
      "<class 'tuple'>\n"
     ]
    }
   ],
   "source": [
    "print(type((9,8,7.2,5.4)))"
   ]
  },
  {
   "cell_type": "code",
   "execution_count": 417,
   "id": "003a8c34-e6d5-466b-bf09-3662d1faf7c0",
   "metadata": {},
   "outputs": [
    {
     "name": "stdout",
     "output_type": "stream",
     "text": [
      "<class 'bool'>\n"
     ]
    }
   ],
   "source": [
    "print(type(3==3))"
   ]
  },
  {
   "cell_type": "code",
   "execution_count": 434,
   "id": "cf9b7d91-ccdb-412b-9fd4-761b634e8513",
   "metadata": {},
   "outputs": [
    {
     "name": "stdout",
     "output_type": "stream",
     "text": [
      "dinesh shinde\n"
     ]
    }
   ],
   "source": [
    "first_name='dinesh'\n",
    "second_name='shinde'\n",
    "space=' '\n",
    "full_name=first_name+space+ second_name\n",
    "print(full_name)"
   ]
  },
  {
   "cell_type": "markdown",
   "id": "a826ee38-7f6c-41eb-b458-580c82fd3fbc",
   "metadata": {},
   "source": [
    "calculating the length of string"
   ]
  },
  {
   "cell_type": "code",
   "execution_count": 438,
   "id": "95dcaec3-2dd4-4e4e-a25d-1bd99e634682",
   "metadata": {},
   "outputs": [
    {
     "name": "stdout",
     "output_type": "stream",
     "text": [
      "13\n"
     ]
    }
   ],
   "source": [
    "print(len(full_name))"
   ]
  },
  {
   "cell_type": "code",
   "execution_count": 444,
   "id": "b9721440-205b-40dd-a89a-867fd4f22f49",
   "metadata": {},
   "outputs": [
    {
     "name": "stdout",
     "output_type": "stream",
     "text": [
      "6\n"
     ]
    }
   ],
   "source": [
    "print(len(second_name))"
   ]
  },
  {
   "cell_type": "code",
   "execution_count": 446,
   "id": "cb7b43e7-79ae-41d3-9fcc-3a8eaeba4a02",
   "metadata": {},
   "outputs": [
    {
     "name": "stdout",
     "output_type": "stream",
     "text": [
      "6\n"
     ]
    }
   ],
   "source": [
    "print(len(first_name))"
   ]
  },
  {
   "cell_type": "code",
   "execution_count": 9,
   "id": "5a4d640c-4c80-47a2-a8ad-2d5ee595df4b",
   "metadata": {},
   "outputs": [
    {
     "name": "stdout",
     "output_type": "stream",
     "text": [
      "t\n"
     ]
    }
   ],
   "source": [
    "language='python'\n",
    "a,b,c,d,e,f=language\n",
    "print(c)"
   ]
  },
  {
   "cell_type": "code",
   "execution_count": 11,
   "id": "cf030388-a3bd-4274-8ddc-c7d609dd87c4",
   "metadata": {},
   "outputs": [
    {
     "name": "stdout",
     "output_type": "stream",
     "text": [
      "n\n"
     ]
    }
   ],
   "source": [
    "print(f)"
   ]
  },
  {
   "cell_type": "code",
   "execution_count": 13,
   "id": "7a0e1602-1dfe-4940-86b8-4172ee51f36e",
   "metadata": {},
   "outputs": [
    {
     "name": "stdout",
     "output_type": "stream",
     "text": [
      "n\n"
     ]
    }
   ],
   "source": [
    "last_letter=language[-1] #print last letter of a string\n",
    "print(last_letter)"
   ]
  },
  {
   "cell_type": "code",
   "execution_count": 460,
   "id": "a424340d-c050-4eac-89a3-5ae030867f4a",
   "metadata": {},
   "outputs": [
    {
     "name": "stdout",
     "output_type": "stream",
     "text": [
      "hon\n"
     ]
    }
   ],
   "source": [
    "last_three=language[3:] #print last 3 charater of string\n",
    "print(last_three)"
   ]
  },
  {
   "cell_type": "code",
   "execution_count": 462,
   "id": "e98b744b-d76a-48fb-a32e-4800d84fa843",
   "metadata": {},
   "outputs": [
    {
     "name": "stdout",
     "output_type": "stream",
     "text": [
      "pto\n"
     ]
    }
   ],
   "source": [
    "x=language[0:6:2] #start-0index i.e 'p' end -6th index i.e 'n' and print with the gap of 2\n",
    "print(x)"
   ]
  },
  {
   "cell_type": "code",
   "execution_count": 1,
   "id": "abff7951-0adb-4c64-960b-f59526d3c1cf",
   "metadata": {},
   "outputs": [
    {
     "name": "stdout",
     "output_type": "stream",
     "text": [
      "i hope every one enjoying the python challenge.\n",
      "Do you?\n",
      "days\tTopics\tExercise\n",
      "days1\t3\t5\n",
      "days2\t3\t5\n",
      "days3\t3\t5\n",
      "days4\t3\t5\n",
      "this is back slash symbol(\\)\n",
      "In this program language it starts with \"hello,world!\"\n"
     ]
    }
   ],
   "source": [
    "print('i hope every one enjoying the python challenge.\\nDo you?')\n",
    "print('days\\tTopics\\tExercise')\n",
    "print('days1\\t3\\t5')\n",
    "print('days2\\t3\\t5')\n",
    "print('days3\\t3\\t5')\n",
    "print('days4\\t3\\t5')\n",
    "print('this is back slash symbol(\\\\)')\n",
    "print('In this program language it starts with \\\"hello,world!\\\"')"
   ]
  },
  {
   "cell_type": "markdown",
   "id": "4bd57400-785c-4d4f-ab4d-89ea79a4d2bf",
   "metadata": {},
   "source": [
    "string method"
   ]
  },
  {
   "cell_type": "code",
   "execution_count": 16,
   "id": "c3a80527-3c9d-4263-8d82-340aaf2b1038",
   "metadata": {},
   "outputs": [
    {
     "name": "stdout",
     "output_type": "stream",
     "text": [
      "Thirty days of python\n"
     ]
    }
   ],
   "source": [
    "x='thirty days of python'\n",
    "print(x.capitalize())"
   ]
  },
  {
   "cell_type": "code",
   "execution_count": 18,
   "id": "14940a8d-3122-432a-b90b-3e4f977ee039",
   "metadata": {},
   "outputs": [
    {
     "name": "stdout",
     "output_type": "stream",
     "text": [
      "3\n"
     ]
    }
   ],
   "source": [
    "print(x.count('t'))"
   ]
  },
  {
   "cell_type": "code",
   "execution_count": 20,
   "id": "5cbb9664-e028-426c-894e-a90279a91020",
   "metadata": {},
   "outputs": [
    {
     "name": "stdout",
     "output_type": "stream",
     "text": [
      "2\n"
     ]
    }
   ],
   "source": [
    "print(x.count('th'))"
   ]
  },
  {
   "cell_type": "code",
   "execution_count": 24,
   "id": "74e01c5f-1828-417d-814b-d089613ea290",
   "metadata": {},
   "outputs": [
    {
     "name": "stdout",
     "output_type": "stream",
     "text": [
      "True\n"
     ]
    }
   ],
   "source": [
    "print(x.endswith('on'))"
   ]
  },
  {
   "cell_type": "code",
   "execution_count": 26,
   "id": "57a738fe-4e29-4528-b9e6-77578ae979ae",
   "metadata": {},
   "outputs": [
    {
     "name": "stdout",
     "output_type": "stream",
     "text": [
      "False\n"
     ]
    }
   ],
   "source": [
    "print(x.endswith('tion'))"
   ]
  },
  {
   "cell_type": "code",
   "execution_count": 30,
   "id": "21043e5a-5cd4-4a89-89dd-6c14bef62b68",
   "metadata": {},
   "outputs": [
    {
     "name": "stdout",
     "output_type": "stream",
     "text": [
      "thirty  days    of      python\n"
     ]
    }
   ],
   "source": [
    "x='thirty\\tdays\\tof\\tpython'\n",
    "print(x.expandtabs())"
   ]
  },
  {
   "cell_type": "code",
   "execution_count": 32,
   "id": "a9ebf02b-4cce-42ab-9df0-575d315c7c03",
   "metadata": {},
   "outputs": [
    {
     "name": "stdout",
     "output_type": "stream",
     "text": [
      "thirty    days      of        python\n"
     ]
    }
   ],
   "source": [
    "print(x.expandtabs(10))"
   ]
  },
  {
   "cell_type": "code",
   "execution_count": 34,
   "id": "4f1f090e-1218-4982-873f-ed22172c3eb1",
   "metadata": {},
   "outputs": [
    {
     "name": "stdout",
     "output_type": "stream",
     "text": [
      "0\n"
     ]
    }
   ],
   "source": [
    "print(x.find('th'))"
   ]
  },
  {
   "cell_type": "code",
   "execution_count": 40,
   "id": "cbd7da05-666f-4bfb-b9ad-058acbab41d1",
   "metadata": {},
   "outputs": [
    {
     "name": "stdout",
     "output_type": "stream",
     "text": [
      "i am Dinesh shinde.i am student.i live in india.\n"
     ]
    }
   ],
   "source": [
    "first_name= 'Dinesh'\n",
    "last_name = 'shinde'\n",
    "job = 'student'\n",
    "country = 'india'\n",
    "sentence = 'i am {} {}.i am {}.i live in {}.'.format (first_name,last_name,job,country)\n",
    "print(sentence)"
   ]
  },
  {
   "cell_type": "code",
   "execution_count": 46,
   "id": "ead84048-d28d-4abe-8a4d-41d3ab5a0162",
   "metadata": {},
   "outputs": [
    {
     "name": "stdout",
     "output_type": "stream",
     "text": [
      "-1\n"
     ]
    }
   ],
   "source": [
    "print(x.find('D'))"
   ]
  },
  {
   "cell_type": "code",
   "execution_count": 48,
   "id": "54fca982-6342-4f0d-8a1c-a6f6edb7acc0",
   "metadata": {},
   "outputs": [
    {
     "name": "stdout",
     "output_type": "stream",
     "text": [
      "True\n"
     ]
    }
   ],
   "source": [
    "x='thirtydayspython'\n",
    "print(x.isalnum())"
   ]
  },
  {
   "cell_type": "code",
   "execution_count": 50,
   "id": "5eb436cd-433f-4a15-95da-bd95191f90ff",
   "metadata": {},
   "outputs": [
    {
     "name": "stdout",
     "output_type": "stream",
     "text": [
      "False\n"
     ]
    }
   ],
   "source": [
    "x='thirty days python'\n",
    "print(x.isalnum())"
   ]
  },
  {
   "cell_type": "code",
   "execution_count": 52,
   "id": "ab250e12-9d38-47cd-8482-b3f6f4ec8908",
   "metadata": {},
   "outputs": [
    {
     "name": "stdout",
     "output_type": "stream",
     "text": [
      "True\n"
     ]
    }
   ],
   "source": [
    "x='thirtydaysofpython'\n",
    "print(x.isalpha())"
   ]
  },
  {
   "cell_type": "code",
   "execution_count": 58,
   "id": "1163ec21-ce2c-46f7-829d-5c6a266aa0ef",
   "metadata": {},
   "outputs": [
    {
     "name": "stdout",
     "output_type": "stream",
     "text": [
      "True\n"
     ]
    }
   ],
   "source": [
    "num='123'\n",
    "print(num.isdecimal())"
   ]
  },
  {
   "cell_type": "code",
   "execution_count": 5,
   "id": "aeb77394-c7a1-4c18-91d9-bdf32c0ab74c",
   "metadata": {},
   "outputs": [
    {
     "name": "stdout",
     "output_type": "stream",
     "text": [
      "True\n"
     ]
    }
   ],
   "source": [
    "x='THIRRTY'\n",
    "print(x.isupper())"
   ]
  },
  {
   "cell_type": "code",
   "execution_count": 7,
   "id": "e3f9d5aa-fc85-40f4-b544-d2fce935126b",
   "metadata": {},
   "outputs": [
    {
     "name": "stdout",
     "output_type": "stream",
     "text": [
      "True\n"
     ]
    }
   ],
   "source": [
    "num='10'\n",
    "print(num.isnumeric())"
   ]
  },
  {
   "cell_type": "code",
   "execution_count": 13,
   "id": "ef74d155-a3f9-4a7a-9a4d-104da370cd2a",
   "metadata": {},
   "outputs": [
    {
     "name": "stdout",
     "output_type": "stream",
     "text": [
      "HTML#, CSS#, Javasript#, react\n"
     ]
    }
   ],
   "source": [
    "web_tech=['HTML','CSS','Javasript','react']\n",
    "result='#, '.join(web_tech)\n",
    "print(result)"
   ]
  },
  {
   "cell_type": "code",
   "execution_count": 15,
   "id": "27bafe54-7c03-4df1-abc8-2667894d3840",
   "metadata": {},
   "outputs": [
    {
     "name": "stdout",
     "output_type": "stream",
     "text": [
      "HIRRTY\n"
     ]
    }
   ],
   "source": [
    "print(x.strip('T'))"
   ]
  },
  {
   "cell_type": "code",
   "execution_count": 17,
   "id": "b123693d-9ed5-45e1-b63a-c80982e153c2",
   "metadata": {},
   "outputs": [
    {
     "name": "stdout",
     "output_type": "stream",
     "text": [
      "pathon\n"
     ]
    }
   ],
   "source": [
    "x='python'\n",
    "print(x.replace('y','a'))"
   ]
  },
  {
   "cell_type": "code",
   "execution_count": 19,
   "id": "23be5885-befc-4dbc-a03f-0911c81ff51c",
   "metadata": {},
   "outputs": [
    {
     "name": "stdout",
     "output_type": "stream",
     "text": [
      "['thirty', 'days', 'of', 'python']\n"
     ]
    }
   ],
   "source": [
    " x='thirty days of python'\n",
    "print(x.split())"
   ]
  },
  {
   "cell_type": "code",
   "execution_count": 21,
   "id": "4be31e04-5bd5-42ad-85ee-867e4dea4128",
   "metadata": {},
   "outputs": [
    {
     "name": "stdout",
     "output_type": "stream",
     "text": [
      "Thirty Days Of Python\n"
     ]
    }
   ],
   "source": [
    "print(x.title())"
   ]
  },
  {
   "cell_type": "code",
   "execution_count": 23,
   "id": "efe00be8-472c-4661-898d-d15d0592f73d",
   "metadata": {},
   "outputs": [
    {
     "name": "stdout",
     "output_type": "stream",
     "text": [
      "THIRTY DAYS OF PYTHON\n"
     ]
    }
   ],
   "source": [
    "print(x.swapcase())"
   ]
  },
  {
   "cell_type": "code",
   "execution_count": 29,
   "id": "a5fce88f-544a-43ce-8f4a-c8d35980a7c9",
   "metadata": {},
   "outputs": [
    {
     "name": "stdout",
     "output_type": "stream",
     "text": [
      "False\n"
     ]
    }
   ],
   "source": [
    "print(x.startswith('days'))"
   ]
  },
  {
   "cell_type": "code",
   "execution_count": null,
   "id": "80cdf0a2-b8ca-40d2-a2e0-c1fa84c060ee",
   "metadata": {},
   "outputs": [],
   "source": []
  }
 ],
 "metadata": {
  "kernelspec": {
   "display_name": "Python [conda env:base] *",
   "language": "python",
   "name": "conda-base-py"
  },
  "language_info": {
   "codemirror_mode": {
    "name": "ipython",
    "version": 3
   },
   "file_extension": ".py",
   "mimetype": "text/x-python",
   "name": "python",
   "nbconvert_exporter": "python",
   "pygments_lexer": "ipython3",
   "version": "3.12.7"
  }
 },
 "nbformat": 4,
 "nbformat_minor": 5
}
