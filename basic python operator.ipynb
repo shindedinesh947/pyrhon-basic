{
 "cells": [
  {
   "cell_type": "code",
   "execution_count": 5,
   "id": "28764971-c727-44b8-886f-5b3644bba9a0",
   "metadata": {},
   "outputs": [
    {
     "data": {
      "text/plain": [
       "2"
      ]
     },
     "execution_count": 5,
     "metadata": {},
     "output_type": "execute_result"
    }
   ],
   "source": [
    "1+1 #adddition"
   ]
  },
  {
   "cell_type": "code",
   "execution_count": 7,
   "id": "470c3917-12fe-452a-abc3-387be96e72f1",
   "metadata": {},
   "outputs": [
    {
     "data": {
      "text/plain": [
       "1"
      ]
     },
     "execution_count": 7,
     "metadata": {},
     "output_type": "execute_result"
    }
   ],
   "source": [
    "2-1 #substraction"
   ]
  },
  {
   "cell_type": "code",
   "execution_count": 9,
   "id": "09b14dc4-6083-4271-9d10-ea83eff773d3",
   "metadata": {},
   "outputs": [
    {
     "data": {
      "text/plain": [
       "6"
      ]
     },
     "execution_count": 9,
     "metadata": {},
     "output_type": "execute_result"
    }
   ],
   "source": [
    "3*2 #multiplication"
   ]
  },
  {
   "cell_type": "code",
   "execution_count": 11,
   "id": "70019a1e-a12b-494a-a5a8-dde74d576034",
   "metadata": {},
   "outputs": [
    {
     "data": {
      "text/plain": [
       "3.0"
      ]
     },
     "execution_count": 11,
     "metadata": {},
     "output_type": "execute_result"
    }
   ],
   "source": [
    "9/3 #division floats"
   ]
  },
  {
   "cell_type": "code",
   "execution_count": 13,
   "id": "b446fdb4-5665-463c-9617-1cf65f25ab5d",
   "metadata": {},
   "outputs": [
    {
     "data": {
      "text/plain": [
       "2.5"
      ]
     },
     "execution_count": 13,
     "metadata": {},
     "output_type": "execute_result"
    }
   ],
   "source": [
    "5/2"
   ]
  },
  {
   "cell_type": "code",
   "execution_count": 15,
   "id": "587cd739-a253-4c2c-ad4a-dc78bfffb963",
   "metadata": {},
   "outputs": [
    {
     "data": {
      "text/plain": [
       "2"
      ]
     },
     "execution_count": 15,
     "metadata": {},
     "output_type": "execute_result"
    }
   ],
   "source": [
    "8//4 #division interger"
   ]
  },
  {
   "cell_type": "code",
   "execution_count": 17,
   "id": "f8406e07-1e23-479f-b125-5d0fc88dda3e",
   "metadata": {},
   "outputs": [
    {
     "data": {
      "text/plain": [
       "13"
      ]
     },
     "execution_count": 17,
     "metadata": {},
     "output_type": "execute_result"
    }
   ],
   "source": [
    "8+9-4"
   ]
  },
  {
   "cell_type": "code",
   "execution_count": 19,
   "id": "4ce9a0f2-d1c8-459d-a937-a4c69becf965",
   "metadata": {},
   "outputs": [
    {
     "data": {
      "text/plain": [
       "-18"
      ]
     },
     "execution_count": 19,
     "metadata": {},
     "output_type": "execute_result"
    }
   ],
   "source": [
    "13+5+-9*4 "
   ]
  },
  {
   "cell_type": "code",
   "execution_count": 21,
   "id": "0ac7c9d8-66fb-4d17-a23c-8eb95b063ca0",
   "metadata": {},
   "outputs": [
    {
     "data": {
      "text/plain": [
       "30"
      ]
     },
     "execution_count": 21,
     "metadata": {},
     "output_type": "execute_result"
    }
   ],
   "source": [
    "5+5*5    # BODMAS (Brackete of division,Multiplication,Addition,Substact)"
   ]
  },
  {
   "cell_type": "code",
   "execution_count": 23,
   "id": "f9ae5d4d-0675-4dba-ad39-0439feb220c5",
   "metadata": {},
   "outputs": [
    {
     "data": {
      "text/plain": [
       "6.25"
      ]
     },
     "execution_count": 23,
     "metadata": {},
     "output_type": "execute_result"
    }
   ],
   "source": [
    "5+3-2*7/8"
   ]
  },
  {
   "cell_type": "code",
   "execution_count": 25,
   "id": "1612b1e5-87ed-41c4-bb17-544709c5b78a",
   "metadata": {},
   "outputs": [
    {
     "data": {
      "text/plain": [
       "3125"
      ]
     },
     "execution_count": 25,
     "metadata": {},
     "output_type": "execute_result"
    }
   ],
   "source": [
    "5*5*5*5*5  #exponentation"
   ]
  },
  {
   "cell_type": "code",
   "execution_count": 27,
   "id": "63a98064-6a25-4366-b9b9-ee8b4c0c4b15",
   "metadata": {},
   "outputs": [
    {
     "data": {
      "text/plain": [
       "36"
      ]
     },
     "execution_count": 27,
     "metadata": {},
     "output_type": "execute_result"
    }
   ],
   "source": [
    "2*2*3*3"
   ]
  },
  {
   "cell_type": "code",
   "execution_count": 29,
   "id": "942f121e-9147-4981-a19c-eb153f651197",
   "metadata": {},
   "outputs": [
    {
     "data": {
      "text/plain": [
       "720"
      ]
     },
     "execution_count": 29,
     "metadata": {},
     "output_type": "execute_result"
    }
   ],
   "source": [
    "1*2*3*4*5*6"
   ]
  },
  {
   "cell_type": "code",
   "execution_count": 37,
   "id": "652fe7d5-c367-446a-ad3c-86898ff8781b",
   "metadata": {},
   "outputs": [
    {
     "data": {
      "text/plain": [
       "16"
      ]
     },
     "execution_count": 37,
     "metadata": {},
     "output_type": "execute_result"
    }
   ],
   "source": [
    "2**4"
   ]
  },
  {
   "cell_type": "code",
   "execution_count": 47,
   "id": "3ee21df6-ee17-4a36-8dae-501c60bd4b92",
   "metadata": {},
   "outputs": [
    {
     "data": {
      "text/plain": [
       "0"
      ]
     },
     "execution_count": 47,
     "metadata": {},
     "output_type": "execute_result"
    }
   ],
   "source": [
    "20%1 #modulas"
   ]
  },
  {
   "cell_type": "code",
   "execution_count": 49,
   "id": "8e5cdaac-e897-4192-88d7-041f196a1867",
   "metadata": {},
   "outputs": [
    {
     "data": {
      "text/plain": [
       "0"
      ]
     },
     "execution_count": 49,
     "metadata": {},
     "output_type": "execute_result"
    }
   ],
   "source": [
    "15%1"
   ]
  },
  {
   "cell_type": "code",
   "execution_count": 51,
   "id": "95795725-acfe-4674-8a2f-28b04d0f4170",
   "metadata": {},
   "outputs": [
    {
     "data": {
      "text/plain": [
       "2"
      ]
     },
     "execution_count": 51,
     "metadata": {},
     "output_type": "execute_result"
    }
   ],
   "source": [
    "20%3"
   ]
  },
  {
   "cell_type": "code",
   "execution_count": 1,
   "id": "ae30bd01-35eb-4159-b6ce-b92d3c552ffa",
   "metadata": {},
   "outputs": [],
   "source": [
    "a,b,c,d,e=15,7.8,'nit',8+9j,True"
   ]
  },
  {
   "cell_type": "code",
   "execution_count": 3,
   "id": "66099332-a290-4bc6-80aa-07c00f9d9b41",
   "metadata": {},
   "outputs": [
    {
     "name": "stdout",
     "output_type": "stream",
     "text": [
      "15\n",
      "7.8\n",
      "nit\n",
      "(8+9j)\n",
      "True\n"
     ]
    }
   ],
   "source": [
    "print(a)\n",
    "print(b)\n",
    "print(c)\n",
    "print(d)\n",
    "print(e)"
   ]
  },
  {
   "cell_type": "code",
   "execution_count": 18,
   "id": "902dc65e-1b71-4f77-a806-3d651bf75961",
   "metadata": {},
   "outputs": [
    {
     "name": "stdout",
     "output_type": "stream",
     "text": [
      "<class 'int'>\n",
      "<class 'float'>\n",
      "<class 'str'>\n",
      "<class 'complex'>\n",
      "<class 'bool'>\n"
     ]
    }
   ],
   "source": [
    "print(type(a))\n",
    "print(type(b))\n",
    "print(type(c))\n",
    "print(type(d))\n",
    "print(type(e))"
   ]
  },
  {
   "cell_type": "code",
   "execution_count": 24,
   "id": "73d5daa3-a2e3-4169-bcc5-53a737ffb105",
   "metadata": {},
   "outputs": [
    {
     "name": "stdout",
     "output_type": "stream",
     "text": [
      "max it\n"
     ]
    }
   ],
   "source": [
    "print('max it')"
   ]
  },
  {
   "cell_type": "code",
   "execution_count": 30,
   "id": "a9aa45bb-ee5f-4dd7-80f3-c2204627705b",
   "metadata": {},
   "outputs": [
    {
     "name": "stdout",
     "output_type": "stream",
     "text": [
      "naresh it tecnology\n"
     ]
    }
   ],
   "source": [
    "print(\"naresh it tecnology\")"
   ]
  },
  {
   "cell_type": "code",
   "execution_count": 32,
   "id": "98580044-e2db-414f-be32-701b8019b537",
   "metadata": {},
   "outputs": [
    {
     "data": {
      "text/plain": [
       "'naresh it tecnology'"
      ]
     },
     "execution_count": 32,
     "metadata": {},
     "output_type": "execute_result"
    }
   ],
   "source": [
    "S1 = 'naresh it tecnology'\n",
    "S1"
   ]
  },
  {
   "cell_type": "code",
   "execution_count": 34,
   "id": "16968aa1-a09a-4012-8f7e-084037d042b7",
   "metadata": {},
   "outputs": [
    {
     "data": {
      "text/plain": [
       "'naresh it tecnology'"
      ]
     },
     "execution_count": 34,
     "metadata": {},
     "output_type": "execute_result"
    }
   ],
   "source": [
    "S1= \"naresh it tecnology\"\n",
    "S1"
   ]
  },
  {
   "cell_type": "code",
   "execution_count": 36,
   "id": "eb27daf5-23f9-4d6a-8d73-a3c661666abf",
   "metadata": {},
   "outputs": [
    {
     "data": {
      "text/plain": [
       "5"
      ]
     },
     "execution_count": 36,
     "metadata": {},
     "output_type": "execute_result"
    }
   ],
   "source": [
    "a=2\n",
    "b=3\n",
    "a+b"
   ]
  },
  {
   "cell_type": "code",
   "execution_count": 38,
   "id": "aaf1cb92-7672-4e55-94f9-cf2974db1ebc",
   "metadata": {},
   "outputs": [
    {
     "data": {
      "text/plain": [
       "-1"
      ]
     },
     "execution_count": 38,
     "metadata": {},
     "output_type": "execute_result"
    }
   ],
   "source": [
    "a-b"
   ]
  },
  {
   "cell_type": "code",
   "execution_count": 45,
   "id": "8fa9cea2-b82b-43f5-9f63-35c82a1b91a7",
   "metadata": {},
   "outputs": [
    {
     "data": {
      "text/plain": [
       "5"
      ]
     },
     "execution_count": 45,
     "metadata": {},
     "output_type": "execute_result"
    }
   ],
   "source": [
    "c=a+b\n",
    "c"
   ]
  },
  {
   "cell_type": "code",
   "execution_count": 47,
   "id": "f52aea01-f8a6-479f-baa4-4737f13f8980",
   "metadata": {},
   "outputs": [],
   "source": [
    "#3+'nit' #cannot add interger with string"
   ]
  },
  {
   "cell_type": "code",
   "execution_count": 51,
   "id": "55eacd8d-043c-482b-90b4-bdcb54351ac1",
   "metadata": {},
   "outputs": [
    {
     "ename": "TypeError",
     "evalue": "unsupported operand type(s) for +: 'int' and 'str'",
     "output_type": "error",
     "traceback": [
      "\u001b[1;31m---------------------------------------------------------------------------\u001b[0m",
      "\u001b[1;31mTypeError\u001b[0m                                 Traceback (most recent call last)",
      "Cell \u001b[1;32mIn[51], line 3\u001b[0m\n\u001b[0;32m      1\u001b[0m a\u001b[38;5;241m=\u001b[39m\u001b[38;5;241m3\u001b[39m\n\u001b[0;32m      2\u001b[0m b\u001b[38;5;241m=\u001b[39m\u001b[38;5;124m'\u001b[39m\u001b[38;5;124mhello\u001b[39m\u001b[38;5;124m'\u001b[39m\n\u001b[1;32m----> 3\u001b[0m a\u001b[38;5;241m+\u001b[39mb\n",
      "\u001b[1;31mTypeError\u001b[0m: unsupported operand type(s) for +: 'int' and 'str'"
     ]
    }
   ],
   "source": [
    "a=3\n",
    "b='hello'\n",
    "a+b\n"
   ]
  },
  {
   "cell_type": "code",
   "execution_count": 53,
   "id": "106e6b30-6640-411a-b9ad-1234713f13e4",
   "metadata": {},
   "outputs": [
    {
     "name": "stdout",
     "output_type": "stream",
     "text": [
      "<class 'int'>\n",
      "<class 'str'>\n"
     ]
    }
   ],
   "source": [
    "print(type(a))\n",
    "print(type(b))"
   ]
  },
  {
   "cell_type": "code",
   "execution_count": 55,
   "id": "9ce408d3-7e92-4dec-9777-f860317be170",
   "metadata": {},
   "outputs": [
    {
     "name": "stdout",
     "output_type": "stream",
     "text": [
      "naresh it tecnology\n"
     ]
    }
   ],
   "source": [
    "print('naresh it tecnology')"
   ]
  },
  {
   "cell_type": "code",
   "execution_count": 59,
   "id": "132dc7f5-5033-42c4-9805-a341ecd57730",
   "metadata": {},
   "outputs": [
    {
     "name": "stdout",
     "output_type": "stream",
     "text": [
      "naresh it tecnology\n"
     ]
    }
   ],
   "source": [
    "print('naresh it','tecnology')"
   ]
  },
  {
   "cell_type": "code",
   "execution_count": 63,
   "id": "083f9c14-97b9-438f-94c7-27fba198be17",
   "metadata": {},
   "outputs": [
    {
     "ename": "SyntaxError",
     "evalue": "unterminated string literal (detected at line 1) (227714700.py, line 1)",
     "output_type": "error",
     "traceback": [
      "\u001b[1;36m  Cell \u001b[1;32mIn[63], line 1\u001b[1;36m\u001b[0m\n\u001b[1;33m    print('naresh\u001b[0m\n\u001b[1;37m          ^\u001b[0m\n\u001b[1;31mSyntaxError\u001b[0m\u001b[1;31m:\u001b[0m unterminated string literal (detected at line 1)\n"
     ]
    }
   ],
   "source": [
    "print('naresh\n",
    "       it tecnology')"
   ]
  },
  {
   "cell_type": "code",
   "execution_count": 71,
   "id": "3998b538-3719-436a-b4f4-658b58d3fb32",
   "metadata": {},
   "outputs": [
    {
     "data": {
      "text/plain": [
       "'nitjit'"
      ]
     },
     "execution_count": 71,
     "metadata": {},
     "output_type": "execute_result"
    }
   ],
   "source": [
    "'nit'+'jit'"
   ]
  },
  {
   "cell_type": "code",
   "execution_count": 73,
   "id": "3a443f3a-a8cc-4e63-b1f9-6e0c5b48a25a",
   "metadata": {},
   "outputs": [
    {
     "data": {
      "text/plain": [
       "'nitnitnitnitnit'"
      ]
     },
     "execution_count": 73,
     "metadata": {},
     "output_type": "execute_result"
    }
   ],
   "source": [
    "5*'nit'"
   ]
  },
  {
   "cell_type": "code",
   "execution_count": 81,
   "id": "581bd6da-b1e7-476f-a9a0-fe8ab655599e",
   "metadata": {},
   "outputs": [
    {
     "data": {
      "text/plain": [
       "' nit nit nit nit nit'"
      ]
     },
     "execution_count": 81,
     "metadata": {},
     "output_type": "execute_result"
    }
   ],
   "source": [
    "5* ' nit'"
   ]
  },
  {
   "cell_type": "code",
   "execution_count": 89,
   "id": "111c28ee-168b-45fe-9070-e55c249d0099",
   "metadata": {},
   "outputs": [
    {
     "name": "stdout",
     "output_type": "stream",
     "text": [
      "naresh \n",
      " nit\n"
     ]
    }
   ],
   "source": [
    "print('naresh \\n nit') #\\n: form new line"
   ]
  },
  {
   "cell_type": "code",
   "execution_count": 101,
   "id": "b4c669dc-a397-4594-9825-3b629397aeeb",
   "metadata": {},
   "outputs": [
    {
     "name": "stdout",
     "output_type": "stream",
     "text": [
      "dinesh\n",
      " shinde\n"
     ]
    }
   ],
   "source": [
    "print ('dinesh\\n shinde')"
   ]
  },
  {
   "cell_type": "markdown",
   "id": "f886f7ff-ac76-43e5-b636-df807d8898cb",
   "metadata": {},
   "source": [
    "variable || identifier || object"
   ]
  },
  {
   "cell_type": "code",
   "execution_count": 97,
   "id": "be4c75b7-c23b-4473-b481-b46ffb5bc232",
   "metadata": {},
   "outputs": [
    {
     "data": {
      "text/plain": [
       "10"
      ]
     },
     "execution_count": 97,
     "metadata": {},
     "output_type": "execute_result"
    }
   ],
   "source": [
    "x=10 #here x is variable/identifier/object\n",
    "x"
   ]
  },
  {
   "cell_type": "code",
   "execution_count": 99,
   "id": "d8fc5d9b-1f51-4d85-8786-a7e233ecc58e",
   "metadata": {},
   "outputs": [
    {
     "data": {
      "text/plain": [
       "13"
      ]
     },
     "execution_count": 99,
     "metadata": {},
     "output_type": "execute_result"
    }
   ],
   "source": [
    "x+3"
   ]
  },
  {
   "cell_type": "code",
   "execution_count": 103,
   "id": "9271c6dd-2fbd-48dd-8f71-b3eb53f59158",
   "metadata": {},
   "outputs": [
    {
     "data": {
      "text/plain": [
       "3"
      ]
     },
     "execution_count": 103,
     "metadata": {},
     "output_type": "execute_result"
    }
   ],
   "source": [
    "y=3\n",
    "y"
   ]
  },
  {
   "cell_type": "code",
   "execution_count": 105,
   "id": "60bfdc47-d3eb-4732-b656-b261662e816d",
   "metadata": {},
   "outputs": [
    {
     "data": {
      "text/plain": [
       "13"
      ]
     },
     "execution_count": 105,
     "metadata": {},
     "output_type": "execute_result"
    }
   ],
   "source": [
    "x+y"
   ]
  },
  {
   "cell_type": "code",
   "execution_count": 107,
   "id": "11c1955b-39d7-47a1-9a17-e6b32e7ea871",
   "metadata": {},
   "outputs": [
    {
     "data": {
      "text/plain": [
       "7"
      ]
     },
     "execution_count": 107,
     "metadata": {},
     "output_type": "execute_result"
    }
   ],
   "source": [
    "x-y"
   ]
  },
  {
   "cell_type": "code",
   "execution_count": 123,
   "id": "e5312222-b546-491c-87dd-547f1ebbeb64",
   "metadata": {},
   "outputs": [
    {
     "data": {
      "text/plain": [
       "25"
      ]
     },
     "execution_count": 123,
     "metadata": {},
     "output_type": "execute_result"
    }
   ],
   "source": [
    "x+y"
   ]
  },
  {
   "cell_type": "code",
   "execution_count": 111,
   "id": "75fb6bb3-0871-4b3a-b359-57868c2da0dd",
   "metadata": {},
   "outputs": [
    {
     "data": {
      "text/plain": [
       "25"
      ]
     },
     "execution_count": 111,
     "metadata": {},
     "output_type": "execute_result"
    }
   ],
   "source": [
    "x=13\n",
    "y=12\n",
    "x+y"
   ]
  },
  {
   "cell_type": "markdown",
   "id": "e7c376ce-e1d8-480c-bd50-f590d3733c73",
   "metadata": {},
   "source": [
    "String variable"
   ]
  },
  {
   "cell_type": "code",
   "execution_count": 115,
   "id": "3dcc645b-499d-477b-b262-a37a0f672ded",
   "metadata": {},
   "outputs": [
    {
     "data": {
      "text/plain": [
       "'nit'"
      ]
     },
     "execution_count": 115,
     "metadata": {},
     "output_type": "execute_result"
    }
   ],
   "source": [
    "name='nit'\n",
    "name"
   ]
  },
  {
   "cell_type": "code",
   "execution_count": 119,
   "id": "e765dfb6-64a6-4863-9d99-910aa5790392",
   "metadata": {},
   "outputs": [
    {
     "data": {
      "text/plain": [
       "'nit tecnology'"
      ]
     },
     "execution_count": 119,
     "metadata": {},
     "output_type": "execute_result"
    }
   ],
   "source": [
    "name+ ' tecnology'"
   ]
  },
  {
   "cell_type": "code",
   "execution_count": 125,
   "id": "97ce0664-2870-46c4-993b-fd30471c5b31",
   "metadata": {},
   "outputs": [
    {
     "data": {
      "text/plain": [
       "str"
      ]
     },
     "execution_count": 125,
     "metadata": {},
     "output_type": "execute_result"
    }
   ],
   "source": [
    "type(name)"
   ]
  },
  {
   "cell_type": "code",
   "execution_count": 127,
   "id": "7c8e6b08-8fa7-476f-aed2-6511a4740095",
   "metadata": {},
   "outputs": [
    {
     "data": {
      "text/plain": [
       "3"
      ]
     },
     "execution_count": 127,
     "metadata": {},
     "output_type": "execute_result"
    }
   ],
   "source": [
    "len(name]"
   ]
  },
  {
   "cell_type": "code",
   "execution_count": 145,
   "id": "1d8cdc38-64fa-4644-9dae-685d8aa61712",
   "metadata": {},
   "outputs": [
    {
     "data": {
      "text/plain": [
       "'n'"
      ]
     },
     "execution_count": 145,
     "metadata": {},
     "output_type": "execute_result"
    }
   ],
   "source": [
    "name[0]"
   ]
  },
  {
   "cell_type": "code",
   "execution_count": 147,
   "id": "31ac62f7-f03a-40c0-a4e9-a5cbb4d96151",
   "metadata": {},
   "outputs": [
    {
     "data": {
      "text/plain": [
       "'i'"
      ]
     },
     "execution_count": 147,
     "metadata": {},
     "output_type": "execute_result"
    }
   ],
   "source": [
    "name[1]"
   ]
  },
  {
   "cell_type": "code",
   "execution_count": 143,
   "id": "ee0685c7-cba7-4b61-b9f4-7777379be604",
   "metadata": {},
   "outputs": [
    {
     "data": {
      "text/plain": [
       "'t'"
      ]
     },
     "execution_count": 143,
     "metadata": {},
     "output_type": "execute_result"
    }
   ],
   "source": [
    "name[2]"
   ]
  },
  {
   "cell_type": "code",
   "execution_count": 149,
   "id": "07f77b4b-8590-4b76-a46f-547cace7cfa5",
   "metadata": {},
   "outputs": [
    {
     "data": {
      "text/plain": [
       "'i'"
      ]
     },
     "execution_count": 149,
     "metadata": {},
     "output_type": "execute_result"
    }
   ],
   "source": [
    "name[-2]"
   ]
  },
  {
   "cell_type": "code",
   "execution_count": 151,
   "id": "7c5b38a1-6c0a-4422-9706-343236db763c",
   "metadata": {},
   "outputs": [
    {
     "data": {
      "text/plain": [
       "'n'"
      ]
     },
     "execution_count": 151,
     "metadata": {},
     "output_type": "execute_result"
    }
   ],
   "source": [
    "name[-3]"
   ]
  },
  {
   "cell_type": "code",
   "execution_count": 153,
   "id": "d5a70cfb-acac-4482-8037-46243bff0b97",
   "metadata": {},
   "outputs": [
    {
     "data": {
      "text/plain": [
       "'i'"
      ]
     },
     "execution_count": 153,
     "metadata": {},
     "output_type": "execute_result"
    }
   ],
   "source": [
    "name[0]\n",
    "name[1]"
   ]
  },
  {
   "cell_type": "markdown",
   "id": "ae733d83-b234-4d72-b90a-48c268e5ace7",
   "metadata": {},
   "source": [
    "slicing"
   ]
  },
  {
   "cell_type": "code",
   "execution_count": 158,
   "id": "21cb8566-6dab-41c6-bba0-607487f1236c",
   "metadata": {},
   "outputs": [
    {
     "data": {
      "text/plain": [
       "'n'"
      ]
     },
     "execution_count": 158,
     "metadata": {},
     "output_type": "execute_result"
    }
   ],
   "source": [
    "name[0:1]"
   ]
  },
  {
   "cell_type": "code",
   "execution_count": 160,
   "id": "1290f553-0604-45bb-a375-647aedad3047",
   "metadata": {},
   "outputs": [
    {
     "data": {
      "text/plain": [
       "'it'"
      ]
     },
     "execution_count": 160,
     "metadata": {},
     "output_type": "execute_result"
    }
   ],
   "source": [
    "name[1:4]"
   ]
  },
  {
   "cell_type": "code",
   "execution_count": 166,
   "id": "dc259087-d6b8-4813-91dd-0eb1131b05c5",
   "metadata": {},
   "outputs": [
    {
     "data": {
      "text/plain": [
       "''"
      ]
     },
     "execution_count": 166,
     "metadata": {},
     "output_type": "execute_result"
    }
   ],
   "source": [
    "name[3:8]"
   ]
  },
  {
   "cell_type": "code",
   "execution_count": 168,
   "id": "c831ec68-0f12-49ad-8b75-21a715ca4897",
   "metadata": {},
   "outputs": [
    {
     "data": {
      "text/plain": [
       "''"
      ]
     },
     "execution_count": 168,
     "metadata": {},
     "output_type": "execute_result"
    }
   ],
   "source": [
    "name[3:2]"
   ]
  },
  {
   "cell_type": "markdown",
   "id": "b30110d9-2629-4097-8e74-539addf07136",
   "metadata": {},
   "source": [
    "Converting string to Dine"
   ]
  },
  {
   "cell_type": "code",
   "execution_count": 17,
   "id": "cfce966e-0c6f-4337-9cb5-98a71c4c5858",
   "metadata": {},
   "outputs": [
    {
     "data": {
      "text/plain": [
       "'fine'"
      ]
     },
     "execution_count": 17,
     "metadata": {},
     "output_type": "execute_result"
    }
   ],
   "source": [
    "name='fine'\n",
    "name"
   ]
  },
  {
   "cell_type": "code",
   "execution_count": 19,
   "id": "35ac6e5c-7b6b-4c6a-841c-da40213336e9",
   "metadata": {},
   "outputs": [
    {
     "ename": "NameError",
     "evalue": "name 'name1' is not defined",
     "output_type": "error",
     "traceback": [
      "\u001b[1;31m---------------------------------------------------------------------------\u001b[0m",
      "\u001b[1;31mNameError\u001b[0m                                 Traceback (most recent call last)",
      "Cell \u001b[1;32mIn[19], line 1\u001b[0m\n\u001b[1;32m----> 1\u001b[0m name1[\u001b[38;5;241m1\u001b[39m:]\n",
      "\u001b[1;31mNameError\u001b[0m: name 'name1' is not defined"
     ]
    }
   ],
   "source": [
    "name1[1:]"
   ]
  },
  {
   "cell_type": "code",
   "execution_count": 21,
   "id": "9d0a5c23-7544-42fd-a2a6-721ac5b939d5",
   "metadata": {},
   "outputs": [
    {
     "data": {
      "text/plain": [
       "'ine'"
      ]
     },
     "execution_count": 21,
     "metadata": {},
     "output_type": "execute_result"
    }
   ],
   "source": [
    "name [1:]"
   ]
  },
  {
   "cell_type": "code",
   "execution_count": 31,
   "id": "16641c8d-74ac-40b1-a8e0-1f6d22aa986d",
   "metadata": {},
   "outputs": [
    {
     "data": {
      "text/plain": [
       "'ineD'"
      ]
     },
     "execution_count": 31,
     "metadata": {},
     "output_type": "execute_result"
    }
   ],
   "source": [
    "name1=name[1:] +'D'\n",
    "name1"
   ]
  },
  {
   "cell_type": "code",
   "execution_count": 51,
   "id": "247e103f-aec7-45b9-bafa-42855e8677b7",
   "metadata": {},
   "outputs": [
    {
     "data": {
      "text/plain": [
       "'Dine'"
      ]
     },
     "execution_count": 51,
     "metadata": {},
     "output_type": "execute_result"
    }
   ],
   "source": [
    "name1='D'+ name[1:] \n",
    "name1"
   ]
  },
  {
   "cell_type": "code",
   "execution_count": 53,
   "id": "e83728dc-564f-4fc5-987d-c3e4803b4eee",
   "metadata": {},
   "outputs": [
    {
     "name": "stdout",
     "output_type": "stream",
     "text": [
      "fine\n",
      "Dine\n"
     ]
    }
   ],
   "source": [
    "print(name)\n",
    "print(name1)"
   ]
  },
  {
   "cell_type": "code",
   "execution_count": 85,
   "id": "5bb0208c-e496-48ff-9e79-e0b7f82fb749",
   "metadata": {},
   "outputs": [
    {
     "data": {
      "text/plain": [
       "'help'"
      ]
     },
     "execution_count": 85,
     "metadata": {},
     "output_type": "execute_result"
    }
   ],
   "source": [
    "str1='help' #convert string help to hell\n",
    "str1"
   ]
  },
  {
   "cell_type": "code",
   "execution_count": 103,
   "id": "c99c0b2a-cbe1-495e-8e38-d84d63611921",
   "metadata": {},
   "outputs": [
    {
     "name": "stdout",
     "output_type": "stream",
     "text": [
      "help\n",
      "hel1\n"
     ]
    }
   ],
   "source": [
    "str1= 'help'\n",
    "str2=str1[0:3]+ '1'\n",
    "print(str1)\n",
    "print(str2)"
   ]
  },
  {
   "cell_type": "code",
   "execution_count": 105,
   "id": "2b27e3f1-25b8-4c32-8638-5787b2329296",
   "metadata": {},
   "outputs": [
    {
     "data": {
      "text/plain": [
       "[1, 2, 'acedemy', 50]"
      ]
     },
     "execution_count": 105,
     "metadata": {},
     "output_type": "execute_result"
    }
   ],
   "source": [
    "num1=[1,2,'acedemy',50]\n",
    "num1"
   ]
  },
  {
   "cell_type": "code",
   "execution_count": 110,
   "id": "5180c287-9db5-41d3-ac30-0150e12aa8c1",
   "metadata": {},
   "outputs": [
    {
     "data": {
      "text/plain": [
       "[1, 2, 'acedemy', 'nit', 50]"
      ]
     },
     "execution_count": 110,
     "metadata": {},
     "output_type": "execute_result"
    }
   ],
   "source": [
    "num1.insert (3,'nit') #insert value at 2nd index (strated from 0 )\n",
    "num1"
   ]
  },
  {
   "cell_type": "code",
   "execution_count": 112,
   "id": "2fdf07c5-e9fa-4fba-9944-52d936df8ee2",
   "metadata": {},
   "outputs": [
    {
     "data": {
      "text/plain": [
       "[]"
      ]
     },
     "execution_count": 112,
     "metadata": {},
     "output_type": "execute_result"
    }
   ],
   "source": [
    "num1.clear()\n",
    "num1"
   ]
  },
  {
   "cell_type": "code",
   "execution_count": 114,
   "id": "786811ce-ad6d-4094-b4d6-4148c2856510",
   "metadata": {},
   "outputs": [
    {
     "ename": "TypeError",
     "evalue": "list indices must be integers or slices, not float",
     "output_type": "error",
     "traceback": [
      "\u001b[1;31m---------------------------------------------------------------------------\u001b[0m",
      "\u001b[1;31mTypeError\u001b[0m                                 Traceback (most recent call last)",
      "Cell \u001b[1;32mIn[114], line 1\u001b[0m\n\u001b[1;32m----> 1\u001b[0m num1[\u001b[38;5;241m0.1\u001b[39m]\n",
      "\u001b[1;31mTypeError\u001b[0m: list indices must be integers or slices, not float"
     ]
    }
   ],
   "source": [
    "num1[0.1]"
   ]
  },
  {
   "cell_type": "code",
   "execution_count": 116,
   "id": "0338bbc1-294e-4b4d-83f2-83c010363fab",
   "metadata": {},
   "outputs": [
    {
     "data": {
      "text/plain": [
       "[]"
      ]
     },
     "execution_count": 116,
     "metadata": {},
     "output_type": "execute_result"
    }
   ],
   "source": [
    "num1[0:1]"
   ]
  },
  {
   "cell_type": "code",
   "execution_count": 118,
   "id": "f586d2b2-e953-4cf4-8270-67d8479a0431",
   "metadata": {},
   "outputs": [
    {
     "data": {
      "text/plain": [
       "'f'"
      ]
     },
     "execution_count": 118,
     "metadata": {},
     "output_type": "execute_result"
    }
   ],
   "source": [
    "name[0:1]"
   ]
  },
  {
   "cell_type": "code",
   "execution_count": 124,
   "id": "92d64871-556d-4745-b1a0-d75448520995",
   "metadata": {},
   "outputs": [
    {
     "data": {
      "text/plain": [
       "'fi'"
      ]
     },
     "execution_count": 124,
     "metadata": {},
     "output_type": "execute_result"
    }
   ],
   "source": [
    "name[0:2]"
   ]
  },
  {
   "cell_type": "code",
   "execution_count": 128,
   "id": "097afe54-8e5c-4c04-8a65-0a5400f34b7f",
   "metadata": {},
   "outputs": [
    {
     "data": {
      "text/plain": [
       "'fine'"
      ]
     },
     "execution_count": 128,
     "metadata": {},
     "output_type": "execute_result"
    }
   ],
   "source": [
    "name[0:5]"
   ]
  },
  {
   "cell_type": "code",
   "execution_count": 130,
   "id": "a8c14d51-6789-43e8-a97c-d3b8b8c74129",
   "metadata": {},
   "outputs": [
    {
     "data": {
      "text/plain": [
       "''"
      ]
     },
     "execution_count": 130,
     "metadata": {},
     "output_type": "execute_result"
    }
   ],
   "source": [
    "name[1:0] #name[0] ='d' #strings in python are immutable"
   ]
  },
  {
   "cell_type": "code",
   "execution_count": 134,
   "id": "2ef01285-89f3-4ff9-9438-cb7fdfd9ab66",
   "metadata": {},
   "outputs": [
    {
     "data": {
      "text/plain": [
       "'ine'"
      ]
     },
     "execution_count": 134,
     "metadata": {},
     "output_type": "execute_result"
    }
   ],
   "source": [
    "name[1:4]"
   ]
  },
  {
   "cell_type": "markdown",
   "id": "44967963-8f4b-4529-a218-f8f481663320",
   "metadata": {},
   "source": [
    "ID"
   ]
  },
  {
   "cell_type": "code",
   "execution_count": 151,
   "id": "60d1a362-12e0-426f-b00d-aa585b24ca78",
   "metadata": {},
   "outputs": [
    {
     "data": {
      "text/plain": [
       "5"
      ]
     },
     "execution_count": 151,
     "metadata": {},
     "output_type": "execute_result"
    }
   ],
   "source": [
    "\n",
    "num = (5) \n",
    "num"
   ]
  },
  {
   "cell_type": "code",
   "execution_count": 153,
   "id": "94717282-d053-4fd1-a926-20f93f879cf4",
   "metadata": {},
   "outputs": [
    {
     "data": {
      "text/plain": [
       "140703574141496"
      ]
     },
     "execution_count": 153,
     "metadata": {},
     "output_type": "execute_result"
    }
   ],
   "source": [
    "id(num)"
   ]
  },
  {
   "cell_type": "code",
   "execution_count": 155,
   "id": "198b0db1-c114-41a0-822d-e67c9bcbd2f4",
   "metadata": {},
   "outputs": [
    {
     "data": {
      "text/plain": [
       "140703574141656"
      ]
     },
     "execution_count": 155,
     "metadata": {},
     "output_type": "execute_result"
    }
   ],
   "source": [
    "a=10\n",
    "id(a)\n"
   ]
  },
  {
   "cell_type": "code",
   "execution_count": 159,
   "id": "21dfc122-a125-41ed-ac3e-b238f57b8ddb",
   "metadata": {},
   "outputs": [
    {
     "data": {
      "text/plain": [
       "140703574141496"
      ]
     },
     "execution_count": 159,
     "metadata": {},
     "output_type": "execute_result"
    }
   ],
   "source": [
    "a=5\n",
    "id(a)\n"
   ]
  },
  {
   "cell_type": "code",
   "execution_count": 161,
   "id": "c6e0a579-3b2c-4fe8-91be-2a1a6375e817",
   "metadata": {},
   "outputs": [
    {
     "data": {
      "text/plain": [
       "2430351192496"
      ]
     },
     "execution_count": 161,
     "metadata": {},
     "output_type": "execute_result"
    }
   ],
   "source": [
    "name='naresh'\n",
    "id(name)"
   ]
  },
  {
   "cell_type": "code",
   "execution_count": 163,
   "id": "6d4aabf0-2652-43e7-a0a1-e60fa3afbe73",
   "metadata": {},
   "outputs": [
    {
     "data": {
      "text/plain": [
       "140703574141496"
      ]
     },
     "execution_count": 163,
     "metadata": {},
     "output_type": "execute_result"
    }
   ],
   "source": [
    "b=a #i.e why python is more memory efficient\n",
    "id(b)"
   ]
  },
  {
   "cell_type": "code",
   "execution_count": 165,
   "id": "1532deec-30e2-4734-a643-08db960ab10d",
   "metadata": {},
   "outputs": [
    {
     "data": {
      "text/plain": [
       "140703574142136"
      ]
     },
     "execution_count": 165,
     "metadata": {},
     "output_type": "execute_result"
    }
   ],
   "source": [
    "id(25)"
   ]
  },
  {
   "cell_type": "code",
   "execution_count": 167,
   "id": "692ad5ee-4a8b-4b12-86c3-0effc0594b8c",
   "metadata": {},
   "outputs": [
    {
     "data": {
      "text/plain": [
       "140703574142136"
      ]
     },
     "execution_count": 167,
     "metadata": {},
     "output_type": "execute_result"
    }
   ],
   "source": [
    "d=25\n",
    "id(d)"
   ]
  },
  {
   "cell_type": "code",
   "execution_count": 169,
   "id": "5a1d2c01-3ba6-4e25-8435-a7efd0f8c2de",
   "metadata": {},
   "outputs": [
    {
     "data": {
      "text/plain": [
       "140703574141496"
      ]
     },
     "execution_count": 169,
     "metadata": {},
     "output_type": "execute_result"
    }
   ],
   "source": [
    "id(a) # as we change value then address will also change"
   ]
  },
  {
   "cell_type": "code",
   "execution_count": 175,
   "id": "71278ca4-d349-42b2-9778-2c6ada78442c",
   "metadata": {},
   "outputs": [
    {
     "data": {
      "text/plain": [
       "1.15"
      ]
     },
     "execution_count": 175,
     "metadata": {},
     "output_type": "execute_result"
    }
   ],
   "source": [
    "PI=1.15 #in math this is always constant but in python we cannot change it\n",
    "PI"
   ]
  },
  {
   "cell_type": "code",
   "execution_count": 179,
   "id": "a48e95d9-0351-4482-b756-d4a5f315c511",
   "metadata": {},
   "outputs": [
    {
     "data": {
      "text/plain": [
       "21"
      ]
     },
     "execution_count": 179,
     "metadata": {},
     "output_type": "execute_result"
    }
   ],
   "source": [
    "AI=21\n",
    "AI"
   ]
  },
  {
   "cell_type": "code",
   "execution_count": 181,
   "id": "11e0b473-72ca-48f4-88b6-c978e0af7ea1",
   "metadata": {},
   "outputs": [
    {
     "data": {
      "text/plain": [
       "int"
      ]
     },
     "execution_count": 181,
     "metadata": {},
     "output_type": "execute_result"
    }
   ],
   "source": [
    "type(AI)"
   ]
  },
  {
   "cell_type": "code",
   "execution_count": 183,
   "id": "5f2e6f89-61bb-4d44-8c81-f5a8615323fd",
   "metadata": {},
   "outputs": [
    {
     "data": {
      "text/plain": [
       "float"
      ]
     },
     "execution_count": 183,
     "metadata": {},
     "output_type": "execute_result"
    }
   ],
   "source": [
    "type(PI)"
   ]
  },
  {
   "cell_type": "code",
   "execution_count": 189,
   "id": "fa596d90-4a6c-4b3e-a85a-0f3252342af7",
   "metadata": {},
   "outputs": [
    {
     "name": "stdout",
     "output_type": "stream",
     "text": [
      "Addition: 3\n"
     ]
    }
   ],
   "source": [
    "add=1+2\n",
    "print('Addition:',add)"
   ]
  },
  {
   "cell_type": "code",
   "execution_count": 193,
   "id": "587d18eb-e5d1-47ad-88ff-ad110f714d84",
   "metadata": {},
   "outputs": [
    {
     "name": "stdout",
     "output_type": "stream",
     "text": [
      "subtraction: 1\n"
     ]
    }
   ],
   "source": [
    "sub=3-2\n",
    "print('subtraction:',sub)"
   ]
  },
  {
   "cell_type": "code",
   "execution_count": 197,
   "id": "3d8c1fbb-c9e2-4657-8b96-b9b908235f94",
   "metadata": {},
   "outputs": [
    {
     "name": "stdout",
     "output_type": "stream",
     "text": [
      "multiplication: 6\n"
     ]
    }
   ],
   "source": [
    "mul=2*3\n",
    "print('multiplication:',mul)"
   ]
  },
  {
   "cell_type": "code",
   "execution_count": 199,
   "id": "46c959c7-8d6a-43db-894a-55c30e783626",
   "metadata": {},
   "outputs": [
    {
     "name": "stdout",
     "output_type": "stream",
     "text": [
      "division: 3.0\n"
     ]
    }
   ],
   "source": [
    "div=9/3\n",
    "print('division:',div)"
   ]
  },
  {
   "cell_type": "code",
   "execution_count": 207,
   "id": "d6d11922-eada-4860-8aae-73873bdb5882",
   "metadata": {},
   "outputs": [
    {
     "name": "stdout",
     "output_type": "stream",
     "text": [
      "floor division: 7\n"
     ]
    }
   ],
   "source": [
    "floor=7//1\n",
    "print('floor division:',floor)"
   ]
  },
  {
   "cell_type": "code",
   "execution_count": 211,
   "id": "64c86ebb-f361-46b3-997e-21fd5c072e5b",
   "metadata": {},
   "outputs": [
    {
     "name": "stdout",
     "output_type": "stream",
     "text": [
      "floor division: 3\n"
     ]
    }
   ],
   "source": [
    "floor=7//2\n",
    "print('floor division:',floor)"
   ]
  },
  {
   "cell_type": "code",
   "execution_count": 213,
   "id": "68fb7b92-b95c-4fbc-8456-20dbb11f168d",
   "metadata": {},
   "outputs": [
    {
     "name": "stdout",
     "output_type": "stream",
     "text": [
      "modulas: 1\n"
     ]
    }
   ],
   "source": [
    "mod=3%2\n",
    "print('modulas:',mod)"
   ]
  },
  {
   "cell_type": "code",
   "execution_count": 215,
   "id": "043ee9d7-9541-4fc8-b9c0-9f0062fecb33",
   "metadata": {},
   "outputs": [
    {
     "name": "stdout",
     "output_type": "stream",
     "text": [
      "exponential: 9\n"
     ]
    }
   ],
   "source": [
    "exp=3**2\n",
    "print('exponential:',exp)"
   ]
  },
  {
   "cell_type": "code",
   "execution_count": 217,
   "id": "c332d963-b5ce-4cf4-bad5-378a81073860",
   "metadata": {},
   "outputs": [
    {
     "name": "stdout",
     "output_type": "stream",
     "text": [
      "floating number,PI 1.15\n"
     ]
    }
   ],
   "source": [
    "print('floating number,PI',1.15)"
   ]
  },
  {
   "cell_type": "code",
   "execution_count": 219,
   "id": "816c5b05-214c-471d-bf52-837f93fd2f96",
   "metadata": {},
   "outputs": [
    {
     "name": "stdout",
     "output_type": "stream",
     "text": [
      "floating number,gravity 9.81\n"
     ]
    }
   ],
   "source": [
    "print('floating number,gravity',9.81)"
   ]
  },
  {
   "cell_type": "code",
   "execution_count": 221,
   "id": "1cb5e28f-53d8-4d1a-b8d6-f3880a69b7a0",
   "metadata": {},
   "outputs": [
    {
     "name": "stdout",
     "output_type": "stream",
     "text": [
      "complex number:  (1+1j)\n"
     ]
    }
   ],
   "source": [
    "print('complex number: ',1+1j)"
   ]
  },
  {
   "cell_type": "code",
   "execution_count": 225,
   "id": "dab6a544-b713-46c8-8b29-13633a6d215d",
   "metadata": {},
   "outputs": [
    {
     "name": "stdout",
     "output_type": "stream",
     "text": [
      "multiplying complex number:  (1+1j)\n"
     ]
    }
   ],
   "source": [
    "print('multiplying complex number: ',(1+1j))"
   ]
  },
  {
   "cell_type": "markdown",
   "id": "2e0adc79-2294-472b-b911-27314a3ce11e",
   "metadata": {},
   "source": [
    "Arithmetic Operators"
   ]
  },
  {
   "cell_type": "markdown",
   "id": "79844bb2-83d0-4e79-a13f-cb351ace17e6",
   "metadata": {},
   "source": [
    "addition+\n",
    "subtraction-\n",
    "multiplication*\n",
    "division/\n",
    "floor division//\n",
    "modulas%\n",
    "exponential**"
   ]
  },
  {
   "cell_type": "code",
   "execution_count": 234,
   "id": "64f8a372-0d3b-4119-a8df-ba4a0e6ca5b5",
   "metadata": {},
   "outputs": [
    {
     "name": "stdout",
     "output_type": "stream",
     "text": [
      "a + b =  10\n"
     ]
    }
   ],
   "source": [
    "total=a+b\n",
    "print('a + b = ',total)"
   ]
  },
  {
   "cell_type": "code",
   "execution_count": 240,
   "id": "bd553f9a-79be-4391-bd09-282e06eb9c98",
   "metadata": {},
   "outputs": [
    {
     "name": "stdout",
     "output_type": "stream",
     "text": [
      "a - b =  0\n"
     ]
    }
   ],
   "source": [
    "print('a - b = ',a-b)"
   ]
  },
  {
   "cell_type": "code",
   "execution_count": 244,
   "id": "27e78da3-3990-493e-b8c6-03d2062214e6",
   "metadata": {},
   "outputs": [
    {
     "name": "stdout",
     "output_type": "stream",
     "text": [
      "a * b =  25\n"
     ]
    }
   ],
   "source": [
    "print('a * b = ',a*b)\n"
   ]
  },
  {
   "cell_type": "code",
   "execution_count": 246,
   "id": "698f8549-59eb-4bcb-8f29-8c02f6ed9d9f",
   "metadata": {},
   "outputs": [
    {
     "name": "stdout",
     "output_type": "stream",
     "text": [
      "a / b =  1.0\n"
     ]
    }
   ],
   "source": [
    "print('a / b = ',a/b)"
   ]
  },
  {
   "cell_type": "code",
   "execution_count": 248,
   "id": "7af141c7-b48a-4733-b910-b52b7ef235e8",
   "metadata": {},
   "outputs": [
    {
     "name": "stdout",
     "output_type": "stream",
     "text": [
      "a % b =  0\n"
     ]
    }
   ],
   "source": [
    "print('a % b = ',a%b)"
   ]
  },
  {
   "cell_type": "code",
   "execution_count": 250,
   "id": "91942a40-d887-4757-bd19-8025c890af75",
   "metadata": {},
   "outputs": [
    {
     "name": "stdout",
     "output_type": "stream",
     "text": [
      "a // b =  1\n"
     ]
    }
   ],
   "source": [
    "print('a // b = ',a//b)"
   ]
  },
  {
   "cell_type": "code",
   "execution_count": 252,
   "id": "a9797f79-6f15-4beb-8784-e01149119d17",
   "metadata": {},
   "outputs": [
    {
     "name": "stdout",
     "output_type": "stream",
     "text": [
      "a ** b =  3125\n"
     ]
    }
   ],
   "source": [
    "print('a ** b = ',a**b)"
   ]
  },
  {
   "cell_type": "code",
   "execution_count": 254,
   "id": "8f0d1b9c-766a-49f1-91d2-6611e7fbd7a4",
   "metadata": {},
   "outputs": [
    {
     "name": "stdout",
     "output_type": "stream",
     "text": [
      "area of circle:  314.0\n"
     ]
    }
   ],
   "source": [
    "radius=10\n",
    "area=3.14 * radius ** 2\n",
    "print('area of circle: ',area)"
   ]
  },
  {
   "cell_type": "code",
   "execution_count": 258,
   "id": "d55adef3-01bc-499f-b872-2b274205d143",
   "metadata": {},
   "outputs": [
    {
     "name": "stdout",
     "output_type": "stream",
     "text": [
      "area of rectangle: 200\n"
     ]
    }
   ],
   "source": [
    "len=10\n",
    "wid=20\n",
    "area=len*wid\n",
    "print('area of rectangle:',area)"
   ]
  },
  {
   "cell_type": "markdown",
   "id": "82651be0-371d-47c3-be9a-2abd3d1aa5c9",
   "metadata": {},
   "source": [
    "Boolean Comparision"
   ]
  },
  {
   "cell_type": "code",
   "execution_count": 277,
   "id": "595747c0-dab0-4457-93ae-e262476844af",
   "metadata": {},
   "outputs": [
    {
     "name": "stdout",
     "output_type": "stream",
     "text": [
      "true == true: True\n"
     ]
    }
   ],
   "source": [
    "print('true == true:', True==True)"
   ]
  },
  {
   "cell_type": "code",
   "execution_count": 275,
   "id": "06a05fbb-e23a-406a-9c29-f618eb78e795",
   "metadata": {},
   "outputs": [
    {
     "name": "stdout",
     "output_type": "stream",
     "text": [
      "True ==  True:  True\n"
     ]
    }
   ],
   "source": [
    "print('True ==  True: ', True==True)"
   ]
  },
  {
   "cell_type": "code",
   "execution_count": 279,
   "id": "60c9c82c-9654-4565-b922-c7cd68af3ee4",
   "metadata": {},
   "outputs": [
    {
     "name": "stdout",
     "output_type": "stream",
     "text": [
      "True\n"
     ]
    }
   ],
   "source": [
    "print(True==True)"
   ]
  },
  {
   "cell_type": "code",
   "execution_count": 285,
   "id": "79dad2c6-fc7d-4527-a6d5-9a7d9d6a28fb",
   "metadata": {},
   "outputs": [
    {
     "name": "stdout",
     "output_type": "stream",
     "text": [
      "True\n"
     ]
    }
   ],
   "source": [
    "print(False==False)"
   ]
  },
  {
   "cell_type": "code",
   "execution_count": 288,
   "id": "853332ca-f1c5-43cc-bfea-c238dd92657e",
   "metadata": {},
   "outputs": [
    {
     "name": "stdout",
     "output_type": "stream",
     "text": [
      "False\n"
     ]
    }
   ],
   "source": [
    "print(False== True)"
   ]
  },
  {
   "cell_type": "code",
   "execution_count": 290,
   "id": "88fa9196-2a49-469d-95bb-8f3676813341",
   "metadata": {},
   "outputs": [
    {
     "name": "stdout",
     "output_type": "stream",
     "text": [
      "False\n"
     ]
    }
   ],
   "source": [
    "print(True==False)"
   ]
  },
  {
   "cell_type": "code",
   "execution_count": 292,
   "id": "c129b9b2-ae2f-44ff-9ce4-776c03f5f367",
   "metadata": {},
   "outputs": [
    {
     "name": "stdout",
     "output_type": "stream",
     "text": [
      "True\n"
     ]
    }
   ],
   "source": [
    "print(True and True)"
   ]
  },
  {
   "cell_type": "code",
   "execution_count": 294,
   "id": "f774e21a-598a-49ee-865c-ab777ced1bd6",
   "metadata": {},
   "outputs": [
    {
     "name": "stdout",
     "output_type": "stream",
     "text": [
      "True\n"
     ]
    }
   ],
   "source": [
    "print(True or False)"
   ]
  },
  {
   "cell_type": "code",
   "execution_count": 296,
   "id": "72cd3551-51fe-44f8-9335-525fa32a067f",
   "metadata": {},
   "outputs": [
    {
     "name": "stdout",
     "output_type": "stream",
     "text": [
      "True\n"
     ]
    }
   ],
   "source": [
    "print(3>2 or 4>3)"
   ]
  },
  {
   "cell_type": "code",
   "execution_count": 298,
   "id": "ef790e94-7552-464c-8568-2b74c542b996",
   "metadata": {},
   "outputs": [
    {
     "name": "stdout",
     "output_type": "stream",
     "text": [
      "True\n"
     ]
    }
   ],
   "source": [
    "print(3>2 or 4<3)"
   ]
  },
  {
   "cell_type": "code",
   "execution_count": 300,
   "id": "f3ea5899-98f5-4dc7-aa99-0adb12cbb8c1",
   "metadata": {},
   "outputs": [
    {
     "name": "stdout",
     "output_type": "stream",
     "text": [
      "False\n"
     ]
    }
   ],
   "source": [
    "print(not 3>2)"
   ]
  },
  {
   "cell_type": "code",
   "execution_count": 302,
   "id": "28d0e651-8e24-44dd-ae96-478e45adf10b",
   "metadata": {},
   "outputs": [
    {
     "name": "stdout",
     "output_type": "stream",
     "text": [
      "False\n"
     ]
    }
   ],
   "source": [
    "print(not True)"
   ]
  },
  {
   "cell_type": "code",
   "execution_count": 304,
   "id": "9b100e67-b12e-4a1d-9cf5-dd437ae28514",
   "metadata": {},
   "outputs": [
    {
     "name": "stdout",
     "output_type": "stream",
     "text": [
      "True\n"
     ]
    }
   ],
   "source": [
    "print (not not True)"
   ]
  },
  {
   "cell_type": "code",
   "execution_count": 306,
   "id": "bbe6ed25-7a31-44e7-abb2-52e1d610d6e1",
   "metadata": {},
   "outputs": [
    {
     "name": "stdout",
     "output_type": "stream",
     "text": [
      "False\n"
     ]
    }
   ],
   "source": [
    "print(not not False)"
   ]
  },
  {
   "cell_type": "markdown",
   "id": "5e24f7b9-f2f2-437c-8990-27c1b7d7929f",
   "metadata": {},
   "source": [
    "Assignment Operators"
   ]
  },
  {
   "cell_type": "markdown",
   "id": "6ef5b8a5-5c0a-451e-984c-1dd25416c7be",
   "metadata": {},
   "source": [
    "+= : Add & assign\n",
    "-= : Subtract & assign\n",
    "*= : Multiply & assign\n",
    "/= : Divide & assign\n",
    "//= : floor division & assign\n",
    "%= : Modulus & assign\n",
    "**= : Exponent & assign"
   ]
  },
  {
   "cell_type": "code",
   "execution_count": 313,
   "id": "1e91af18-c131-4f15-bc00-d500bdaafbda",
   "metadata": {},
   "outputs": [],
   "source": [
    "x=2"
   ]
  },
  {
   "cell_type": "code",
   "execution_count": 315,
   "id": "c80cfafd-5efa-46c1-af7f-0689d5fecf2f",
   "metadata": {},
   "outputs": [
    {
     "data": {
      "text/plain": [
       "4"
      ]
     },
     "execution_count": 315,
     "metadata": {},
     "output_type": "execute_result"
    }
   ],
   "source": [
    "x=x+2\n",
    "x"
   ]
  },
  {
   "cell_type": "code",
   "execution_count": 323,
   "id": "a4ddbcff-5435-4a60-a7d9-305bc3ff6511",
   "metadata": {},
   "outputs": [
    {
     "data": {
      "text/plain": [
       "12"
      ]
     },
     "execution_count": 323,
     "metadata": {},
     "output_type": "execute_result"
    }
   ],
   "source": [
    "x+=2\n",
    "x"
   ]
  },
  {
   "cell_type": "code",
   "execution_count": 325,
   "id": "fe19c46c-8b33-4609-9d55-875d15af40ac",
   "metadata": {},
   "outputs": [
    {
     "data": {
      "text/plain": [
       "24"
      ]
     },
     "execution_count": 325,
     "metadata": {},
     "output_type": "execute_result"
    }
   ],
   "source": [
    "x*=2\n",
    "x"
   ]
  },
  {
   "cell_type": "code",
   "execution_count": 329,
   "id": "efa311ac-b4bf-4057-b076-ba972b0f11d5",
   "metadata": {},
   "outputs": [
    {
     "data": {
      "text/plain": [
       "20"
      ]
     },
     "execution_count": 329,
     "metadata": {},
     "output_type": "execute_result"
    }
   ],
   "source": [
    "x-=2\n",
    "x"
   ]
  },
  {
   "cell_type": "code",
   "execution_count": 331,
   "id": "e13b7460-0dad-4e90-be23-8c3abc5297c6",
   "metadata": {},
   "outputs": [
    {
     "data": {
      "text/plain": [
       "10.0"
      ]
     },
     "execution_count": 331,
     "metadata": {},
     "output_type": "execute_result"
    }
   ],
   "source": [
    "x/=2\n",
    "x"
   ]
  },
  {
   "cell_type": "code",
   "execution_count": 335,
   "id": "72a8c8e2-f9b3-430e-898d-5c0a5aa46e89",
   "metadata": {},
   "outputs": [
    {
     "data": {
      "text/plain": [
       "2.0"
      ]
     },
     "execution_count": 335,
     "metadata": {},
     "output_type": "execute_result"
    }
   ],
   "source": [
    "x//=2\n",
    "x"
   ]
  },
  {
   "cell_type": "code",
   "execution_count": 337,
   "id": "f77a6477-7590-471e-9f5c-66f2126ae03a",
   "metadata": {},
   "outputs": [
    {
     "ename": "SyntaxError",
     "evalue": "invalid syntax (689431901.py, line 2)",
     "output_type": "error",
     "traceback": [
      "\u001b[1;36m  Cell \u001b[1;32mIn[337], line 2\u001b[1;36m\u001b[0m\n\u001b[1;33m    a=\u001b[0m\n\u001b[1;37m      ^\u001b[0m\n\u001b[1;31mSyntaxError\u001b[0m\u001b[1;31m:\u001b[0m invalid syntax\n"
     ]
    }
   ],
   "source": [
    "a,b=2,5\n",
    "a=\n",
    "b="
   ]
  },
  {
   "cell_type": "code",
   "execution_count": 339,
   "id": "d5a2df48-450e-4cbf-9b8e-e5a836f70fa1",
   "metadata": {},
   "outputs": [],
   "source": [
    "a,b=2,5"
   ]
  },
  {
   "cell_type": "code",
   "execution_count": 343,
   "id": "36141002-20bf-4b87-bd55-530ce266b771",
   "metadata": {},
   "outputs": [
    {
     "data": {
      "text/plain": [
       "2"
      ]
     },
     "execution_count": 343,
     "metadata": {},
     "output_type": "execute_result"
    }
   ],
   "source": [
    "a"
   ]
  },
  {
   "cell_type": "code",
   "execution_count": 345,
   "id": "83719c39-599c-4054-825e-ed25f4dafecc",
   "metadata": {},
   "outputs": [
    {
     "data": {
      "text/plain": [
       "5"
      ]
     },
     "execution_count": 345,
     "metadata": {},
     "output_type": "execute_result"
    }
   ],
   "source": [
    "b"
   ]
  },
  {
   "cell_type": "markdown",
   "id": "5d8b6654-04b0-403a-aa79-022af245760c",
   "metadata": {},
   "source": [
    "unary operator"
   ]
  },
  {
   "cell_type": "markdown",
   "id": "f64323b2-a694-4951-ac6b-3c773bfbb0a6",
   "metadata": {},
   "source": [
    "operators that operate on only one operand \n",
    "unary means  || binary means \n",
    "here we are applying unary minus operators(-) on operend n:\n",
    "the value of m becomes -7,which indicates as a negative value.\n"
   ]
  },
  {
   "cell_type": "code",
   "execution_count": 354,
   "id": "5c5c5b46-b004-428d-9469-46c8e9996c25",
   "metadata": {},
   "outputs": [
    {
     "data": {
      "text/plain": [
       "7"
      ]
     },
     "execution_count": 354,
     "metadata": {},
     "output_type": "execute_result"
    }
   ],
   "source": [
    " n=7 #negation\n",
    "n"
   ]
  },
  {
   "cell_type": "code",
   "execution_count": 359,
   "id": "ba8d05b0-2dce-49ba-b30a-b19614560cc7",
   "metadata": {},
   "outputs": [
    {
     "data": {
      "text/plain": [
       "-7"
      ]
     },
     "execution_count": 359,
     "metadata": {},
     "output_type": "execute_result"
    }
   ],
   "source": [
    "m=-(n)\n",
    "m"
   ]
  },
  {
   "cell_type": "code",
   "execution_count": 361,
   "id": "a753219d-2d20-425e-8295-dc709cc517fe",
   "metadata": {},
   "outputs": [
    {
     "data": {
      "text/plain": [
       "-7"
      ]
     },
     "execution_count": 361,
     "metadata": {},
     "output_type": "execute_result"
    }
   ],
   "source": [
    "-n"
   ]
  },
  {
   "cell_type": "markdown",
   "id": "4d7bd439-6047-49e5-bd18-3e6fc84b4bc7",
   "metadata": {},
   "source": [
    "Reletion Operator : for comparing"
   ]
  },
  {
   "cell_type": "code",
   "execution_count": 369,
   "id": "8d799170-779d-4250-a11b-320b8d61060d",
   "metadata": {},
   "outputs": [],
   "source": [
    "a=5\n",
    "b=6\n"
   ]
  },
  {
   "cell_type": "code",
   "execution_count": 371,
   "id": "a4d8528f-5c09-4d87-a777-d946f37b79ea",
   "metadata": {},
   "outputs": [
    {
     "data": {
      "text/plain": [
       "True"
      ]
     },
     "execution_count": 371,
     "metadata": {},
     "output_type": "execute_result"
    }
   ],
   "source": [
    "a<b"
   ]
  },
  {
   "cell_type": "code",
   "execution_count": 375,
   "id": "08af1629-5a51-4f95-b781-8a6626be84ad",
   "metadata": {},
   "outputs": [
    {
     "data": {
      "text/plain": [
       "False"
      ]
     },
     "execution_count": 375,
     "metadata": {},
     "output_type": "execute_result"
    }
   ],
   "source": [
    "a>b"
   ]
  },
  {
   "cell_type": "code",
   "execution_count": 377,
   "id": "6fb3cee7-28b8-4652-9aa6-148b9a1699f4",
   "metadata": {},
   "outputs": [
    {
     "data": {
      "text/plain": [
       "False"
      ]
     },
     "execution_count": 377,
     "metadata": {},
     "output_type": "execute_result"
    }
   ],
   "source": [
    "a==b"
   ]
  },
  {
   "cell_type": "code",
   "execution_count": 379,
   "id": "840a7313-cac8-4ee1-9bf0-380b3639adec",
   "metadata": {},
   "outputs": [
    {
     "data": {
      "text/plain": [
       "True"
      ]
     },
     "execution_count": 379,
     "metadata": {},
     "output_type": "execute_result"
    }
   ],
   "source": [
    "a!=b"
   ]
  },
  {
   "cell_type": "code",
   "execution_count": 385,
   "id": "9fdcc31c-fcbb-491b-9b53-6def60ddeb50",
   "metadata": {},
   "outputs": [],
   "source": [
    "b=5"
   ]
  },
  {
   "cell_type": "code",
   "execution_count": 387,
   "id": "7ee6bec7-02c2-4353-9aa8-d0e6fac4c5f0",
   "metadata": {},
   "outputs": [
    {
     "data": {
      "text/plain": [
       "True"
      ]
     },
     "execution_count": 387,
     "metadata": {},
     "output_type": "execute_result"
    }
   ],
   "source": [
    "a==b"
   ]
  },
  {
   "cell_type": "code",
   "execution_count": 391,
   "id": "24f2f485-1cc5-457b-9845-56461af131c2",
   "metadata": {},
   "outputs": [
    {
     "data": {
      "text/plain": [
       "True"
      ]
     },
     "execution_count": 391,
     "metadata": {},
     "output_type": "execute_result"
    }
   ],
   "source": [
    "a<=b"
   ]
  },
  {
   "cell_type": "code",
   "execution_count": 393,
   "id": "e3c5bc9a-7012-493c-aea1-43886cff3a0d",
   "metadata": {},
   "outputs": [
    {
     "data": {
      "text/plain": [
       "False"
      ]
     },
     "execution_count": 393,
     "metadata": {},
     "output_type": "execute_result"
    }
   ],
   "source": [
    "a<b"
   ]
  },
  {
   "cell_type": "markdown",
   "id": "b5e0654c-0591-4b50-b9f9-793ec49595b2",
   "metadata": {},
   "source": [
    "Logical operator"
   ]
  },
  {
   "cell_type": "code",
   "execution_count": 396,
   "id": "7c7f6ea4-879a-4d20-aabf-988f299825b2",
   "metadata": {},
   "outputs": [],
   "source": [
    "a=5\n",
    "b=3"
   ]
  },
  {
   "cell_type": "code",
   "execution_count": 398,
   "id": "483f756e-b52f-42cd-8ec8-c70a6cdd4319",
   "metadata": {},
   "outputs": [
    {
     "data": {
      "text/plain": [
       "True"
      ]
     },
     "execution_count": 398,
     "metadata": {},
     "output_type": "execute_result"
    }
   ],
   "source": [
    "a<8 and b<5"
   ]
  },
  {
   "cell_type": "code",
   "execution_count": 400,
   "id": "c0286524-e94a-4391-81ba-dea3354ed13c",
   "metadata": {},
   "outputs": [
    {
     "data": {
      "text/plain": [
       "False"
      ]
     },
     "execution_count": 400,
     "metadata": {},
     "output_type": "execute_result"
    }
   ],
   "source": [
    "a<7 and b>3"
   ]
  },
  {
   "cell_type": "code",
   "execution_count": 402,
   "id": "e305b2e7-2ff5-4060-a93a-9dda1caa4104",
   "metadata": {},
   "outputs": [
    {
     "data": {
      "text/plain": [
       "True"
      ]
     },
     "execution_count": 402,
     "metadata": {},
     "output_type": "execute_result"
    }
   ],
   "source": [
    "a<8 or b<2"
   ]
  },
  {
   "cell_type": "code",
   "execution_count": 404,
   "id": "8202e831-5d65-46cf-98ff-4b1465fce073",
   "metadata": {},
   "outputs": [
    {
     "data": {
      "text/plain": [
       "False"
      ]
     },
     "execution_count": 404,
     "metadata": {},
     "output_type": "execute_result"
    }
   ],
   "source": [
    "a>8 or b<3"
   ]
  },
  {
   "cell_type": "code",
   "execution_count": 408,
   "id": "0b355cf4-b52b-4129-af5c-7152e5cec645",
   "metadata": {},
   "outputs": [
    {
     "data": {
      "text/plain": [
       "False"
      ]
     },
     "execution_count": 408,
     "metadata": {},
     "output_type": "execute_result"
    }
   ],
   "source": [
    "x=False\n",
    "x"
   ]
  },
  {
   "cell_type": "code",
   "execution_count": 410,
   "id": "cf05435d-9555-44cb-94cb-4e40db7b845d",
   "metadata": {},
   "outputs": [
    {
     "data": {
      "text/plain": [
       "True"
      ]
     },
     "execution_count": 410,
     "metadata": {},
     "output_type": "execute_result"
    }
   ],
   "source": [
    "not x"
   ]
  },
  {
   "cell_type": "markdown",
   "id": "e443255c-0ce3-4a2c-9e26-454c101c9b27",
   "metadata": {},
   "source": [
    "Swipe 2 variable"
   ]
  },
  {
   "cell_type": "code",
   "execution_count": 414,
   "id": "df4fe7cd-25fa-4228-9ce4-bab374e29b95",
   "metadata": {},
   "outputs": [
    {
     "name": "stdout",
     "output_type": "stream",
     "text": [
      "5\n",
      "6\n"
     ]
    }
   ],
   "source": [
    "#without third variables\n",
    "a=5\n",
    "b=6\n",
    "print(a)\n",
    "print(b)"
   ]
  },
  {
   "cell_type": "code",
   "execution_count": 416,
   "id": "6c3ffdc0-8864-4bbe-ad71-fc6dfee41204",
   "metadata": {},
   "outputs": [
    {
     "name": "stdout",
     "output_type": "stream",
     "text": [
      "6\n",
      "5\n"
     ]
    }
   ],
   "source": [
    "a,b = b,a\n",
    "print(a)\n",
    "print(b)"
   ]
  },
  {
   "cell_type": "code",
   "execution_count": 429,
   "id": "51e124a2-8d7e-47fa-99ed-8c2064cc4aeb",
   "metadata": {},
   "outputs": [
    {
     "name": "stdout",
     "output_type": "stream",
     "text": [
      "3\n",
      "5\n",
      "5\n",
      "3\n"
     ]
    }
   ],
   "source": [
    "#using third variable\n",
    "x=3\n",
    "y=5\n",
    "print(x)\n",
    "print(y)\n",
    "temp=x\n",
    "x=y\n",
    "y=temp\n",
    "print(x)\n",
    "print(y)"
   ]
  },
  {
   "cell_type": "code",
   "execution_count": null,
   "id": "66a67acc-a4bf-4d80-9182-efeab28f0141",
   "metadata": {},
   "outputs": [],
   "source": []
  },
  {
   "cell_type": "code",
   "execution_count": null,
   "id": "338910ae-bbb8-4c85-893e-05e6cb16252d",
   "metadata": {},
   "outputs": [],
   "source": []
  }
 ],
 "metadata": {
  "kernelspec": {
   "display_name": "Python [conda env:base] *",
   "language": "python",
   "name": "conda-base-py"
  },
  "language_info": {
   "codemirror_mode": {
    "name": "ipython",
    "version": 3
   },
   "file_extension": ".py",
   "mimetype": "text/x-python",
   "name": "python",
   "nbconvert_exporter": "python",
   "pygments_lexer": "ipython3",
   "version": "3.12.7"
  }
 },
 "nbformat": 4,
 "nbformat_minor": 5
}
