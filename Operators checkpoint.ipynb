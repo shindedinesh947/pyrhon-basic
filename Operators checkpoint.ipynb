{
 "cells": [
  {
   "cell_type": "code",
   "execution_count": 3,
   "id": "0e048171-f3ac-4010-82c0-96ed9343599b",
   "metadata": {},
   "outputs": [
    {
     "name": "stdout",
     "output_type": "stream",
     "text": [
      "addition: 3\n"
     ]
    }
   ],
   "source": [
    "add=1+2\n",
    "print('addition:',add)"
   ]
  },
  {
   "cell_type": "code",
   "execution_count": 5,
   "id": "11bc6f36-97fc-43b0-bcad-da328cdc5440",
   "metadata": {},
   "outputs": [
    {
     "name": "stdout",
     "output_type": "stream",
     "text": [
      "substraction: 1\n"
     ]
    }
   ],
   "source": [
    "sub=2-1\n",
    "print('substraction:',sub)"
   ]
  },
  {
   "cell_type": "code",
   "execution_count": 8,
   "id": "f39b8a67-1891-4d11-94b1-da72b24bc992",
   "metadata": {},
   "outputs": [
    {
     "name": "stdout",
     "output_type": "stream",
     "text": [
      "multiplication: 6\n"
     ]
    }
   ],
   "source": [
    "mul=2*3\n",
    "print('multiplication:',mul)"
   ]
  },
  {
   "cell_type": "code",
   "execution_count": 10,
   "id": "ad0ce118-4c52-404c-994f-7e09eee8c385",
   "metadata": {},
   "outputs": [
    {
     "name": "stdout",
     "output_type": "stream",
     "text": [
      "division: 3.0\n"
     ]
    }
   ],
   "source": [
    "div=9/3\n",
    "print('division:',div)"
   ]
  },
  {
   "cell_type": "code",
   "execution_count": 12,
   "id": "e0d99263-a3b2-43e6-a588-769ee6b3d7c8",
   "metadata": {},
   "outputs": [
    {
     "name": "stdout",
     "output_type": "stream",
     "text": [
      "division: 2.5\n"
     ]
    }
   ],
   "source": [
    "div=5/2\n",
    "print('division:',div)"
   ]
  },
  {
   "cell_type": "code",
   "execution_count": 16,
   "id": "fc824c6e-6f11-47ed-9f8a-49d9af236002",
   "metadata": {},
   "outputs": [
    {
     "name": "stdout",
     "output_type": "stream",
     "text": [
      "floor div: 3\n"
     ]
    }
   ],
   "source": [
    "floor=7//2\n",
    "print('floor div:',floor)"
   ]
  },
  {
   "cell_type": "code",
   "execution_count": 18,
   "id": "bae6e793-4e38-4f43-b57e-43fd1903bba6",
   "metadata": {},
   "outputs": [
    {
     "name": "stdout",
     "output_type": "stream",
     "text": [
      "modulus: 1\n"
     ]
    }
   ],
   "source": [
    "mod=3%2\n",
    "print('modulus:',mod)"
   ]
  },
  {
   "cell_type": "code",
   "execution_count": 39,
   "id": "e183f47f-8570-4ae7-b656-2a5bf47dd762",
   "metadata": {},
   "outputs": [
    {
     "name": "stdout",
     "output_type": "stream",
     "text": [
      "exponentail: 9\n"
     ]
    },
    {
     "data": {
      "text/plain": [
       "3"
      ]
     },
     "execution_count": 39,
     "metadata": {},
     "output_type": "execute_result"
    }
   ],
   "source": [
    "exp=3**2\n",
    "print('exponentail:',exp)   #3*\n",
    "3"
   ]
  },
  {
   "cell_type": "code",
   "execution_count": 41,
   "id": "aa5c8ea6-8513-4c60-93a9-84e965babad6",
   "metadata": {},
   "outputs": [
    {
     "name": "stdout",
     "output_type": "stream",
     "text": [
      "floating number,p1 3.14\n",
      "floating number,gravity 9.81\n"
     ]
    }
   ],
   "source": [
    "print('floating number,p1',3.14)\n",
    "print('floating number,gravity',9.81)"
   ]
  },
  {
   "cell_type": "code",
   "execution_count": 43,
   "id": "f1bf9b45-cab5-459f-a469-919ae21a295d",
   "metadata": {},
   "outputs": [
    {
     "name": "stdout",
     "output_type": "stream",
     "text": [
      "complex number: (1+1j)\n",
      "multiplying complex number: (2+0j)\n"
     ]
    }
   ],
   "source": [
    "print('complex number:',1+1j)\n",
    "print('multiplying complex number:',(1+1j)*(1-1j))"
   ]
  },
  {
   "cell_type": "code",
   "execution_count": 45,
   "id": "0f2dd5fd-0d46-4796-9f75-8156111afdb6",
   "metadata": {},
   "outputs": [],
   "source": [
    "a=3\n",
    "b=5"
   ]
  },
  {
   "cell_type": "markdown",
   "id": "8fc3ba04-2f13-4374-b810-fb0013022623",
   "metadata": {},
   "source": [
    "# Arithmetic operators"
   ]
  },
  {
   "cell_type": "markdown",
   "id": "836e87c8-b799-4b50-bb04-b6db00788d51",
   "metadata": {},
   "source": [
    "* addition +\n",
    "* subtration -\n",
    "* multiplication *\n",
    "* division/\n",
    "* floor division //\n",
    "* modulus%\n",
    "* Exponentail** "
   ]
  },
  {
   "cell_type": "code",
   "execution_count": 49,
   "id": "e3acd6aa-ba2e-43c8-97b7-978431cb883c",
   "metadata": {},
   "outputs": [
    {
     "name": "stdout",
     "output_type": "stream",
     "text": [
      "a+b= 8\n"
     ]
    }
   ],
   "source": [
    "total=a+b\n",
    "print('a+b=',total)"
   ]
  },
  {
   "cell_type": "code",
   "execution_count": 59,
   "id": "7cb5523f-f26d-4f3f-b8e7-ccc7becf8b57",
   "metadata": {},
   "outputs": [
    {
     "name": "stdout",
     "output_type": "stream",
     "text": [
      "a - b = -2\n"
     ]
    }
   ],
   "source": [
    "print('a - b =',a-b)"
   ]
  },
  {
   "cell_type": "code",
   "execution_count": 61,
   "id": "cfa75ede-43b2-4f39-8fe8-5788071f11ea",
   "metadata": {},
   "outputs": [
    {
     "name": "stdout",
     "output_type": "stream",
     "text": [
      "a*b = 15\n"
     ]
    }
   ],
   "source": [
    "print('a*b =',a*b)"
   ]
  },
  {
   "cell_type": "code",
   "execution_count": 63,
   "id": "50e90787-df3b-48db-93ac-75741ea2921b",
   "metadata": {},
   "outputs": [
    {
     "name": "stdout",
     "output_type": "stream",
     "text": [
      "a / b = 0.6\n"
     ]
    }
   ],
   "source": [
    "print('a / b =',a/b)"
   ]
  },
  {
   "cell_type": "code",
   "execution_count": 65,
   "id": "42b115ae-f19d-421c-b88f-5abb982b726c",
   "metadata": {},
   "outputs": [
    {
     "name": "stdout",
     "output_type": "stream",
     "text": [
      "a % b = 3\n"
     ]
    }
   ],
   "source": [
    "print('a % b =',a%b)"
   ]
  },
  {
   "cell_type": "code",
   "execution_count": 67,
   "id": "95ea6296-20c8-462a-aa1a-49d4dd9b5e03",
   "metadata": {},
   "outputs": [
    {
     "name": "stdout",
     "output_type": "stream",
     "text": [
      "a//b= 0\n"
     ]
    }
   ],
   "source": [
    "print('a//b=',a//b)"
   ]
  },
  {
   "cell_type": "code",
   "execution_count": 69,
   "id": "154a3d84-5e9a-4037-9219-22b60754477e",
   "metadata": {},
   "outputs": [
    {
     "name": "stdout",
     "output_type": "stream",
     "text": [
      "a ** b = 0\n"
     ]
    }
   ],
   "source": [
    "print('a ** b =',a//b)"
   ]
  },
  {
   "cell_type": "code",
   "execution_count": 71,
   "id": "0f66e738-7dc4-44b2-b9c9-b7b743396bac",
   "metadata": {},
   "outputs": [
    {
     "name": "stdout",
     "output_type": "stream",
     "text": [
      "area of circle:  314.0\n"
     ]
    }
   ],
   "source": [
    "radius=10\n",
    "area=3.14 *radius ** 2\n",
    "print('area of circle: ',area)"
   ]
  },
  {
   "cell_type": "markdown",
   "id": "265648a6-4a3b-4bca-ba7e-ee7e3f2fc429",
   "metadata": {},
   "source": [
    "# Assignment Operators "
   ]
  },
  {
   "cell_type": "markdown",
   "id": "6e7cedbf-0db5-421c-bf17-cf2bb0a8f4b6",
   "metadata": {},
   "source": [
    "* +=:add & assign\n",
    "* -+:subtract & assign\n",
    "* *=:multiply & assign\n",
    "* /=:divide & assign\n",
    "* //=:floor & assign\n",
    "* %=:modulas & assign\n",
    "* **=:exponent & assign"
   ]
  },
  {
   "cell_type": "code",
   "execution_count": 75,
   "id": "376b727f-8885-43b2-a522-04aa5306642d",
   "metadata": {},
   "outputs": [],
   "source": [
    "x=2"
   ]
  },
  {
   "cell_type": "code",
   "execution_count": 77,
   "id": "8ec1cf37-c98c-4752-aedf-d83b746d8ed8",
   "metadata": {},
   "outputs": [
    {
     "data": {
      "text/plain": [
       "4"
      ]
     },
     "execution_count": 77,
     "metadata": {},
     "output_type": "execute_result"
    }
   ],
   "source": [
    "x=x+2\n",
    "x"
   ]
  },
  {
   "cell_type": "code",
   "execution_count": 79,
   "id": "e01b78cc-ec23-4f36-9c18-778679514709",
   "metadata": {},
   "outputs": [
    {
     "data": {
      "text/plain": [
       "6"
      ]
     },
     "execution_count": 79,
     "metadata": {},
     "output_type": "execute_result"
    }
   ],
   "source": [
    "x+=2\n",
    "x"
   ]
  },
  {
   "cell_type": "code",
   "execution_count": 81,
   "id": "4197d756-f5a3-4e1d-92d1-702e520541f2",
   "metadata": {},
   "outputs": [
    {
     "data": {
      "text/plain": [
       "8"
      ]
     },
     "execution_count": 81,
     "metadata": {},
     "output_type": "execute_result"
    }
   ],
   "source": [
    "x+=2\n",
    "x"
   ]
  },
  {
   "cell_type": "code",
   "execution_count": 83,
   "id": "ad7452a3-a184-47a4-9124-5289b4643463",
   "metadata": {},
   "outputs": [
    {
     "data": {
      "text/plain": [
       "16"
      ]
     },
     "execution_count": 83,
     "metadata": {},
     "output_type": "execute_result"
    }
   ],
   "source": [
    "x*=2\n",
    "x"
   ]
  },
  {
   "cell_type": "code",
   "execution_count": 89,
   "id": "af025168-79fa-4838-bd67-a34add1fd631",
   "metadata": {},
   "outputs": [
    {
     "data": {
      "text/plain": [
       "10"
      ]
     },
     "execution_count": 89,
     "metadata": {},
     "output_type": "execute_result"
    }
   ],
   "source": [
    "x-=2\n",
    "x"
   ]
  },
  {
   "cell_type": "code",
   "execution_count": 93,
   "id": "0d9ec598-039a-4c8a-9d9f-6b7199c1ce60",
   "metadata": {},
   "outputs": [
    {
     "data": {
      "text/plain": [
       "2.5"
      ]
     },
     "execution_count": 93,
     "metadata": {},
     "output_type": "execute_result"
    }
   ],
   "source": [
    "x/=2\n",
    "x"
   ]
  },
  {
   "cell_type": "code",
   "execution_count": 95,
   "id": "2611b394-75e2-466e-9b81-a147fc506895",
   "metadata": {},
   "outputs": [
    {
     "data": {
      "text/plain": [
       "1.0"
      ]
     },
     "execution_count": 95,
     "metadata": {},
     "output_type": "execute_result"
    }
   ],
   "source": [
    "x//=2\n",
    "x"
   ]
  },
  {
   "cell_type": "code",
   "execution_count": 97,
   "id": "fab228eb-77bc-468f-a8e0-fdb520b4bd66",
   "metadata": {},
   "outputs": [],
   "source": [
    "a,b=5,6"
   ]
  },
  {
   "cell_type": "code",
   "execution_count": 99,
   "id": "767d413a-8812-48fe-8bdb-b4f6529e1c4f",
   "metadata": {},
   "outputs": [
    {
     "data": {
      "text/plain": [
       "5"
      ]
     },
     "execution_count": 99,
     "metadata": {},
     "output_type": "execute_result"
    }
   ],
   "source": [
    "a"
   ]
  },
  {
   "cell_type": "code",
   "execution_count": 101,
   "id": "a25057f2-bbef-4891-9047-2b50656ec009",
   "metadata": {},
   "outputs": [
    {
     "data": {
      "text/plain": [
       "6"
      ]
     },
     "execution_count": 101,
     "metadata": {},
     "output_type": "execute_result"
    }
   ],
   "source": [
    "b"
   ]
  },
  {
   "cell_type": "markdown",
   "id": "d2eac9b5-f8f4-4b24-be7e-71c333f75896",
   "metadata": {},
   "source": [
    "# unary operator \n"
   ]
  },
  {
   "cell_type": "markdown",
   "id": "30d72bb2-5abd-4db9-bcdf-c192888a727c",
   "metadata": {},
   "source": [
    "* opera "
   ]
  }
 ],
 "metadata": {
  "kernelspec": {
   "display_name": "Python [conda env:base] *",
   "language": "python",
   "name": "conda-base-py"
  },
  "language_info": {
   "codemirror_mode": {
    "name": "ipython",
    "version": 3
   },
   "file_extension": ".py",
   "mimetype": "text/x-python",
   "name": "python",
   "nbconvert_exporter": "python",
   "pygments_lexer": "ipython3",
   "version": "3.12.7"
  }
 },
 "nbformat": 4,
 "nbformat_minor": 5
}
