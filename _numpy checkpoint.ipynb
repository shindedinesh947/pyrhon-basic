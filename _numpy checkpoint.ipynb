{
 "cells": [
  {
   "cell_type": "markdown",
   "id": "044400bc-4402-4138-81bf-4045ff465d90",
   "metadata": {},
   "source": [
    "# NUMPY"
   ]
  },
  {
   "cell_type": "markdown",
   "id": "adc1d635-3399-4393-94b0-13eab9d07890",
   "metadata": {},
   "source": [
    "Array contains elements of same data type.\n",
    "list has different data types."
   ]
  },
  {
   "cell_type": "code",
   "execution_count": null,
   "id": "0ecb9f27-b9b0-4553-95ae-cdba28ddba36",
   "metadata": {},
   "outputs": [],
   "source": [
    "NUMPY is very powerful library.\n",
    "it is NUMPY PACKED|LIBRARY|TOOLS|FRAMEWORK\n",
    "NUMPY : matimatics+data structure+ statistial function+linear algebra\n",
    "    NUMPY is labrary that handles array."
   ]
  },
  {
   "cell_type": "code",
   "execution_count": 1,
   "id": "a540bfe8-ba3f-401f-8aa0-90980803f58d",
   "metadata": {},
   "outputs": [],
   "source": [
    "import numpy as np"
   ]
  },
  {
   "cell_type": "code",
   "execution_count": 3,
   "id": "9f66f86d-b2af-48e1-966a-678e3191e9b2",
   "metadata": {},
   "outputs": [
    {
     "data": {
      "text/plain": [
       "'1.26.4'"
      ]
     },
     "execution_count": 3,
     "metadata": {},
     "output_type": "execute_result"
    }
   ],
   "source": [
    "np.__version__ #check version if numpy"
   ]
  },
  {
   "cell_type": "code",
   "execution_count": 4,
   "id": "2a00fc51-a991-42e3-b114-fb91d2084c89",
   "metadata": {},
   "outputs": [
    {
     "data": {
      "text/plain": [
       "'3.12.7 | packaged by Anaconda, Inc. | (main, Oct  4 2024, 13:17:27) [MSC v.1929 64 bit (AMD64)]'"
      ]
     },
     "execution_count": 4,
     "metadata": {},
     "output_type": "execute_result"
    }
   ],
   "source": [
    "import sys \n",
    "sys.version"
   ]
  },
  {
   "cell_type": "markdown",
   "id": "e10239ee-4a27-4bd4-a7a3-7c794a0c1194",
   "metadata": {},
   "source": [
    "# Creating array"
   ]
  },
  {
   "cell_type": "code",
   "execution_count": 6,
   "id": "c9300af9-9930-401b-9ff7-58f2219b81a9",
   "metadata": {},
   "outputs": [
    {
     "data": {
      "text/plain": [
       "[0, 1, 2, 3]"
      ]
     },
     "execution_count": 6,
     "metadata": {},
     "output_type": "execute_result"
    }
   ],
   "source": [
    "my_list=[0,1,2,3]\n",
    "my_list"
   ]
  },
  {
   "cell_type": "code",
   "execution_count": 7,
   "id": "be06f78f-91d5-4ad9-9cd4-17b282a5e467",
   "metadata": {},
   "outputs": [
    {
     "data": {
      "text/plain": [
       "list"
      ]
     },
     "execution_count": 7,
     "metadata": {},
     "output_type": "execute_result"
    }
   ],
   "source": [
    "type(my_list)"
   ]
  },
  {
   "cell_type": "markdown",
   "id": "7b7d0d33-bdbc-462d-89dc-d9e2263a1fb9",
   "metadata": {},
   "source": [
    "# Converting list into in array"
   ]
  },
  {
   "cell_type": "code",
   "execution_count": 9,
   "id": "72618e5e-0484-4219-9b35-62f68e48c3d5",
   "metadata": {},
   "outputs": [
    {
     "name": "stdout",
     "output_type": "stream",
     "text": [
      "Requirement already satisfied: np in c:\\users\\hp\\anaconda3\\lib\\site-packages (1.0.2)\n"
     ]
    }
   ],
   "source": [
    "!pip install np"
   ]
  },
  {
   "cell_type": "code",
   "execution_count": 22,
   "id": "28a655ae-9110-41e0-8d47-33e8d87ed763",
   "metadata": {},
   "outputs": [
    {
     "data": {
      "text/plain": [
       "array([0, 1, 2, 3])"
      ]
     },
     "execution_count": 22,
     "metadata": {},
     "output_type": "execute_result"
    }
   ],
   "source": [
    "arr=np.array(my_list) #converting string into array\n",
    "arr"
   ]
  },
  {
   "cell_type": "code",
   "execution_count": 23,
   "id": "151aa5f9-2fc5-4be7-9eeb-bd939f0c1721",
   "metadata": {},
   "outputs": [
    {
     "data": {
      "text/plain": [
       "numpy.ndarray"
      ]
     },
     "execution_count": 23,
     "metadata": {},
     "output_type": "execute_result"
    }
   ],
   "source": [
    "type(arr)"
   ]
  },
  {
   "cell_type": "code",
   "execution_count": 29,
   "id": "d9c9e5df-5559-440c-b8db-d37440c916e3",
   "metadata": {},
   "outputs": [
    {
     "data": {
      "text/plain": [
       "array([ 0,  1,  2,  3,  4,  5,  6,  7,  8,  9, 10, 11, 12, 13, 14])"
      ]
     },
     "execution_count": 29,
     "metadata": {},
     "output_type": "execute_result"
    }
   ],
   "source": [
    "np.arange(15)"
   ]
  },
  {
   "cell_type": "code",
   "execution_count": 31,
   "id": "612d2a93-cfb7-4875-9b06-3b13d2c6a32a",
   "metadata": {},
   "outputs": [
    {
     "data": {
      "text/plain": [
       "array([0., 1., 2.])"
      ]
     },
     "execution_count": 31,
     "metadata": {},
     "output_type": "execute_result"
    }
   ],
   "source": [
    "np.arange(3.0)"
   ]
  },
  {
   "cell_type": "code",
   "execution_count": 33,
   "id": "4fb52eeb-ba0e-4e9e-ba93-20eeebf13e34",
   "metadata": {},
   "outputs": [
    {
     "data": {
      "text/plain": [
       "array([0, 1, 2, 3, 4, 5, 6, 7, 8, 9])"
      ]
     },
     "execution_count": 33,
     "metadata": {},
     "output_type": "execute_result"
    }
   ],
   "source": [
    "np.arange(10)"
   ]
  },
  {
   "cell_type": "code",
   "execution_count": 35,
   "id": "2f10d5ea-e028-4d5e-b72c-5c4dddb245ac",
   "metadata": {},
   "outputs": [
    {
     "data": {
      "text/plain": [
       "array([0, 1, 2, 3, 4])"
      ]
     },
     "execution_count": 35,
     "metadata": {},
     "output_type": "execute_result"
    }
   ],
   "source": [
    "np.arange(0,5)"
   ]
  },
  {
   "cell_type": "code",
   "execution_count": 37,
   "id": "c7915d6b-a9d4-4d94-9fff-e4d65f00ba13",
   "metadata": {},
   "outputs": [
    {
     "data": {
      "text/plain": [
       "array([10, 11, 12, 13, 14, 15, 16, 17, 18, 19])"
      ]
     },
     "execution_count": 37,
     "metadata": {},
     "output_type": "execute_result"
    }
   ],
   "source": [
    "np.arange(10,20)"
   ]
  },
  {
   "cell_type": "code",
   "execution_count": 39,
   "id": "7eec4438-8ee7-48d7-8795-7b6d7ce86d2f",
   "metadata": {},
   "outputs": [
    {
     "data": {
      "text/plain": [
       "array([], dtype=int32)"
      ]
     },
     "execution_count": 39,
     "metadata": {},
     "output_type": "execute_result"
    }
   ],
   "source": [
    "np.arange(20,10) #1st arg < 2nd arg "
   ]
  },
  {
   "cell_type": "code",
   "execution_count": 41,
   "id": "625d002d-58fd-47d9-88ed-c8e8c4daef30",
   "metadata": {},
   "outputs": [
    {
     "data": {
      "text/plain": [
       "array([-20, -19, -18, -17, -16, -15, -14, -13, -12, -11, -10,  -9,  -8,\n",
       "        -7,  -6,  -5,  -4,  -3,  -2,  -1,   0,   1,   2,   3,   4,   5,\n",
       "         6,   7,   8,   9,  10,  11,  12,  13,  14,  15,  16,  17,  18,\n",
       "        19])"
      ]
     },
     "execution_count": 41,
     "metadata": {},
     "output_type": "execute_result"
    }
   ],
   "source": [
    "np.arange(-20,20)"
   ]
  },
  {
   "cell_type": "code",
   "execution_count": 43,
   "id": "449dea67-cbc0-4c28-a2e1-396126cc9102",
   "metadata": {},
   "outputs": [
    {
     "data": {
      "text/plain": [
       "30"
      ]
     },
     "execution_count": 43,
     "metadata": {},
     "output_type": "execute_result"
    }
   ],
   "source": [
    "len(np.arange(-20,10))"
   ]
  },
  {
   "cell_type": "code",
   "execution_count": 45,
   "id": "caf29a1c-e98e-4a92-bc19-17ec8300514b",
   "metadata": {},
   "outputs": [
    {
     "data": {
      "text/plain": [
       "array([-20, -19, -18, -17, -16, -15, -14, -13, -12, -11])"
      ]
     },
     "execution_count": 45,
     "metadata": {},
     "output_type": "execute_result"
    }
   ],
   "source": [
    "np.arange(-20,-10)"
   ]
  },
  {
   "cell_type": "code",
   "execution_count": 47,
   "id": "b271f869-80ab-4e2f-88ec-ce496d8b269c",
   "metadata": {},
   "outputs": [
    {
     "data": {
      "text/plain": [
       "array([], dtype=int32)"
      ]
     },
     "execution_count": 47,
     "metadata": {},
     "output_type": "execute_result"
    }
   ],
   "source": [
    "np.arange(30,20) #1st arg always be < than 2nd one"
   ]
  },
  {
   "cell_type": "code",
   "execution_count": 49,
   "id": "982ef2a3-ba91-43ba-857c-65c25406c799",
   "metadata": {},
   "outputs": [
    {
     "data": {
      "text/plain": [
       "array([-30, -29, -28, -27, -26, -25, -24, -23, -22, -21, -20, -19, -18,\n",
       "       -17, -16, -15, -14, -13, -12, -11, -10,  -9,  -8,  -7,  -6,  -5,\n",
       "        -4,  -3,  -2,  -1,   0,   1,   2,   3,   4,   5,   6,   7,   8,\n",
       "         9,  10,  11,  12,  13,  14,  15,  16,  17,  18,  19])"
      ]
     },
     "execution_count": 49,
     "metadata": {},
     "output_type": "execute_result"
    }
   ],
   "source": [
    "ar=np.arange(-30,20)\n",
    "ar"
   ]
  },
  {
   "cell_type": "code",
   "execution_count": 51,
   "id": "f1aef4e8-3b94-4548-9a90-66712ce7b230",
   "metadata": {},
   "outputs": [
    {
     "data": {
      "text/plain": [
       "50"
      ]
     },
     "execution_count": 51,
     "metadata": {},
     "output_type": "execute_result"
    }
   ],
   "source": [
    "len(ar)"
   ]
  },
  {
   "cell_type": "code",
   "execution_count": 53,
   "id": "a3bd709e-5343-48aa-ac96-ac028d6dc835",
   "metadata": {},
   "outputs": [
    {
     "data": {
      "text/plain": [
       "array([], dtype=int32)"
      ]
     },
     "execution_count": 53,
     "metadata": {},
     "output_type": "execute_result"
    }
   ],
   "source": [
    "np.arange(10,10)"
   ]
  },
  {
   "cell_type": "code",
   "execution_count": 55,
   "id": "b6333887-dd6c-40be-a727-553290edc9d6",
   "metadata": {},
   "outputs": [
    {
     "data": {
      "text/plain": [
       "array([10, 15, 20, 25])"
      ]
     },
     "execution_count": 55,
     "metadata": {},
     "output_type": "execute_result"
    }
   ],
   "source": [
    "np.arange(10,30,5)"
   ]
  },
  {
   "cell_type": "code",
   "execution_count": 57,
   "id": "2d809a89-3eff-40cb-a2f9-fd163ab76204",
   "metadata": {},
   "outputs": [
    {
     "data": {
      "text/plain": [
       "array([0, 3, 6, 9])"
      ]
     },
     "execution_count": 57,
     "metadata": {},
     "output_type": "execute_result"
    }
   ],
   "source": [
    "np.arange(0,10,3)"
   ]
  },
  {
   "cell_type": "code",
   "execution_count": 59,
   "id": "752ebb43-29a0-4254-9dcd-fff29e41fa8e",
   "metadata": {},
   "outputs": [
    {
     "data": {
      "text/plain": [
       "array([0., 0., 0.])"
      ]
     },
     "execution_count": 59,
     "metadata": {},
     "output_type": "execute_result"
    }
   ],
   "source": [
    "np.zeros(3) #1d array parametre tunning"
   ]
  },
  {
   "cell_type": "code",
   "execution_count": 61,
   "id": "eae56466-c6ef-4a66-8d39-6bcb670c1c76",
   "metadata": {},
   "outputs": [
    {
     "data": {
      "text/plain": [
       "array([0, 0, 0, 0, 0])"
      ]
     },
     "execution_count": 61,
     "metadata": {},
     "output_type": "execute_result"
    }
   ],
   "source": [
    "np.zeros(5,dtype=int)"
   ]
  },
  {
   "cell_type": "code",
   "execution_count": 63,
   "id": "9eb295f6-337d-450b-909a-56e050281cc6",
   "metadata": {},
   "outputs": [
    {
     "data": {
      "text/plain": [
       "array([[0, 0],\n",
       "       [0, 0]])"
      ]
     },
     "execution_count": 63,
     "metadata": {},
     "output_type": "execute_result"
    }
   ],
   "source": [
    "np.zeros((2,2),dtype=int)"
   ]
  },
  {
   "cell_type": "code",
   "execution_count": 65,
   "id": "e1dc8d7d-97a0-435f-8e52-ccc1c694ff35",
   "metadata": {},
   "outputs": [
    {
     "data": {
      "text/plain": [
       "array([[0., 0., 0., 0., 0., 0., 0., 0., 0., 0.],\n",
       "       [0., 0., 0., 0., 0., 0., 0., 0., 0., 0.]])"
      ]
     },
     "execution_count": 65,
     "metadata": {},
     "output_type": "execute_result"
    }
   ],
   "source": [
    "np.zeros((2,10))"
   ]
  },
  {
   "cell_type": "code",
   "execution_count": 67,
   "id": "250100dd-0200-4dd5-bde3-43bfaddd0c92",
   "metadata": {},
   "outputs": [
    {
     "data": {
      "text/plain": [
       "array([[0., 0., 0.],\n",
       "       [0., 0., 0.],\n",
       "       [0., 0., 0.]])"
      ]
     },
     "execution_count": 67,
     "metadata": {},
     "output_type": "execute_result"
    }
   ],
   "source": [
    "np.zeros((3,3))"
   ]
  },
  {
   "cell_type": "code",
   "execution_count": 69,
   "id": "ead955e1-491b-406e-a3fe-8db8d15a07db",
   "metadata": {},
   "outputs": [
    {
     "name": "stdout",
     "output_type": "stream",
     "text": [
      "[[0. 0.]\n",
      " [0. 0.]]\n"
     ]
    }
   ],
   "source": [
    "zero=np.zeros([2,2])\n",
    "print(zero)"
   ]
  },
  {
   "cell_type": "code",
   "execution_count": 71,
   "id": "72874072-340a-46f9-9c16-20ba77c7346d",
   "metadata": {},
   "outputs": [
    {
     "data": {
      "text/plain": [
       "array([[0., 0., 0., 0., 0., 0., 0., 0., 0., 0., 0., 0., 0., 0., 0., 0.,\n",
       "        0., 0., 0., 0.],\n",
       "       [0., 0., 0., 0., 0., 0., 0., 0., 0., 0., 0., 0., 0., 0., 0., 0.,\n",
       "        0., 0., 0., 0.],\n",
       "       [0., 0., 0., 0., 0., 0., 0., 0., 0., 0., 0., 0., 0., 0., 0., 0.,\n",
       "        0., 0., 0., 0.],\n",
       "       [0., 0., 0., 0., 0., 0., 0., 0., 0., 0., 0., 0., 0., 0., 0., 0.,\n",
       "        0., 0., 0., 0.],\n",
       "       [0., 0., 0., 0., 0., 0., 0., 0., 0., 0., 0., 0., 0., 0., 0., 0.,\n",
       "        0., 0., 0., 0.],\n",
       "       [0., 0., 0., 0., 0., 0., 0., 0., 0., 0., 0., 0., 0., 0., 0., 0.,\n",
       "        0., 0., 0., 0.],\n",
       "       [0., 0., 0., 0., 0., 0., 0., 0., 0., 0., 0., 0., 0., 0., 0., 0.,\n",
       "        0., 0., 0., 0.],\n",
       "       [0., 0., 0., 0., 0., 0., 0., 0., 0., 0., 0., 0., 0., 0., 0., 0.,\n",
       "        0., 0., 0., 0.],\n",
       "       [0., 0., 0., 0., 0., 0., 0., 0., 0., 0., 0., 0., 0., 0., 0., 0.,\n",
       "        0., 0., 0., 0.],\n",
       "       [0., 0., 0., 0., 0., 0., 0., 0., 0., 0., 0., 0., 0., 0., 0., 0.,\n",
       "        0., 0., 0., 0.]])"
      ]
     },
     "execution_count": 71,
     "metadata": {},
     "output_type": "execute_result"
    }
   ],
   "source": [
    "np.zeros((10,20))"
   ]
  },
  {
   "cell_type": "code",
   "execution_count": 73,
   "id": "cfabe9ca-aa3e-4335-9a7f-3f67553a5015",
   "metadata": {},
   "outputs": [
    {
     "data": {
      "text/plain": [
       "array([1., 1., 1.])"
      ]
     },
     "execution_count": 73,
     "metadata": {},
     "output_type": "execute_result"
    }
   ],
   "source": [
    "np.ones(3)"
   ]
  },
  {
   "cell_type": "code",
   "execution_count": 75,
   "id": "bba8d13c-d82d-493c-b1d8-ecd9073cdcb3",
   "metadata": {},
   "outputs": [
    {
     "data": {
      "text/plain": [
       "array([1., 1.])"
      ]
     },
     "execution_count": 75,
     "metadata": {},
     "output_type": "execute_result"
    }
   ],
   "source": [
    "np.ones(2)"
   ]
  },
  {
   "cell_type": "code",
   "execution_count": 77,
   "id": "520bb70e-13e0-4db4-b143-77c1f34c03e8",
   "metadata": {},
   "outputs": [
    {
     "data": {
      "text/plain": [
       "array([1, 1, 1, 1])"
      ]
     },
     "execution_count": 77,
     "metadata": {},
     "output_type": "execute_result"
    }
   ],
   "source": [
    "np.ones(4,dtype=int)"
   ]
  },
  {
   "cell_type": "code",
   "execution_count": 79,
   "id": "c34de92a-0c08-4293-b43b-52070b94cdc6",
   "metadata": {},
   "outputs": [
    {
     "data": {
      "text/plain": [
       "array([0.97262795, 0.2530482 , 0.84299912, 0.14497451, 0.11370406])"
      ]
     },
     "execution_count": 79,
     "metadata": {},
     "output_type": "execute_result"
    }
   ],
   "source": [
    "np.random.rand(5) #rand gives float no"
   ]
  },
  {
   "cell_type": "code",
   "execution_count": 81,
   "id": "b6ff378a-ffd0-4880-8f67-f6c6e42774a1",
   "metadata": {},
   "outputs": [
    {
     "data": {
      "text/plain": [
       "array([0.92381662, 0.34117595, 0.38485257, 0.36481144])"
      ]
     },
     "execution_count": 81,
     "metadata": {},
     "output_type": "execute_result"
    }
   ],
   "source": [
    "np.random.rand(4)"
   ]
  },
  {
   "cell_type": "code",
   "execution_count": 83,
   "id": "ccfa48ea-776e-4510-afe5-05304786b50e",
   "metadata": {},
   "outputs": [
    {
     "data": {
      "text/plain": [
       "array([[0.31429686, 0.63860762, 0.44388868, 0.41779371],\n",
       "       [0.49005673, 0.36965088, 0.38858931, 0.69672557]])"
      ]
     },
     "execution_count": 83,
     "metadata": {},
     "output_type": "execute_result"
    }
   ],
   "source": [
    "np.random.rand(2,4) #2 rows and 4 columns"
   ]
  },
  {
   "cell_type": "code",
   "execution_count": 85,
   "id": "4e82fd7a-4d9f-44a2-8630-5f0fb4b8c26b",
   "metadata": {},
   "outputs": [
    {
     "data": {
      "text/plain": [
       "array([[0.99755665, 0.66826605, 0.99741485, 0.67607483, 0.60453427],\n",
       "       [0.8320936 , 0.61322919, 0.88071198, 0.93512871, 0.15331494],\n",
       "       [0.65652937, 0.98174146, 0.02661527, 0.61557611, 0.60847281]])"
      ]
     },
     "execution_count": 85,
     "metadata": {},
     "output_type": "execute_result"
    }
   ],
   "source": [
    "np.random.rand(3,5) #3 rows 5 columns"
   ]
  },
  {
   "cell_type": "code",
   "execution_count": 87,
   "id": "f04c2abd-a229-4c87-9c7e-f2928896a86a",
   "metadata": {},
   "outputs": [
    {
     "data": {
      "text/plain": [
       "3"
      ]
     },
     "execution_count": 87,
     "metadata": {},
     "output_type": "execute_result"
    }
   ],
   "source": [
    "np.random.randint(3,5)"
   ]
  },
  {
   "cell_type": "code",
   "execution_count": 90,
   "id": "41d55ff4-1f38-4ca5-b96a-ad54b31d4bc1",
   "metadata": {},
   "outputs": [
    {
     "data": {
      "text/plain": [
       "15"
      ]
     },
     "execution_count": 90,
     "metadata": {},
     "output_type": "execute_result"
    }
   ],
   "source": [
    "np.random.randint(10,20)"
   ]
  },
  {
   "cell_type": "code",
   "execution_count": 92,
   "id": "cb8fc044-ffb1-42a6-a5f7-dd3cdfee4296",
   "metadata": {},
   "outputs": [
    {
     "data": {
      "text/plain": [
       "array([0.56018645, 0.72976384, 0.5205614 ])"
      ]
     },
     "execution_count": 92,
     "metadata": {},
     "output_type": "execute_result"
    }
   ],
   "source": [
    "np.random.rand(3)"
   ]
  },
  {
   "cell_type": "code",
   "execution_count": 94,
   "id": "abc20df0-cee3-4523-b48e-3170f80cf8d4",
   "metadata": {},
   "outputs": [
    {
     "data": {
      "text/plain": [
       "0"
      ]
     },
     "execution_count": 94,
     "metadata": {},
     "output_type": "execute_result"
    }
   ],
   "source": [
    "np.random.randint(1) "
   ]
  },
  {
   "cell_type": "code",
   "execution_count": 96,
   "id": "cb7413dd-70cf-41be-8f2a-51ce25aa570f",
   "metadata": {},
   "outputs": [
    {
     "data": {
      "text/plain": [
       "array([15, 15, 10, 17, 17, 11, 17, 13, 17, 12, 14, 15, 13, 14, 14, 19, 15,\n",
       "       10, 15, 10, 12, 13, 16, 15, 19, 18, 17, 11, 14, 13])"
      ]
     },
     "execution_count": 96,
     "metadata": {},
     "output_type": "execute_result"
    }
   ],
   "source": [
    "np.random.randint(10,20,30) #10*10 matrixs not between 10 to 30"
   ]
  },
  {
   "cell_type": "code",
   "execution_count": 98,
   "id": "83148434-4282-44fc-a4b6-21fdd05d9eb3",
   "metadata": {},
   "outputs": [
    {
     "data": {
      "text/plain": [
       "9"
      ]
     },
     "execution_count": 98,
     "metadata": {},
     "output_type": "execute_result"
    }
   ],
   "source": [
    "np.random.randint(2,20) #random interger no between 3&5 "
   ]
  },
  {
   "cell_type": "code",
   "execution_count": 100,
   "id": "69e014c4-898e-45b3-b380-7c2cf1ab6f69",
   "metadata": {},
   "outputs": [
    {
     "data": {
      "text/plain": [
       "9"
      ]
     },
     "execution_count": 100,
     "metadata": {},
     "output_type": "execute_result"
    }
   ],
   "source": [
    "np.random.randint(2,21)"
   ]
  },
  {
   "cell_type": "code",
   "execution_count": 102,
   "id": "5b631fcf-49bf-42b9-9101-e99cf052fe65",
   "metadata": {},
   "outputs": [
    {
     "data": {
      "text/plain": [
       "array([[106, 173, 138,  83,  51,  39, 185,  40, 195,  96],\n",
       "       [118, 127, 115, 140, 130,  98, 187, 129,  98,  35],\n",
       "       [108, 124,  55, 107,  79, 107,  52,  23,  61,  64],\n",
       "       [ 67,  51, 152, 136, 135,  50,  31, 170, 163, 176],\n",
       "       [ 95,  21,  91, 172,  17,  86, 161,  32, 174, 109],\n",
       "       [111, 183,  79, 127, 175,  70, 104,  26, 126, 192],\n",
       "       [102, 181,  74,  36,  77, 165,  49, 170, 126, 106],\n",
       "       [183,  37, 167, 141,  67,  88, 160,  27, 122, 138],\n",
       "       [ 31,  63,  31, 167,  77, 198, 122,  43, 125, 171],\n",
       "       [138, 117, 184, 169,  63,  22,  60,  32,  60,  80]])"
      ]
     },
     "execution_count": 102,
     "metadata": {},
     "output_type": "execute_result"
    }
   ],
   "source": [
    "np.random.randint(10,200,(10,10)) #10*10 matrix has between 10 to 40"
   ]
  },
  {
   "cell_type": "code",
   "execution_count": 104,
   "id": "d976c339-40a0-4191-94a9-40dd0fc51080",
   "metadata": {},
   "outputs": [
    {
     "data": {
      "text/plain": [
       "array([[55, 46, 82, 66, 87, 50,  3, 23, 36, 52, 13, 99],\n",
       "       [ 5, 76, 14, 12, 23, 19, 62, 76, 96, 77, 61, 87],\n",
       "       [ 2, 45, 89, 29, 40, 54,  1, 92, 11, 55,  5, 89],\n",
       "       [23, 42, 41, 39, 96, 69, 55, 93, 95, 98,  3, 86],\n",
       "       [88, 90, 88, 14, 78, 11, 71, 88, 81, 73, 65, 43],\n",
       "       [ 6, 92, 65, 35,  2, 64, 89, 17, 64, 49, 89, 99],\n",
       "       [ 3,  9, 19, 28, 89, 73, 72, 76, 88, 42, 88, 57],\n",
       "       [51, 45, 65, 96, 47, 29, 14,  3, 19,  6, 12, 55],\n",
       "       [46, 21,  1, 50, 46, 58, 68, 29, 66, 78, 80, 78],\n",
       "       [ 3, 99, 86, 66,  5, 54, 35, 89,  7, 10, 49, 11],\n",
       "       [33, 38, 50, 18, 98, 92, 65, 44, 69, 41, 63, 88],\n",
       "       [41, 59, 30, 90, 21, 41,  8, 72, 58, 53, 40, 58]])"
      ]
     },
     "execution_count": 104,
     "metadata": {},
     "output_type": "execute_result"
    }
   ],
   "source": [
    "np.random.randint(1,100,(12,12))"
   ]
  },
  {
   "cell_type": "code",
   "execution_count": 106,
   "id": "0fdd743f-285c-44b2-b9ca-4c16ba82f48b",
   "metadata": {},
   "outputs": [
    {
     "ename": "ValueError",
     "evalue": "cannot reshape array of size 12 into shape (5,4)",
     "output_type": "error",
     "traceback": [
      "\u001b[1;31m---------------------------------------------------------------------------\u001b[0m",
      "\u001b[1;31mValueError\u001b[0m                                Traceback (most recent call last)",
      "Cell \u001b[1;32mIn[106], line 1\u001b[0m\n\u001b[1;32m----> 1\u001b[0m np\u001b[38;5;241m.\u001b[39marange(\u001b[38;5;241m1\u001b[39m,\u001b[38;5;241m13\u001b[39m)\u001b[38;5;241m.\u001b[39mreshape(\u001b[38;5;241m5\u001b[39m,\u001b[38;5;241m4\u001b[39m)\n",
      "\u001b[1;31mValueError\u001b[0m: cannot reshape array of size 12 into shape (5,4)"
     ]
    }
   ],
   "source": [
    "np.arange(1,13).reshape(5,4)"
   ]
  },
  {
   "cell_type": "code",
   "execution_count": 108,
   "id": "4e549974-fa0e-492d-93b3-bea782af844b",
   "metadata": {},
   "outputs": [
    {
     "data": {
      "text/plain": [
       "array([[ 1,  2],\n",
       "       [ 3,  4],\n",
       "       [ 5,  6],\n",
       "       [ 7,  8],\n",
       "       [ 9, 10],\n",
       "       [11, 12]])"
      ]
     },
     "execution_count": 108,
     "metadata": {},
     "output_type": "execute_result"
    }
   ],
   "source": [
    "np.arange(1,13).reshape(6,2)"
   ]
  },
  {
   "cell_type": "code",
   "execution_count": 110,
   "id": "2bd76591-180c-45ca-b695-23141b7333ef",
   "metadata": {},
   "outputs": [
    {
     "data": {
      "text/plain": [
       "array([[ 1,  2,  3,  4,  5,  6,  7,  8,  9, 10, 11, 12]])"
      ]
     },
     "execution_count": 110,
     "metadata": {},
     "output_type": "execute_result"
    }
   ],
   "source": [
    "np.arange(1,13).reshape(1,12)"
   ]
  },
  {
   "cell_type": "code",
   "execution_count": 112,
   "id": "8624c5bf-f5c7-4bfb-98c0-d2d75bc93d11",
   "metadata": {},
   "outputs": [
    {
     "data": {
      "text/plain": [
       "array([[13, 14, 14, 10],\n",
       "       [10, 11, 10, 17],\n",
       "       [18, 14, 11, 17],\n",
       "       [13, 18, 13, 17],\n",
       "       [10, 15, 16, 17]])"
      ]
     },
     "execution_count": 112,
     "metadata": {},
     "output_type": "execute_result"
    }
   ],
   "source": [
    "b=np.random.randint(10,20,(5,4)) #5*4matrix\n",
    "b"
   ]
  },
  {
   "cell_type": "code",
   "execution_count": 114,
   "id": "ae7e9970-b992-48dc-a6fe-71025dcf2fad",
   "metadata": {},
   "outputs": [
    {
     "data": {
      "text/plain": [
       "numpy.ndarray"
      ]
     },
     "execution_count": 114,
     "metadata": {},
     "output_type": "execute_result"
    }
   ],
   "source": [
    "type(b)"
   ]
  },
  {
   "cell_type": "code",
   "execution_count": 116,
   "id": "cfa766fc-5e6e-4833-8f8f-1e8c5094cdb1",
   "metadata": {},
   "outputs": [
    {
     "data": {
      "text/plain": [
       "array([[13, 14, 14, 10],\n",
       "       [10, 11, 10, 17],\n",
       "       [18, 14, 11, 17],\n",
       "       [13, 18, 13, 17],\n",
       "       [10, 15, 16, 17]])"
      ]
     },
     "execution_count": 116,
     "metadata": {},
     "output_type": "execute_result"
    }
   ],
   "source": [
    "\n",
    "b"
   ]
  },
  {
   "cell_type": "code",
   "execution_count": 118,
   "id": "9b493809-b7d5-44bd-b0cc-2f4cb6aa05c7",
   "metadata": {},
   "outputs": [
    {
     "data": {
      "text/plain": [
       "array([[10, 11, 10, 17],\n",
       "       [18, 14, 11, 17]])"
      ]
     },
     "execution_count": 118,
     "metadata": {},
     "output_type": "execute_result"
    }
   ],
   "source": [
    "b[1:3] # it will display entire row items(n-1)"
   ]
  },
  {
   "cell_type": "code",
   "execution_count": 120,
   "id": "5b128fdb-f045-4e18-84c0-82aa96270807",
   "metadata": {},
   "outputs": [
    {
     "data": {
      "text/plain": [
       "array([[13, 14, 14, 10],\n",
       "       [10, 11, 10, 17],\n",
       "       [18, 14, 11, 17],\n",
       "       [13, 18, 13, 17],\n",
       "       [10, 15, 16, 17]])"
      ]
     },
     "execution_count": 120,
     "metadata": {},
     "output_type": "execute_result"
    }
   ],
   "source": [
    "b[:]"
   ]
  },
  {
   "cell_type": "markdown",
   "id": "6abda58f-8d11-496c-8aff-68e1b43ec01c",
   "metadata": {},
   "source": [
    "Operation"
   ]
  },
  {
   "cell_type": "code",
   "execution_count": null,
   "id": "ca7107b0-b187-46a2-bea6-bd8361ae8b7c",
   "metadata": {},
   "outputs": [],
   "source": [
    "a=np.random.randint(10,20,10)\n",
    "a"
   ]
  },
  {
   "cell_type": "code",
   "execution_count": 125,
   "id": "8e4e16f4-3832-466b-b9c9-60abd8397b44",
   "metadata": {},
   "outputs": [
    {
     "data": {
      "text/plain": [
       "2841691133904"
      ]
     },
     "execution_count": 125,
     "metadata": {},
     "output_type": "execute_result"
    }
   ],
   "source": [
    "id(a)"
   ]
  },
  {
   "cell_type": "code",
   "execution_count": 127,
   "id": "ff831880-5f94-450a-bcae-4d84d85f60ce",
   "metadata": {
    "scrolled": true
   },
   "outputs": [
    {
     "data": {
      "text/plain": [
       "array([[86, 14, 82, 17, 79,  7, 70, 89, 19,  4, 79, 70, 18, 88, 24, 72,\n",
       "        36, 50, 49, 69],\n",
       "       [24, 22, 82,  7, 33, 32, 57, 55, 48, 91, 48, 28, 79, 34, 15, 38,\n",
       "        43, 38, 99,  3],\n",
       "       [67, 95, 13, 82, 12, 20,  9, 38, 69, 40, 82, 91, 42, 10, 63, 53,\n",
       "        10, 21, 62, 17],\n",
       "       [32, 46, 27, 13, 94,  7, 55, 10, 84, 46, 42, 82, 74, 14, 98, 58,\n",
       "        12, 84,  8, 24],\n",
       "       [86, 53, 81, 61, 55, 71, 50, 32, 39, 92, 95, 65,  0, 47, 91, 71,\n",
       "        48, 24, 66, 78],\n",
       "       [86, 40,  0, 24, 52,  2,  7, 69, 14, 13, 62, 58, 90, 35, 82, 36,\n",
       "        99, 63, 67, 93],\n",
       "       [49, 50, 81, 96, 96, 60, 99,  4, 66, 34, 45, 89, 87, 83, 11, 33,\n",
       "        73, 89, 50, 13],\n",
       "       [79, 82, 21, 54, 61, 87, 95, 64, 35, 78, 92, 78, 91, 53, 74, 13,\n",
       "        45, 79, 64, 29],\n",
       "       [62, 12, 24, 91, 46, 68, 79, 44, 27, 97, 59, 86, 18, 16,  8, 18,\n",
       "        50, 81, 11, 84],\n",
       "       [54, 86, 16, 72, 24, 87, 32, 22, 58,  1, 94,  2, 89, 31, 76, 40,\n",
       "        57, 37, 58, 12]])"
      ]
     },
     "execution_count": 127,
     "metadata": {},
     "output_type": "execute_result"
    }
   ],
   "source": [
    "arr2=np.random.randint(0,100,(10,20))\n",
    "arr2"
   ]
  },
  {
   "cell_type": "code",
   "execution_count": 129,
   "id": "732fce29-5cad-4b90-b677-48087028cc1b",
   "metadata": {},
   "outputs": [
    {
     "data": {
      "text/plain": [
       "array([[67, 95, 13, 82, 12, 20,  9, 38, 69, 40, 82, 91, 42, 10, 63, 53,\n",
       "        10, 21, 62, 17],\n",
       "       [32, 46, 27, 13, 94,  7, 55, 10, 84, 46, 42, 82, 74, 14, 98, 58,\n",
       "        12, 84,  8, 24]])"
      ]
     },
     "execution_count": 129,
     "metadata": {},
     "output_type": "execute_result"
    }
   ],
   "source": [
    "arr2[2:4]"
   ]
  },
  {
   "cell_type": "code",
   "execution_count": 131,
   "id": "dac457c3-f2c1-424e-b057-8b09d40916a9",
   "metadata": {},
   "outputs": [
    {
     "data": {
      "text/plain": [
       "array([], shape=(0, 20), dtype=int32)"
      ]
     },
     "execution_count": 131,
     "metadata": {},
     "output_type": "execute_result"
    }
   ],
   "source": [
    "arr2[5:4]"
   ]
  },
  {
   "cell_type": "code",
   "execution_count": 133,
   "id": "a0ea6c57-f23c-443f-a9e6-0d5f810a8825",
   "metadata": {},
   "outputs": [
    {
     "data": {
      "text/plain": [
       "array([[32, 46, 27, 13, 94,  7, 55, 10, 84, 46, 42, 82, 74, 14, 98, 58,\n",
       "        12, 84,  8, 24],\n",
       "       [86, 53, 81, 61, 55, 71, 50, 32, 39, 92, 95, 65,  0, 47, 91, 71,\n",
       "        48, 24, 66, 78],\n",
       "       [86, 40,  0, 24, 52,  2,  7, 69, 14, 13, 62, 58, 90, 35, 82, 36,\n",
       "        99, 63, 67, 93],\n",
       "       [49, 50, 81, 96, 96, 60, 99,  4, 66, 34, 45, 89, 87, 83, 11, 33,\n",
       "        73, 89, 50, 13],\n",
       "       [79, 82, 21, 54, 61, 87, 95, 64, 35, 78, 92, 78, 91, 53, 74, 13,\n",
       "        45, 79, 64, 29],\n",
       "       [62, 12, 24, 91, 46, 68, 79, 44, 27, 97, 59, 86, 18, 16,  8, 18,\n",
       "        50, 81, 11, 84],\n",
       "       [54, 86, 16, 72, 24, 87, 32, 22, 58,  1, 94,  2, 89, 31, 76, 40,\n",
       "        57, 37, 58, 12]])"
      ]
     },
     "execution_count": 133,
     "metadata": {},
     "output_type": "execute_result"
    }
   ],
   "source": [
    "arr2[3:] #from 3rd row"
   ]
  },
  {
   "cell_type": "code",
   "execution_count": 138,
   "id": "e8420486-899a-450f-93e7-e5099c22f404",
   "metadata": {},
   "outputs": [
    {
     "data": {
      "text/plain": [
       "99"
      ]
     },
     "execution_count": 138,
     "metadata": {},
     "output_type": "execute_result"
    }
   ],
   "source": [
    "arr2.max()"
   ]
  },
  {
   "cell_type": "code",
   "execution_count": 142,
   "id": "18bfb648-8ea1-4474-bb5d-3a0cdbf59be4",
   "metadata": {},
   "outputs": [
    {
     "data": {
      "text/plain": [
       "0"
      ]
     },
     "execution_count": 142,
     "metadata": {},
     "output_type": "execute_result"
    }
   ],
   "source": [
    "arr2.min()"
   ]
  },
  {
   "cell_type": "code",
   "execution_count": 147,
   "id": "4806f1cc-e2d6-4795-81df-0940c7fbb11b",
   "metadata": {},
   "outputs": [
    {
     "data": {
      "text/plain": [
       "51.56"
      ]
     },
     "execution_count": 147,
     "metadata": {},
     "output_type": "execute_result"
    }
   ],
   "source": [
    "arr2.mean()"
   ]
  },
  {
   "cell_type": "code",
   "execution_count": 151,
   "id": "b164fa90-8301-42e4-a896-6700e925ed87",
   "metadata": {},
   "outputs": [
    {
     "ename": "AttributeError",
     "evalue": "'numpy.ndarray' object has no attribute 'median'",
     "output_type": "error",
     "traceback": [
      "\u001b[1;31m---------------------------------------------------------------------------\u001b[0m",
      "\u001b[1;31mAttributeError\u001b[0m                            Traceback (most recent call last)",
      "Cell \u001b[1;32mIn[151], line 1\u001b[0m\n\u001b[1;32m----> 1\u001b[0m arr2\u001b[38;5;241m.\u001b[39mmedian()\n",
      "\u001b[1;31mAttributeError\u001b[0m: 'numpy.ndarray' object has no attribute 'median'"
     ]
    }
   ],
   "source": [
    "arr2.median()"
   ]
  },
  {
   "cell_type": "code",
   "execution_count": 157,
   "id": "3591dbcd-0944-4b04-b2fc-f766510c1391",
   "metadata": {},
   "outputs": [
    {
     "data": {
      "text/plain": [
       "3.0"
      ]
     },
     "execution_count": 157,
     "metadata": {},
     "output_type": "execute_result"
    }
   ],
   "source": [
    "from numpy import*\n",
    "a=array([1,2,3,4,9])\n",
    "median(a)"
   ]
  },
  {
   "cell_type": "code",
   "execution_count": 168,
   "id": "837bf0ed-5a4f-45da-b3a8-b116559ef99e",
   "metadata": {},
   "outputs": [
    {
     "ename": "ValueError",
     "evalue": "cannot reshape array of size 200 into shape (2,3)",
     "output_type": "error",
     "traceback": [
      "\u001b[1;31m---------------------------------------------------------------------------\u001b[0m",
      "\u001b[1;31mValueError\u001b[0m                                Traceback (most recent call last)",
      "Cell \u001b[1;32mIn[168], line 1\u001b[0m\n\u001b[1;32m----> 1\u001b[0m arr2\u001b[38;5;241m.\u001b[39mreshape(\u001b[38;5;241m2\u001b[39m,\u001b[38;5;241m3\u001b[39m,order\u001b[38;5;241m=\u001b[39m\u001b[38;5;124m'\u001b[39m\u001b[38;5;124mc\u001b[39m\u001b[38;5;124m'\u001b[39m)\n",
      "\u001b[1;31mValueError\u001b[0m: cannot reshape array of size 200 into shape (2,3)"
     ]
    }
   ],
   "source": [
    "arr2.reshape(2,3,order='c')"
   ]
  },
  {
   "cell_type": "code",
   "execution_count": 172,
   "id": "3194f305-9805-47cf-9a31-fac7e7ba4724",
   "metadata": {},
   "outputs": [],
   "source": [
    "mat=np.arange(0,100).reshape(10,10)"
   ]
  },
  {
   "cell_type": "code",
   "execution_count": null,
   "id": "7c542661-ba5c-4d11-8b7a-1b5d32ddd37f",
   "metadata": {},
   "outputs": [],
   "source": []
  }
 ],
 "metadata": {
  "kernelspec": {
   "display_name": "Python [conda env:base] *",
   "language": "python",
   "name": "conda-base-py"
  },
  "language_info": {
   "codemirror_mode": {
    "name": "ipython",
    "version": 3
   },
   "file_extension": ".py",
   "mimetype": "text/x-python",
   "name": "python",
   "nbconvert_exporter": "python",
   "pygments_lexer": "ipython3",
   "version": "3.12.7"
  }
 },
 "nbformat": 4,
 "nbformat_minor": 5
}
