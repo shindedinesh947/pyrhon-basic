{
 "cells": [
  {
   "cell_type": "markdown",
   "id": "0ca1778d-00c8-4d3f-9c98-2477851d01a1",
   "metadata": {},
   "source": [
    "## defined in () round brackets seprated by comma."
   ]
  },
  {
   "cell_type": "markdown",
   "id": "3679400d-69c8-4a51-90c2-460b4af09047",
   "metadata": {},
   "source": [
    "## tuple is immutable"
   ]
  },
  {
   "cell_type": "markdown",
   "id": "f55378b8-aee3-4ff6-b103-73b6e84fe54c",
   "metadata": {},
   "source": [
    "* multiple data types allowed\n",
    "* duplicates are allowed\n",
    "* indexing is allowed\n",
    "* slicing is allowed"
   ]
  },
  {
   "cell_type": "code",
   "execution_count": 11,
   "id": "0159bbf8-5a51-4be8-afdd-b536c5f04500",
   "metadata": {},
   "outputs": [
    {
     "data": {
      "text/plain": [
       "()"
      ]
     },
     "execution_count": 11,
     "metadata": {},
     "output_type": "execute_result"
    }
   ],
   "source": [
    "t=()\n",
    "t"
   ]
  },
  {
   "cell_type": "code",
   "execution_count": 13,
   "id": "1299df8a-5f2b-43db-8ab3-1c23dc8d0091",
   "metadata": {},
   "outputs": [
    {
     "data": {
      "text/plain": [
       "tuple"
      ]
     },
     "execution_count": 13,
     "metadata": {},
     "output_type": "execute_result"
    }
   ],
   "source": [
    "type(t)"
   ]
  },
  {
   "cell_type": "code",
   "execution_count": 15,
   "id": "7c8a1773-f21a-4276-9bf6-6d6d2783434d",
   "metadata": {},
   "outputs": [
    {
     "data": {
      "text/plain": [
       "int"
      ]
     },
     "execution_count": 15,
     "metadata": {},
     "output_type": "execute_result"
    }
   ],
   "source": [
    "a10=7\n",
    "type(a10)"
   ]
  },
  {
   "cell_type": "code",
   "execution_count": 17,
   "id": "9ab4f526-8cd7-44fb-9fc1-977448855ddc",
   "metadata": {},
   "outputs": [
    {
     "data": {
      "text/plain": [
       "(3, 4, 5, 6, 7)"
      ]
     },
     "execution_count": 17,
     "metadata": {},
     "output_type": "execute_result"
    }
   ],
   "source": [
    "t1=3,4,5,6,7\n",
    "t1"
   ]
  },
  {
   "cell_type": "code",
   "execution_count": 21,
   "id": "804d1d68-fc36-4867-8777-ba797e55773a",
   "metadata": {},
   "outputs": [
    {
     "data": {
      "text/plain": [
       "(3, 4, 5, 6)"
      ]
     },
     "execution_count": 21,
     "metadata": {},
     "output_type": "execute_result"
    }
   ],
   "source": [
    "t2=(3,4,5,6)\n",
    "t2"
   ]
  },
  {
   "cell_type": "code",
   "execution_count": 23,
   "id": "8ad26f35-fa7e-4fd7-b3fb-da9e774007f1",
   "metadata": {},
   "outputs": [
    {
     "data": {
      "text/plain": [
       "tuple"
      ]
     },
     "execution_count": 23,
     "metadata": {},
     "output_type": "execute_result"
    }
   ],
   "source": [
    "type(t2)"
   ]
  },
  {
   "cell_type": "code",
   "execution_count": 27,
   "id": "5bd29a18-31b5-4793-af1d-086492378874",
   "metadata": {},
   "outputs": [
    {
     "data": {
      "text/plain": [
       "1"
      ]
     },
     "execution_count": 27,
     "metadata": {},
     "output_type": "execute_result"
    }
   ],
   "source": [
    "t1.count(5) #count occurence of 5 in t1"
   ]
  },
  {
   "cell_type": "code",
   "execution_count": 29,
   "id": "cf70f7b6-9f7f-4183-bb15-06eb0cdc4f5b",
   "metadata": {},
   "outputs": [
    {
     "data": {
      "text/plain": [
       "(3, 4, 5, 6, 7)"
      ]
     },
     "execution_count": 29,
     "metadata": {},
     "output_type": "execute_result"
    }
   ],
   "source": [
    "t1"
   ]
  },
  {
   "cell_type": "code",
   "execution_count": 31,
   "id": "1b8b8076-7fa9-4a0c-b864-c3607c4157fb",
   "metadata": {},
   "outputs": [
    {
     "data": {
      "text/plain": [
       "(3, 4, 5, 6, 7)"
      ]
     },
     "execution_count": 31,
     "metadata": {},
     "output_type": "execute_result"
    }
   ],
   "source": [
    "t1"
   ]
  },
  {
   "cell_type": "code",
   "execution_count": 33,
   "id": "94f63319-caf9-4a41-88e1-82febff6795e",
   "metadata": {},
   "outputs": [
    {
     "data": {
      "text/plain": [
       "3"
      ]
     },
     "execution_count": 33,
     "metadata": {},
     "output_type": "execute_result"
    }
   ],
   "source": [
    "t1[0]"
   ]
  },
  {
   "cell_type": "code",
   "execution_count": 35,
   "id": "dbae9d58-7116-4a81-86fe-0380cef8440e",
   "metadata": {},
   "outputs": [
    {
     "data": {
      "text/plain": [
       "[400, 300, 20]"
      ]
     },
     "execution_count": 35,
     "metadata": {},
     "output_type": "execute_result"
    }
   ],
   "source": [
    "l=[400,300,20] # list is mutable\n",
    "l"
   ]
  },
  {
   "cell_type": "code",
   "execution_count": 41,
   "id": "72d16b80-1b84-4dc7-84a0-ebeb1f1cd8ce",
   "metadata": {},
   "outputs": [],
   "source": [
    "l[0]=10"
   ]
  },
  {
   "cell_type": "code",
   "execution_count": 43,
   "id": "909b0ef4-4527-4705-9f2e-801dd16119c9",
   "metadata": {},
   "outputs": [
    {
     "data": {
      "text/plain": [
       "[10, 300, 20]"
      ]
     },
     "execution_count": 43,
     "metadata": {},
     "output_type": "execute_result"
    }
   ],
   "source": [
    "l"
   ]
  },
  {
   "cell_type": "code",
   "execution_count": 47,
   "id": "064e495a-1792-4d2a-844d-b1c42af1ba1a",
   "metadata": {},
   "outputs": [
    {
     "data": {
      "text/plain": [
       "(234, 'cizp456', 4567)"
      ]
     },
     "execution_count": 47,
     "metadata": {},
     "output_type": "execute_result"
    }
   ],
   "source": [
    "icici=(234,'cizp456',4567)\n",
    "icici"
   ]
  },
  {
   "cell_type": "code",
   "execution_count": 49,
   "id": "6b59016c-e5f7-4f7f-a248-80256e8e644d",
   "metadata": {},
   "outputs": [
    {
     "data": {
      "text/plain": [
       "(3, 4, 5, 6, 7)"
      ]
     },
     "execution_count": 49,
     "metadata": {},
     "output_type": "execute_result"
    }
   ],
   "source": [
    "t1"
   ]
  },
  {
   "cell_type": "code",
   "execution_count": 51,
   "id": "dc89cbb2-3ef5-4039-bc09-ddad768a6b42",
   "metadata": {},
   "outputs": [
    {
     "data": {
      "text/plain": [
       "(3, 4, 5, 6, 7, 3, 4, 5, 6, 7, 3, 4, 5, 6, 7)"
      ]
     },
     "execution_count": 51,
     "metadata": {},
     "output_type": "execute_result"
    }
   ],
   "source": [
    "t1*3 #print for 3times, no multiplication coz tuple is immutable"
   ]
  },
  {
   "cell_type": "code",
   "execution_count": 53,
   "id": "e312ec64-4ae7-4d9c-88fe-daf361955c8f",
   "metadata": {},
   "outputs": [
    {
     "data": {
      "text/plain": [
       "1"
      ]
     },
     "execution_count": 53,
     "metadata": {},
     "output_type": "execute_result"
    }
   ],
   "source": [
    "t1.index(4) #return index of 4"
   ]
  },
  {
   "cell_type": "code",
   "execution_count": 55,
   "id": "e54f8e9a-e183-4b79-b355-dca427a7449e",
   "metadata": {},
   "outputs": [
    {
     "data": {
      "text/plain": [
       "(3, 4, 5, 6, 7)"
      ]
     },
     "execution_count": 55,
     "metadata": {},
     "output_type": "execute_result"
    }
   ],
   "source": [
    "t1[:]"
   ]
  },
  {
   "cell_type": "code",
   "execution_count": 57,
   "id": "a6c0c0e8-fb44-4553-a8da-35f4b3565025",
   "metadata": {},
   "outputs": [
    {
     "data": {
      "text/plain": [
       "(3, 4, 5, 6, 7)"
      ]
     },
     "execution_count": 57,
     "metadata": {},
     "output_type": "execute_result"
    }
   ],
   "source": [
    "t1"
   ]
  },
  {
   "cell_type": "code",
   "execution_count": 59,
   "id": "81071e79-6b27-489a-9d2f-16bafe844db2",
   "metadata": {},
   "outputs": [
    {
     "data": {
      "text/plain": [
       "(5, 6, 7)"
      ]
     },
     "execution_count": 59,
     "metadata": {},
     "output_type": "execute_result"
    }
   ],
   "source": [
    "t1[2:] #print element  from 2nd index"
   ]
  },
  {
   "cell_type": "code",
   "execution_count": 61,
   "id": "0e70b5f9-6bdf-4699-8383-4ad348722392",
   "metadata": {},
   "outputs": [
    {
     "data": {
      "text/plain": [
       "(3, 4, 5, 6, 7)"
      ]
     },
     "execution_count": 61,
     "metadata": {},
     "output_type": "execute_result"
    }
   ],
   "source": [
    "t1"
   ]
  },
  {
   "cell_type": "code",
   "execution_count": 63,
   "id": "a2b93b73-409b-4674-b95f-c096b39009ff",
   "metadata": {},
   "outputs": [
    {
     "data": {
      "text/plain": [
       "(3, 4, 5, 6, 7)"
      ]
     },
     "execution_count": 63,
     "metadata": {},
     "output_type": "execute_result"
    }
   ],
   "source": [
    "t1[:10]"
   ]
  },
  {
   "cell_type": "code",
   "execution_count": 65,
   "id": "5863b470-43f9-46ab-bfbc-badf7edf1fab",
   "metadata": {},
   "outputs": [
    {
     "name": "stdout",
     "output_type": "stream",
     "text": [
      "3\n",
      "4\n",
      "5\n",
      "6\n",
      "7\n"
     ]
    }
   ],
   "source": [
    "for i in t1:\n",
    "    print(i)"
   ]
  },
  {
   "cell_type": "code",
   "execution_count": 67,
   "id": "44b525fe-36a1-45e2-a42d-4a00155b2aa3",
   "metadata": {},
   "outputs": [
    {
     "name": "stdout",
     "output_type": "stream",
     "text": [
      "(0, 3)\n",
      "(1, 4)\n",
      "(2, 5)\n",
      "(3, 6)\n",
      "(4, 7)\n"
     ]
    }
   ],
   "source": [
    "for i in enumerate(t1):\n",
    "    print(i)"
   ]
  },
  {
   "cell_type": "code",
   "execution_count": 69,
   "id": "3f157b46-cf84-4249-9fe7-b75227445767",
   "metadata": {},
   "outputs": [
    {
     "data": {
      "text/plain": [
       "(10, 10)"
      ]
     },
     "execution_count": 69,
     "metadata": {},
     "output_type": "execute_result"
    }
   ],
   "source": [
    "t2=(10,10)\n",
    "t2"
   ]
  },
  {
   "cell_type": "code",
   "execution_count": 71,
   "id": "b3e16550-29ab-4711-b958-a49617212d20",
   "metadata": {},
   "outputs": [],
   "source": [
    "t5=('int',45)"
   ]
  },
  {
   "cell_type": "code",
   "execution_count": 73,
   "id": "dde2d076-6942-449a-87f5-e215d0680156",
   "metadata": {},
   "outputs": [
    {
     "data": {
      "text/plain": [
       "tuple"
      ]
     },
     "execution_count": 73,
     "metadata": {},
     "output_type": "execute_result"
    }
   ],
   "source": [
    "type(t5)"
   ]
  },
  {
   "cell_type": "code",
   "execution_count": 79,
   "id": "a418859b-2573-4b9c-bbb5-efeb4874c0cd",
   "metadata": {},
   "outputs": [
    {
     "data": {
      "text/plain": [
       "'int'"
      ]
     },
     "execution_count": 79,
     "metadata": {},
     "output_type": "execute_result"
    }
   ],
   "source": [
    "t5[0]"
   ]
  },
  {
   "cell_type": "code",
   "execution_count": 81,
   "id": "1846ccaa-0639-4062-92ec-cef444e69a8a",
   "metadata": {},
   "outputs": [
    {
     "name": "stdout",
     "output_type": "stream",
     "text": [
      "i\n",
      "n\n",
      "t\n"
     ]
    }
   ],
   "source": [
    "print(t5[0][0])\n",
    "print(t5[0][1])\n",
    "print(t5[0][2])"
   ]
  },
  {
   "cell_type": "markdown",
   "id": "2b60c4a5-aee8-40ce-9eb9-953cdc771e46",
   "metadata": {},
   "source": [
    "## Tuple creation"
   ]
  },
  {
   "cell_type": "code",
   "execution_count": 16,
   "id": "6f6d4aff-5386-4b48-93e5-7e3843d96761",
   "metadata": {},
   "outputs": [],
   "source": [
    "tup1=() #empty tuple"
   ]
  },
  {
   "cell_type": "code",
   "execution_count": 18,
   "id": "dae0777f-7edb-4feb-8849-4e97fdf76589",
   "metadata": {},
   "outputs": [],
   "source": [
    "tup2=(10,30,60)  #tuple of interger numbers "
   ]
  },
  {
   "cell_type": "code",
   "execution_count": 20,
   "id": "b5d114ca-0af8-45ee-8709-b5f87b2f2a12",
   "metadata": {},
   "outputs": [],
   "source": [
    "tup3=(10,77,30,66,60,89) #tuple of float numbers"
   ]
  },
  {
   "cell_type": "code",
   "execution_count": 22,
   "id": "9a7b3b2a-86e3-4525-9ca3-9072e7cf1a29",
   "metadata": {},
   "outputs": [],
   "source": [
    "tup4=('one','two','three') #tuple of string"
   ]
  },
  {
   "cell_type": "code",
   "execution_count": 24,
   "id": "3cfea048-6260-4e57-a7b4-fdb55d7697f9",
   "metadata": {},
   "outputs": [],
   "source": [
    "tup5=('Asif',25,(50,100),(150,90))  #nested tuples"
   ]
  },
  {
   "cell_type": "code",
   "execution_count": 26,
   "id": "d4d6a562-6c58-46ab-bc7b-703d4e0ccf3e",
   "metadata": {},
   "outputs": [],
   "source": [
    "tup6=(100,'Asif',17.765)   #tuple of mixed data types"
   ]
  },
  {
   "cell_type": "code",
   "execution_count": 28,
   "id": "e37c24ce-3767-4399-b096-29e4d3070100",
   "metadata": {},
   "outputs": [],
   "source": [
    "tup7=('Asif',25,[50,100],[150,90],{'john','david'},(99,22,33))"
   ]
  },
  {
   "cell_type": "code",
   "execution_count": 30,
   "id": "654c2d9e-8192-4368-9ef7-9835fe483c90",
   "metadata": {},
   "outputs": [
    {
     "data": {
      "text/plain": [
       "6"
      ]
     },
     "execution_count": 30,
     "metadata": {},
     "output_type": "execute_result"
    }
   ],
   "source": [
    "len(tup7) #length of list "
   ]
  },
  {
   "cell_type": "markdown",
   "id": "0b1f2165-a09b-497b-9fe6-8c29de993c57",
   "metadata": {},
   "source": [
    "## tuple indexing "
   ]
  },
  {
   "cell_type": "code",
   "execution_count": 33,
   "id": "51b28ebd-03b2-4253-b769-50660e004a73",
   "metadata": {},
   "outputs": [
    {
     "data": {
      "text/plain": [
       "10"
      ]
     },
     "execution_count": 33,
     "metadata": {},
     "output_type": "execute_result"
    }
   ],
   "source": [
    "tup2[0]#print 1st element if tuple"
   ]
  },
  {
   "cell_type": "code",
   "execution_count": 35,
   "id": "9ccc9563-86e7-4979-b385-f5d19222fcee",
   "metadata": {},
   "outputs": [
    {
     "data": {
      "text/plain": [
       "'one'"
      ]
     },
     "execution_count": 35,
     "metadata": {},
     "output_type": "execute_result"
    }
   ],
   "source": [
    "tup4[0]"
   ]
  },
  {
   "cell_type": "code",
   "execution_count": 41,
   "id": "71bad241-d528-45d2-a29a-b8359ec8488f",
   "metadata": {},
   "outputs": [
    {
     "data": {
      "text/plain": [
       "'o'"
      ]
     },
     "execution_count": 41,
     "metadata": {},
     "output_type": "execute_result"
    }
   ],
   "source": [
    "tup4[0][0] #nested indexing access 1st character of first element of tuple - one :0"
   ]
  },
  {
   "cell_type": "code",
   "execution_count": 43,
   "id": "06041b6b-bf7e-4a86-9531-4e5f7d80562b",
   "metadata": {},
   "outputs": [
    {
     "data": {
      "text/plain": [
       "'three'"
      ]
     },
     "execution_count": 43,
     "metadata": {},
     "output_type": "execute_result"
    }
   ],
   "source": [
    "tup4[-1] #last item of tuple"
   ]
  },
  {
   "cell_type": "code",
   "execution_count": 45,
   "id": "18b511c7-46aa-431a-b7aa-811d81eebc3e",
   "metadata": {},
   "outputs": [
    {
     "data": {
      "text/plain": [
       "(150, 90)"
      ]
     },
     "execution_count": 45,
     "metadata": {},
     "output_type": "execute_result"
    }
   ],
   "source": [
    "tup5[-1]"
   ]
  },
  {
   "cell_type": "markdown",
   "id": "14628cc2-712f-48ec-804d-d71216254991",
   "metadata": {},
   "source": [
    "# tuple slicing "
   ]
  },
  {
   "cell_type": "code",
   "execution_count": 48,
   "id": "18d42b26-e7cc-4199-89f4-9cf7ba817656",
   "metadata": {},
   "outputs": [],
   "source": [
    "mytuple=('one','two','three','four','five','six')"
   ]
  },
  {
   "cell_type": "code",
   "execution_count": 50,
   "id": "8fd539d7-2dbf-4bb0-9fe4-e27bb025f93c",
   "metadata": {},
   "outputs": [
    {
     "data": {
      "text/plain": [
       "('one', 'two', 'three')"
      ]
     },
     "execution_count": 50,
     "metadata": {},
     "output_type": "execute_result"
    }
   ],
   "source": [
    "mytuple[0:3] #return element from 0 to 3rd index "
   ]
  },
  {
   "cell_type": "code",
   "execution_count": 65,
   "id": "e06d253a-7c4f-4453-857b-1cd6ded7ef3e",
   "metadata": {},
   "outputs": [
    {
     "data": {
      "text/plain": [
       "('three', 'four', 'five')"
      ]
     },
     "execution_count": 65,
     "metadata": {},
     "output_type": "execute_result"
    }
   ],
   "source": [
    "mytuple[2:5]"
   ]
  },
  {
   "cell_type": "code",
   "execution_count": 69,
   "id": "451c50f5-3d4c-4ab1-9e96-050de6d0910d",
   "metadata": {},
   "outputs": [
    {
     "data": {
      "text/plain": [
       "('one', 'two', 'three')"
      ]
     },
     "execution_count": 69,
     "metadata": {},
     "output_type": "execute_result"
    }
   ],
   "source": [
    "mytuple[:3] #return first three items"
   ]
  },
  {
   "cell_type": "code",
   "execution_count": 71,
   "id": "c631cd3a-9b6e-446b-bca4-434c77827e0a",
   "metadata": {},
   "outputs": [
    {
     "data": {
      "text/plain": [
       "('one', 'two')"
      ]
     },
     "execution_count": 71,
     "metadata": {},
     "output_type": "execute_result"
    }
   ],
   "source": [
    "mytuple[:2]\n"
   ]
  },
  {
   "cell_type": "code",
   "execution_count": 73,
   "id": "6d0ac0f5-c1b2-443a-975a-77322438c3c0",
   "metadata": {},
   "outputs": [
    {
     "data": {
      "text/plain": [
       "('five', 'six')"
      ]
     },
     "execution_count": 73,
     "metadata": {},
     "output_type": "execute_result"
    }
   ],
   "source": [
    "mytuple[-2:]"
   ]
  },
  {
   "cell_type": "code",
   "execution_count": 75,
   "id": "24574fc7-5a7f-4d6d-94c9-b8a7ea3c6ca0",
   "metadata": {},
   "outputs": [
    {
     "data": {
      "text/plain": [
       "'six'"
      ]
     },
     "execution_count": 75,
     "metadata": {},
     "output_type": "execute_result"
    }
   ],
   "source": [
    "mytuple[-1] #return last item"
   ]
  },
  {
   "cell_type": "code",
   "execution_count": 79,
   "id": "74ca7597-ae1f-42aa-a3c3-3f88c7a31acb",
   "metadata": {},
   "outputs": [
    {
     "data": {
      "text/plain": [
       "('one', 'two', 'three', 'four', 'five', 'six')"
      ]
     },
     "execution_count": 79,
     "metadata": {},
     "output_type": "execute_result"
    }
   ],
   "source": [
    "mytuple[:] #whole tuples"
   ]
  },
  {
   "cell_type": "markdown",
   "id": "af2dc8ab-7ecb-422f-98d7-515c6577fcc6",
   "metadata": {},
   "source": [
    "# Remove & change items "
   ]
  },
  {
   "cell_type": "code",
   "execution_count": 85,
   "id": "49af308b-c2ce-4cd0-8469-708c9f3c3e04",
   "metadata": {},
   "outputs": [
    {
     "data": {
      "text/plain": [
       "('one', 'two', 'three', 'four', 'five', 'six')"
      ]
     },
     "execution_count": 85,
     "metadata": {},
     "output_type": "execute_result"
    }
   ],
   "source": [
    "mytuple"
   ]
  },
  {
   "cell_type": "code",
   "execution_count": 89,
   "id": "46e220fb-37c5-4c56-b314-9b53990747fd",
   "metadata": {},
   "outputs": [
    {
     "ename": "TypeError",
     "evalue": "'tuple' object doesn't support item deletion",
     "output_type": "error",
     "traceback": [
      "\u001b[1;31m---------------------------------------------------------------------------\u001b[0m",
      "\u001b[1;31mTypeError\u001b[0m                                 Traceback (most recent call last)",
      "Cell \u001b[1;32mIn[89], line 1\u001b[0m\n\u001b[1;32m----> 1\u001b[0m \u001b[38;5;28;01mdel\u001b[39;00m mytuple[\u001b[38;5;241m0\u001b[39m]\n",
      "\u001b[1;31mTypeError\u001b[0m: 'tuple' object doesn't support item deletion"
     ]
    }
   ],
   "source": [
    "del mytuple[0] #tuple are immutable means we can't delete tuple items "
   ]
  },
  {
   "cell_type": "code",
   "execution_count": 91,
   "id": "5738b93f-f9e4-405e-b07d-c909d102b7e0",
   "metadata": {},
   "outputs": [],
   "source": [
    "del mytuple # deleting entiere tuple object is possible "
   ]
  },
  {
   "cell_type": "markdown",
   "id": "770e1ce7-c6e5-4533-bbd1-2252d009e31d",
   "metadata": {},
   "source": [
    "## loop through a tuple "
   ]
  },
  {
   "cell_type": "code",
   "execution_count": 96,
   "id": "28a16757-be7f-4f31-b686-4d117eaff8d1",
   "metadata": {},
   "outputs": [],
   "source": [
    "mytuple=('one','two','three','four','five','six','seven','eigth')"
   ]
  },
  {
   "cell_type": "code",
   "execution_count": 98,
   "id": "df1319e4-09f9-48d2-afda-ad10ceba5b4b",
   "metadata": {},
   "outputs": [
    {
     "name": "stdout",
     "output_type": "stream",
     "text": [
      "one\n",
      "two\n",
      "three\n",
      "four\n",
      "five\n",
      "six\n",
      "seven\n",
      "eigth\n"
     ]
    }
   ],
   "source": [
    "for i in mytuple: print(i)"
   ]
  },
  {
   "cell_type": "code",
   "execution_count": 100,
   "id": "2c77ccea-3200-439c-8b30-c9f37a9bca8d",
   "metadata": {},
   "outputs": [
    {
     "name": "stdout",
     "output_type": "stream",
     "text": [
      "(0, 'one')\n",
      "(1, 'two')\n",
      "(2, 'three')\n",
      "(3, 'four')\n",
      "(4, 'five')\n",
      "(5, 'six')\n",
      "(6, 'seven')\n",
      "(7, 'eigth')\n"
     ]
    }
   ],
   "source": [
    "for i in enumerate (mytuple):\n",
    "    print(i)"
   ]
  },
  {
   "cell_type": "markdown",
   "id": "ae51f1f3-a10d-4459-a097-792fd13d870d",
   "metadata": {},
   "source": [
    "# Tuple Membership\n",
    "\n"
   ]
  },
  {
   "cell_type": "code",
   "execution_count": 103,
   "id": "dcb32158-6be5-4ca3-95b1-e68d4ca060f7",
   "metadata": {},
   "outputs": [
    {
     "data": {
      "text/plain": [
       "('one', 'two', 'three', 'four', 'five', 'six', 'seven', 'eigth')"
      ]
     },
     "execution_count": 103,
     "metadata": {},
     "output_type": "execute_result"
    }
   ],
   "source": [
    "mytuple "
   ]
  },
  {
   "cell_type": "code",
   "execution_count": 105,
   "id": "83d48a4b-d78d-4ee0-b2f7-af0ff075a09f",
   "metadata": {},
   "outputs": [
    {
     "data": {
      "text/plain": [
       "True"
      ]
     },
     "execution_count": 105,
     "metadata": {},
     "output_type": "execute_result"
    }
   ],
   "source": [
    "'one' in mytuple #check if 'one' exist in list "
   ]
  },
  {
   "cell_type": "code",
   "execution_count": 107,
   "id": "e9fade32-6051-4320-a17d-fbb10d7c01cb",
   "metadata": {},
   "outputs": [
    {
     "data": {
      "text/plain": [
       "False"
      ]
     },
     "execution_count": 107,
     "metadata": {},
     "output_type": "execute_result"
    }
   ],
   "source": [
    "'ten' in mytuple "
   ]
  },
  {
   "cell_type": "code",
   "execution_count": 109,
   "id": "127f9b97-7884-4a25-bcf0-4c605d91f264",
   "metadata": {},
   "outputs": [
    {
     "name": "stdout",
     "output_type": "stream",
     "text": [
      "three is present in the tuple\n"
     ]
    }
   ],
   "source": [
    "if 'three' in mytuple:\n",
    "    print('three is present in the tuple')\n",
    "else:\n",
    "    print('three is present in the tuple')"
   ]
  },
  {
   "cell_type": "code",
   "execution_count": 117,
   "id": "acd7dd53-2b79-4430-91db-581d861b2dd7",
   "metadata": {},
   "outputs": [
    {
     "name": "stdout",
     "output_type": "stream",
     "text": [
      "eleven is not present in the tuple\n"
     ]
    }
   ],
   "source": [
    "if'eleven' in mytuple:\n",
    "    print('eleven is present in the tuple')\n",
    "else:\n",
    "    print('eleven is not present in the tuple')"
   ]
  },
  {
   "cell_type": "markdown",
   "id": "de7499a8-930e-49b0-849c-e7e18cefecd0",
   "metadata": {},
   "source": [
    "# index position"
   ]
  },
  {
   "cell_type": "code",
   "execution_count": 120,
   "id": "de4c593c-a1f0-44d1-b4d4-e4f2cbc834f4",
   "metadata": {},
   "outputs": [
    {
     "data": {
      "text/plain": [
       "('one', 'two', 'three', 'four', 'five', 'six', 'seven', 'eigth')"
      ]
     },
     "execution_count": 120,
     "metadata": {},
     "output_type": "execute_result"
    }
   ],
   "source": [
    "mytuple "
   ]
  },
  {
   "cell_type": "code",
   "execution_count": 126,
   "id": "80fbc8b9-aaf5-46ae-bf64-a770b1f78060",
   "metadata": {},
   "outputs": [
    {
     "data": {
      "text/plain": [
       "0"
      ]
     },
     "execution_count": 126,
     "metadata": {},
     "output_type": "execute_result"
    }
   ],
   "source": [
    "mytuple.index ('one') # INDEX OF 'ONE' "
   ]
  },
  {
   "cell_type": "code",
   "execution_count": 128,
   "id": "a9593cdc-2903-4d3c-a9d8-1a32fc0f1c69",
   "metadata": {},
   "outputs": [
    {
     "data": {
      "text/plain": [
       "2"
      ]
     },
     "execution_count": 128,
     "metadata": {},
     "output_type": "execute_result"
    }
   ],
   "source": [
    "mytuple.index ('three')"
   ]
  },
  {
   "cell_type": "code",
   "execution_count": 132,
   "id": "60d9a0e4-a22f-440e-8423-68e8a9760a7d",
   "metadata": {},
   "outputs": [],
   "source": [
    "\n",
    "mytuple=('one','two','three','four','one','one','two','three')"
   ]
  },
  {
   "cell_type": "code",
   "execution_count": 138,
   "id": "f38b4b0d-b895-4909-b959-82b0e3b01a2f",
   "metadata": {},
   "outputs": [
    {
     "data": {
      "text/plain": [
       "0"
      ]
     },
     "execution_count": 138,
     "metadata": {},
     "output_type": "execute_result"
    }
   ],
   "source": [
    "mytuple . index('one')"
   ]
  },
  {
   "cell_type": "markdown",
   "id": "a75d8b70-c7b0-42ba-b461-3a0f98a027bf",
   "metadata": {},
   "source": [
    "# sorthing"
   ]
  },
  {
   "cell_type": "code",
   "execution_count": 141,
   "id": "f4093af2-9006-48f5-8088-ee39e3782e05",
   "metadata": {},
   "outputs": [],
   "source": [
    "mytuple2=(43,67,99,12,6,90,67)"
   ]
  },
  {
   "cell_type": "code",
   "execution_count": 143,
   "id": "5bf7aadf-9f37-4da7-984d-63c5be1a8a02",
   "metadata": {},
   "outputs": [
    {
     "data": {
      "text/plain": [
       "[6, 12, 43, 67, 67, 90, 99]"
      ]
     },
     "execution_count": 143,
     "metadata": {},
     "output_type": "execute_result"
    }
   ],
   "source": [
    "sorted(mytuple2)"
   ]
  },
  {
   "cell_type": "code",
   "execution_count": 149,
   "id": "cca0ecd5-54ae-41ea-ae85-66404ec8d71a",
   "metadata": {},
   "outputs": [
    {
     "data": {
      "text/plain": [
       "[99, 90, 67, 67, 43, 12, 6]"
      ]
     },
     "execution_count": 149,
     "metadata": {},
     "output_type": "execute_result"
    }
   ],
   "source": [
    "sorted (mytuple2,reverse=True)"
   ]
  },
  {
   "cell_type": "code",
   "execution_count": null,
   "id": "4ec1133b-c1f5-4484-8306-2c9ca8b84f3d",
   "metadata": {},
   "outputs": [],
   "source": []
  }
 ],
 "metadata": {
  "kernelspec": {
   "display_name": "Python [conda env:base] *",
   "language": "python",
   "name": "conda-base-py"
  },
  "language_info": {
   "codemirror_mode": {
    "name": "ipython",
    "version": 3
   },
   "file_extension": ".py",
   "mimetype": "text/x-python",
   "name": "python",
   "nbconvert_exporter": "python",
   "pygments_lexer": "ipython3",
   "version": "3.12.7"
  }
 },
 "nbformat": 4,
 "nbformat_minor": 5
}
